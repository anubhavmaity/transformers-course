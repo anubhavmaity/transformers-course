{
 "cells": [
  {
   "cell_type": "markdown",
   "id": "6f79f175-d04b-43b7-9cd1-1908c7c96a96",
   "metadata": {},
   "source": [
    "# Non HF Dataset Replicate"
   ]
  },
  {
   "cell_type": "markdown",
   "id": "edad0578-b777-464f-a32d-12f8f775364e",
   "metadata": {},
   "source": [
    "We will pick the [Chineese Ancient Name Corpus](https://github.com/wainshine/Chinese-Names-Corpus/blob/master/Chinese_Names_Corpus/Ancient_Names_Corpus%EF%BC%8825W%EF%BC%89.txt) for this exercise"
   ]
  },
  {
   "cell_type": "code",
   "execution_count": 12,
   "id": "818f0f78-37d2-438a-b398-07bec99acf38",
   "metadata": {},
   "outputs": [],
   "source": [
    "from datasets import load_dataset"
   ]
  },
  {
   "cell_type": "code",
   "execution_count": 23,
   "id": "3844717a-503a-4d5e-a944-2c97d281473c",
   "metadata": {},
   "outputs": [],
   "source": [
    "url = \"https://raw.githubusercontent.com/wainshine/Chinese-Names-Corpus/master/Chinese_Names_Corpus/Ancient_Names_Corpus%EF%BC%8825W%EF%BC%89.txt\""
   ]
  },
  {
   "cell_type": "code",
   "execution_count": 24,
   "id": "c9b6d15d-31f4-4a5e-8616-86d723a704cf",
   "metadata": {},
   "outputs": [],
   "source": [
    "ds = load_dataset(\"text\", data_files = url)"
   ]
  },
  {
   "cell_type": "code",
   "execution_count": 25,
   "id": "e8f21f2e-dd76-4036-b98f-91f8e8430bdb",
   "metadata": {},
   "outputs": [
    {
     "data": {
      "text/plain": [
       "DatasetDict({\n",
       "    train: Dataset({\n",
       "        features: ['text'],\n",
       "        num_rows: 255355\n",
       "    })\n",
       "})"
      ]
     },
     "execution_count": 25,
     "metadata": {},
     "output_type": "execute_result"
    }
   ],
   "source": [
    "ds"
   ]
  },
  {
   "cell_type": "code",
   "execution_count": 26,
   "id": "03555811-b205-47b5-a73e-78b65765eeb1",
   "metadata": {},
   "outputs": [
    {
     "data": {
      "text/plain": [
       "{'text': ['阿八哈', '阿巴雅', '阿班羅桑曲殿', '阿般圖', '阿保', '阿倍仲麻呂', '阿必察']}"
      ]
     },
     "execution_count": 26,
     "metadata": {},
     "output_type": "execute_result"
    }
   ],
   "source": [
    "ds['train'][3:10]"
   ]
  },
  {
   "cell_type": "code",
   "execution_count": null,
   "id": "f052f2da-3350-475a-ad66-dd1e3e3d8b01",
   "metadata": {},
   "outputs": [],
   "source": []
  }
 ],
 "metadata": {
  "kernelspec": {
   "display_name": "transformers-course",
   "language": "python",
   "name": "transformers-course"
  },
  "language_info": {
   "codemirror_mode": {
    "name": "ipython",
    "version": 3
   },
   "file_extension": ".py",
   "mimetype": "text/x-python",
   "name": "python",
   "nbconvert_exporter": "python",
   "pygments_lexer": "ipython3",
   "version": "3.9.17"
  }
 },
 "nbformat": 4,
 "nbformat_minor": 5
}
