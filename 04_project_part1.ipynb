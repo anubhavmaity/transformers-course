{
 "cells": [
  {
   "cell_type": "markdown",
   "id": "47cda271-48b9-497e-b019-454d8e6e2da7",
   "metadata": {},
   "source": [
    "# Movie Genre Predictions with Hugging Face Transformers"
   ]
  },
  {
   "cell_type": "markdown",
   "id": "870e98db-5a17-4807-b4f4-8957e22a0ef7",
   "metadata": {},
   "source": [
    "Install the following packages by uncommenting the following if not installed already"
   ]
  },
  {
   "cell_type": "code",
   "execution_count": 1,
   "id": "039253e3-9407-4fa1-bcc8-0d7849084cd1",
   "metadata": {},
   "outputs": [],
   "source": [
    "# !pip install datasets\n",
    "# !pip install transformers\n",
    "# !pip install huggingface_hub\n",
    "# !pip install rich\n",
    "# !pip install accelerate -U"
   ]
  },
  {
   "cell_type": "markdown",
   "id": "f388328a-6fca-4644-b669-a4993bbad10c",
   "metadata": {},
   "source": [
    "Following are the steps to create hugging face credentials token which be needed when using `notebook_login` below\n",
    "\n",
    "1. **Create a Hugging Face account (if you don't have one)**: If you don't already have an account on the Hugging Face website, you'll need to create one. Visit the Hugging Face website (https://huggingface.co/) and sign up for an account.\n",
    "2. **Log in to your Hugging Face account**: Use your credentials to log in to your Hugging Face account.\n",
    "3. **Generate an API token**: Hugging Face provides API tokens for authentication. To generate an API token, go to your account settings on the Hugging Face website. You can usually find this in your account dashboard or profile settings.\n",
    "4. **Generate the token**: Once you're in your account settings, look for an option related to API tokens or credentials. You should find an option to generate a new token. Click on it, and the system will generate a unique API token for you.\n",
    "5. **Copy the API token**: Once the token is generated, you'll typically see it displayed on the screen. It might be a long string of characters. Copy this token to your clipboard.\n",
    "6. **Store the token securely**: API tokens are sensitive credentials, so it's essential to store them securely. You should never share your API token publicly or expose it in your code repositories.\n",
    "\n",
    "Now, you have your Hugging Face API token, which you can use for authentication when making requests to the Hugging Face API or accessing resources on the Hugging Face Model Hub."
   ]
  },
  {
   "cell_type": "code",
   "execution_count": 2,
   "id": "ed975a61-db6a-434e-ad0a-968f44999d85",
   "metadata": {},
   "outputs": [
    {
     "data": {
      "application/vnd.jupyter.widget-view+json": {
       "model_id": "ad7b4d1695ad420da12e5191e3b60a1b",
       "version_major": 2,
       "version_minor": 0
      },
      "text/plain": [
       "VBox(children=(HTML(value='<center> <img\\nsrc=https://huggingface.co/front/assets/huggingface_logo-noborder.sv…"
      ]
     },
     "metadata": {},
     "output_type": "display_data"
    }
   ],
   "source": [
    "from huggingface_hub import notebook_login\n",
    "\n",
    "notebook_login()"
   ]
  },
  {
   "cell_type": "markdown",
   "id": "e063f07e-a3a8-423f-ae8c-157600970fe1",
   "metadata": {},
   "source": [
    "Lets import the following pacakges"
   ]
  },
  {
   "cell_type": "code",
   "execution_count": 3,
   "id": "db2c19e0-8f56-46da-8129-240759609915",
   "metadata": {
    "tags": []
   },
   "outputs": [
    {
     "name": "stderr",
     "output_type": "stream",
     "text": [
      "/home/ubuntu/.local/lib/python3.8/site-packages/pandas/core/computation/expressions.py:20: UserWarning: Pandas requires version '2.7.3' or newer of 'numexpr' (version '2.7.1' currently installed).\n",
      "  from pandas.core.computation.check import NUMEXPR_INSTALLED\n"
     ]
    }
   ],
   "source": [
    "from transformers import TrainingArguments, Trainer, AutoTokenizer, AutoModelForSequenceClassification\n",
    "from datasets import load_dataset\n",
    "from collections import Counter\n",
    "from rich import print"
   ]
  },
  {
   "cell_type": "markdown",
   "id": "c027fd4d-a994-4040-8840-0b3372e166f0",
   "metadata": {},
   "source": [
    "## Datasets"
   ]
  },
  {
   "cell_type": "markdown",
   "id": "92901d05-e7eb-4bbd-a4a0-cdbadd550153",
   "metadata": {},
   "source": [
    "We will be using the `datadrivenscience/movie-genre-prediction` competition dataset for model training. You can read more about the competition [here](https://huggingface.co/spaces/competitions/movie-genre-prediction) and the dataset [here](https://huggingface.co/datasets/datadrivenscience/movie-genre-prediction). "
   ]
  },
  {
   "cell_type": "code",
   "execution_count": 4,
   "id": "d4111ad0-371c-4f2e-a13e-22435c6a493c",
   "metadata": {},
   "outputs": [
    {
     "data": {
      "text/plain": [
       "DatasetDict({\n",
       "    train: Dataset({\n",
       "        features: ['id', 'movie_name', 'synopsis', 'genre'],\n",
       "        num_rows: 54000\n",
       "    })\n",
       "    test: Dataset({\n",
       "        features: ['id', 'movie_name', 'synopsis', 'genre'],\n",
       "        num_rows: 36000\n",
       "    })\n",
       "})"
      ]
     },
     "execution_count": 4,
     "metadata": {},
     "output_type": "execute_result"
    }
   ],
   "source": [
    "dataset = load_dataset(\"datadrivenscience/movie-genre-prediction\"); dataset"
   ]
  },
  {
   "cell_type": "markdown",
   "id": "5974a7f0-2068-4094-9c42-789ac8e93b2b",
   "metadata": {
    "tags": []
   },
   "source": [
    "The dataset has `train` and `test` splits with following features\n",
    "- id\n",
    "- movie name\n",
    "- synopsis\n",
    "- genre"
   ]
  },
  {
   "cell_type": "code",
   "execution_count": 5,
   "id": "acdc19ca-295a-40bb-9b24-5900639fe8a5",
   "metadata": {},
   "outputs": [
    {
     "data": {
      "text/html": [
       "<pre style=\"white-space:pre;overflow-x:auto;line-height:normal;font-family:Menlo,'DejaVu Sans Mono',consolas,'Courier New',monospace\"><span style=\"font-weight: bold\">{</span>\n",
       "    <span style=\"color: #008000; text-decoration-color: #008000\">'id'</span>: <span style=\"font-weight: bold\">[</span><span style=\"color: #008080; text-decoration-color: #008080; font-weight: bold\">44978</span>, <span style=\"color: #008080; text-decoration-color: #008080; font-weight: bold\">50185</span>, <span style=\"color: #008080; text-decoration-color: #008080; font-weight: bold\">34131</span><span style=\"font-weight: bold\">]</span>,\n",
       "    <span style=\"color: #008000; text-decoration-color: #008000\">'movie_name'</span>: <span style=\"font-weight: bold\">[</span><span style=\"color: #008000; text-decoration-color: #008000\">'Super Me'</span>, <span style=\"color: #008000; text-decoration-color: #008000\">'Entity Project'</span>, <span style=\"color: #008000; text-decoration-color: #008000\">'Behavioral Family Therapy for Serious Psychiatric Disorders'</span><span style=\"font-weight: bold\">]</span>,\n",
       "    <span style=\"color: #008000; text-decoration-color: #008000\">'synopsis'</span>: <span style=\"font-weight: bold\">[</span>\n",
       "        <span style=\"color: #008000; text-decoration-color: #008000\">'A young scriptwriter starts bringing valuable objects back from his short nightmares of being chased by a </span>\n",
       "<span style=\"color: #008000; text-decoration-color: #008000\">demon. Selling them makes him rich.'</span>,\n",
       "        <span style=\"color: #008000; text-decoration-color: #008000\">'A director and her friends renting a haunted house to capture paranormal events in order to prove it and </span>\n",
       "<span style=\"color: #008000; text-decoration-color: #008000\">become popular.'</span>,\n",
       "        <span style=\"color: #008000; text-decoration-color: #008000\">'This is an educational video for families and family therapists that describes the Behavioral Family </span>\n",
       "<span style=\"color: #008000; text-decoration-color: #008000\">Therapy approach to dealing with serious psychiatric illnesses.'</span>\n",
       "    <span style=\"font-weight: bold\">]</span>,\n",
       "    <span style=\"color: #008000; text-decoration-color: #008000\">'genre'</span>: <span style=\"font-weight: bold\">[</span><span style=\"color: #008000; text-decoration-color: #008000\">'fantasy'</span>, <span style=\"color: #008000; text-decoration-color: #008000\">'horror'</span>, <span style=\"color: #008000; text-decoration-color: #008000\">'family'</span><span style=\"font-weight: bold\">]</span>\n",
       "<span style=\"font-weight: bold\">}</span>\n",
       "</pre>\n"
      ],
      "text/plain": [
       "\u001b[1m{\u001b[0m\n",
       "    \u001b[32m'id'\u001b[0m: \u001b[1m[\u001b[0m\u001b[1;36m44978\u001b[0m, \u001b[1;36m50185\u001b[0m, \u001b[1;36m34131\u001b[0m\u001b[1m]\u001b[0m,\n",
       "    \u001b[32m'movie_name'\u001b[0m: \u001b[1m[\u001b[0m\u001b[32m'Super Me'\u001b[0m, \u001b[32m'Entity Project'\u001b[0m, \u001b[32m'Behavioral Family Therapy for Serious Psychiatric Disorders'\u001b[0m\u001b[1m]\u001b[0m,\n",
       "    \u001b[32m'synopsis'\u001b[0m: \u001b[1m[\u001b[0m\n",
       "        \u001b[32m'A young scriptwriter starts bringing valuable objects back from his short nightmares of being chased by a \u001b[0m\n",
       "\u001b[32mdemon. Selling them makes him rich.'\u001b[0m,\n",
       "        \u001b[32m'A director and her friends renting a haunted house to capture paranormal events in order to prove it and \u001b[0m\n",
       "\u001b[32mbecome popular.'\u001b[0m,\n",
       "        \u001b[32m'This is an educational video for families and family therapists that describes the Behavioral Family \u001b[0m\n",
       "\u001b[32mTherapy approach to dealing with serious psychiatric illnesses.'\u001b[0m\n",
       "    \u001b[1m]\u001b[0m,\n",
       "    \u001b[32m'genre'\u001b[0m: \u001b[1m[\u001b[0m\u001b[32m'fantasy'\u001b[0m, \u001b[32m'horror'\u001b[0m, \u001b[32m'family'\u001b[0m\u001b[1m]\u001b[0m\n",
       "\u001b[1m}\u001b[0m\n"
      ]
     },
     "metadata": {},
     "output_type": "display_data"
    }
   ],
   "source": [
    "print(dataset['train'][:3])"
   ]
  },
  {
   "cell_type": "markdown",
   "id": "823a6604-cdd8-493e-b196-06e400acbf00",
   "metadata": {},
   "source": [
    "Above we have sliced and printed 3 rows of training dataset"
   ]
  },
  {
   "cell_type": "code",
   "execution_count": 6,
   "id": "6e4f0843-8e88-44ef-880f-0c91c0385ea6",
   "metadata": {},
   "outputs": [
    {
     "data": {
      "text/html": [
       "<pre style=\"white-space:pre;overflow-x:auto;line-height:normal;font-family:Menlo,'DejaVu Sans Mono',consolas,'Courier New',monospace\"><span style=\"font-weight: bold\">{</span><span style=\"color: #008000; text-decoration-color: #008000\">'family'</span>, <span style=\"color: #008000; text-decoration-color: #008000\">'romance'</span>, <span style=\"color: #008000; text-decoration-color: #008000\">'scifi'</span>, <span style=\"color: #008000; text-decoration-color: #008000\">'horror'</span>, <span style=\"color: #008000; text-decoration-color: #008000\">'thriller'</span>, <span style=\"color: #008000; text-decoration-color: #008000\">'fantasy'</span>, <span style=\"color: #008000; text-decoration-color: #008000\">'crime'</span>, <span style=\"color: #008000; text-decoration-color: #008000\">'action'</span>, <span style=\"color: #008000; text-decoration-color: #008000\">'mystery'</span>, <span style=\"color: #008000; text-decoration-color: #008000\">'adventure'</span><span style=\"font-weight: bold\">}</span>\n",
       "</pre>\n"
      ],
      "text/plain": [
       "\u001b[1m{\u001b[0m\u001b[32m'family'\u001b[0m, \u001b[32m'romance'\u001b[0m, \u001b[32m'scifi'\u001b[0m, \u001b[32m'horror'\u001b[0m, \u001b[32m'thriller'\u001b[0m, \u001b[32m'fantasy'\u001b[0m, \u001b[32m'crime'\u001b[0m, \u001b[32m'action'\u001b[0m, \u001b[32m'mystery'\u001b[0m, \u001b[32m'adventure'\u001b[0m\u001b[1m}\u001b[0m\n"
      ]
     },
     "metadata": {},
     "output_type": "display_data"
    }
   ],
   "source": [
    "print(set(dataset['train']['genre']))"
   ]
  },
  {
   "cell_type": "markdown",
   "id": "8cbb75f7-98f4-49e6-80f9-8c107c7fe106",
   "metadata": {
    "tags": []
   },
   "source": [
    "There are 10 genres, \n",
    "- action\n",
    "- adventure\n",
    "- crime\n",
    "- family\n",
    "- fantasy\n",
    "- horror\n",
    "- mystery\n",
    "- romance\n",
    "- scifi\n",
    "- thriller"
   ]
  },
  {
   "cell_type": "code",
   "execution_count": 7,
   "id": "61271746-95a6-42d8-958c-8f29ce69178d",
   "metadata": {},
   "outputs": [
    {
     "data": {
      "text/html": [
       "<pre style=\"white-space:pre;overflow-x:auto;line-height:normal;font-family:Menlo,'DejaVu Sans Mono',consolas,'Courier New',monospace\"><span style=\"color: #800080; text-decoration-color: #800080; font-weight: bold\">Counter</span><span style=\"font-weight: bold\">({</span>\n",
       "    <span style=\"color: #008000; text-decoration-color: #008000\">'fantasy'</span>: <span style=\"color: #008080; text-decoration-color: #008080; font-weight: bold\">5400</span>,\n",
       "    <span style=\"color: #008000; text-decoration-color: #008000\">'horror'</span>: <span style=\"color: #008080; text-decoration-color: #008080; font-weight: bold\">5400</span>,\n",
       "    <span style=\"color: #008000; text-decoration-color: #008000\">'family'</span>: <span style=\"color: #008080; text-decoration-color: #008080; font-weight: bold\">5400</span>,\n",
       "    <span style=\"color: #008000; text-decoration-color: #008000\">'scifi'</span>: <span style=\"color: #008080; text-decoration-color: #008080; font-weight: bold\">5400</span>,\n",
       "    <span style=\"color: #008000; text-decoration-color: #008000\">'action'</span>: <span style=\"color: #008080; text-decoration-color: #008080; font-weight: bold\">5400</span>,\n",
       "    <span style=\"color: #008000; text-decoration-color: #008000\">'crime'</span>: <span style=\"color: #008080; text-decoration-color: #008080; font-weight: bold\">5400</span>,\n",
       "    <span style=\"color: #008000; text-decoration-color: #008000\">'adventure'</span>: <span style=\"color: #008080; text-decoration-color: #008080; font-weight: bold\">5400</span>,\n",
       "    <span style=\"color: #008000; text-decoration-color: #008000\">'mystery'</span>: <span style=\"color: #008080; text-decoration-color: #008080; font-weight: bold\">5400</span>,\n",
       "    <span style=\"color: #008000; text-decoration-color: #008000\">'romance'</span>: <span style=\"color: #008080; text-decoration-color: #008080; font-weight: bold\">5400</span>,\n",
       "    <span style=\"color: #008000; text-decoration-color: #008000\">'thriller'</span>: <span style=\"color: #008080; text-decoration-color: #008080; font-weight: bold\">5400</span>\n",
       "<span style=\"font-weight: bold\">})</span>\n",
       "</pre>\n"
      ],
      "text/plain": [
       "\u001b[1;35mCounter\u001b[0m\u001b[1m(\u001b[0m\u001b[1m{\u001b[0m\n",
       "    \u001b[32m'fantasy'\u001b[0m: \u001b[1;36m5400\u001b[0m,\n",
       "    \u001b[32m'horror'\u001b[0m: \u001b[1;36m5400\u001b[0m,\n",
       "    \u001b[32m'family'\u001b[0m: \u001b[1;36m5400\u001b[0m,\n",
       "    \u001b[32m'scifi'\u001b[0m: \u001b[1;36m5400\u001b[0m,\n",
       "    \u001b[32m'action'\u001b[0m: \u001b[1;36m5400\u001b[0m,\n",
       "    \u001b[32m'crime'\u001b[0m: \u001b[1;36m5400\u001b[0m,\n",
       "    \u001b[32m'adventure'\u001b[0m: \u001b[1;36m5400\u001b[0m,\n",
       "    \u001b[32m'mystery'\u001b[0m: \u001b[1;36m5400\u001b[0m,\n",
       "    \u001b[32m'romance'\u001b[0m: \u001b[1;36m5400\u001b[0m,\n",
       "    \u001b[32m'thriller'\u001b[0m: \u001b[1;36m5400\u001b[0m\n",
       "\u001b[1m}\u001b[0m\u001b[1m)\u001b[0m\n"
      ]
     },
     "metadata": {},
     "output_type": "display_data"
    }
   ],
   "source": [
    "labels_count = Counter(dataset['train']['genre']); print(labels_count)"
   ]
  },
  {
   "cell_type": "markdown",
   "id": "ef086ba3-e499-4930-891c-820f33d7b4d6",
   "metadata": {},
   "source": [
    "Looks like the labels are evenly sampled, everyone has count of 5400. Thats good."
   ]
  },
  {
   "cell_type": "markdown",
   "id": "e888d1e3-9a72-4d16-a61a-0c012f3c7dea",
   "metadata": {},
   "source": [
    "## Tokenization"
   ]
  },
  {
   "cell_type": "markdown",
   "id": "67eb399b-eaa5-4ff7-83ad-5da0c815009b",
   "metadata": {},
   "source": [
    "Below we load the tokenizer and use it on a sentence"
   ]
  },
  {
   "cell_type": "code",
   "execution_count": 8,
   "id": "a07961a0-36c3-4706-b3f2-78ccdb764dfb",
   "metadata": {},
   "outputs": [
    {
     "data": {
      "text/plain": [
       "{'input_ids': [101, 3185, 6907, 20932, 2007, 17662, 2227, 19081, 102], 'token_type_ids': [0, 0, 0, 0, 0, 0, 0, 0, 0], 'attention_mask': [1, 1, 1, 1, 1, 1, 1, 1, 1]}"
      ]
     },
     "execution_count": 8,
     "metadata": {},
     "output_type": "execute_result"
    }
   ],
   "source": [
    "tokenizer = AutoTokenizer.from_pretrained(\"bert-base-uncased\")\n",
    "tokenizer('Movie Genre Predictions with Hugging Face Transformers')"
   ]
  },
  {
   "cell_type": "markdown",
   "id": "8a0dbf02-bdba-457d-afc3-3804d5299444",
   "metadata": {},
   "source": [
    "What is `attention_mask`?\n",
    "> Sometimes, we want to tell the computer which parts of the sentence are important and which are not. The attention mask is like a spotlight. It's a list of 1s and 0s, where 1 means \"pay attention\" and 0 means \"ignore.\" For our sentence, it could be [1, 1, 1, 1, 1] because we want the computer to pay attention to all tokens."
   ]
  },
  {
   "cell_type": "markdown",
   "id": "3db4d1b3-b31a-400a-b501-d49ec647db35",
   "metadata": {},
   "source": [
    "What is `token_type_ids`?\n",
    "> If you have multiple sentences, you'd want the computer to know which sentence each token belongs to. Token Type IDs help with that. For one sentence, it's all 0s. If you had two sentences, the first sentence would have 0s, and the second sentence would have 1s."
   ]
  },
  {
   "cell_type": "markdown",
   "id": "7f36bc3d-717f-4a6f-a673-5fbf71b5bba0",
   "metadata": {
    "tags": []
   },
   "source": [
    "Let's break down the process of creating `input_ids` below into simple steps:\n",
    "\n",
    "#### 1. Tokenize: \n",
    "\n",
    "Imagine you have a sentence, \"Hugging Face is awesome!\" To help a computer understand it, you first split it into smaller parts, like words: [\"Hugging\", \"Face\", \"is\", \"awesome\", \"!\"]. These smaller parts are called tokens.\n"
   ]
  },
  {
   "cell_type": "markdown",
   "id": "5f8500f2-8fd9-45d8-96c7-634edcb9c62a",
   "metadata": {},
   "source": [
    "We can tokenize the synopsis of the first row of training set"
   ]
  },
  {
   "cell_type": "code",
   "execution_count": 9,
   "id": "16cf025f-f925-4b7b-97bf-33bee28be2e3",
   "metadata": {},
   "outputs": [
    {
     "data": {
      "text/plain": [
       "'A young scriptwriter starts bringing valuable objects back from his short nightmares of being chased by a demon. Selling them makes him rich.'"
      ]
     },
     "execution_count": 9,
     "metadata": {},
     "output_type": "execute_result"
    }
   ],
   "source": [
    "dataset['train'][0]['synopsis']"
   ]
  },
  {
   "cell_type": "code",
   "execution_count": 10,
   "id": "23da130b-c383-4b9a-aaa9-8190384ea62d",
   "metadata": {},
   "outputs": [
    {
     "data": {
      "text/plain": [
       "['a',\n",
       " 'young',\n",
       " 'script',\n",
       " '##writer',\n",
       " 'starts',\n",
       " 'bringing',\n",
       " 'valuable',\n",
       " 'objects',\n",
       " 'back',\n",
       " 'from',\n",
       " 'his',\n",
       " 'short',\n",
       " 'nightmares',\n",
       " 'of',\n",
       " 'being',\n",
       " 'chased',\n",
       " 'by',\n",
       " 'a',\n",
       " 'demon',\n",
       " '.',\n",
       " 'selling',\n",
       " 'them',\n",
       " 'makes',\n",
       " 'him',\n",
       " 'rich',\n",
       " '.']"
      ]
     },
     "execution_count": 10,
     "metadata": {},
     "output_type": "execute_result"
    }
   ],
   "source": [
    "tokens = tokenizer.tokenize(dataset['train'][0]['synopsis']); tokens"
   ]
  },
  {
   "cell_type": "markdown",
   "id": "53ace5a4-6b73-46b4-bc9f-f2aa6934431d",
   "metadata": {
    "tags": []
   },
   "source": [
    "#### 2. Conversion to IDs: \n",
    "\n",
    "Computers prefer numbers, so we need to convert these tokens into unique numbers. Each token gets a special ID. For example, \"Hugging\" might be ID 101, \"Face\" might be ID 102, and so on. The sentence becomes a list of IDs: [101, 102, 103, 104, 105]."
   ]
  },
  {
   "cell_type": "code",
   "execution_count": 11,
   "id": "90ba066a-0b8a-4130-933a-19b2aaa04416",
   "metadata": {},
   "outputs": [
    {
     "data": {
      "text/plain": [
       "[1037,\n",
       " 2402,\n",
       " 5896,\n",
       " 15994,\n",
       " 4627,\n",
       " 5026,\n",
       " 7070,\n",
       " 5200,\n",
       " 2067,\n",
       " 2013,\n",
       " 2010,\n",
       " 2460,\n",
       " 15446,\n",
       " 1997,\n",
       " 2108,\n",
       " 13303,\n",
       " 2011,\n",
       " 1037,\n",
       " 5698,\n",
       " 1012,\n",
       " 4855,\n",
       " 2068,\n",
       " 3084,\n",
       " 2032,\n",
       " 4138,\n",
       " 1012]"
      ]
     },
     "execution_count": 11,
     "metadata": {},
     "output_type": "execute_result"
    }
   ],
   "source": [
    "ids = tokenizer.convert_tokens_to_ids(tokens); ids"
   ]
  },
  {
   "cell_type": "markdown",
   "id": "1f133c74-2f80-429e-a134-464f97627736",
   "metadata": {},
   "source": [
    "In summary, Hugging Face tokenization takes your text, breaks it into tokens (smaller parts), gives each token a unique ID, creates an attention mask to say what's important, and token type IDs to track different sentences if needed. "
   ]
  },
  {
   "cell_type": "markdown",
   "id": "67f286be-753a-4952-a8b1-b57535b6279e",
   "metadata": {},
   "source": [
    "## Training"
   ]
  },
  {
   "cell_type": "code",
   "execution_count": 12,
   "id": "604d8042-3dc8-4446-ac90-49c96fae0bb4",
   "metadata": {},
   "outputs": [],
   "source": [
    "training_args = TrainingArguments('movie-genre-predictions', \n",
    "                                  evaluation_strategy = 'epoch',\n",
    "                                  per_gpu_train_batch_size = 32,\n",
    "                                  per_device_eval_batch_size = 64,\n",
    "                                  save_strategy = 'epoch',\n",
    "                                  push_to_hub = True)"
   ]
  },
  {
   "cell_type": "markdown",
   "id": "8786fcbc-1430-4d60-9e56-2caffc2f7db8",
   "metadata": {},
   "source": [
    "The above code sets up the configuration for training a Hugging Face model, for a movie genre prediction task. Let's break it down step by step:\n",
    "\n",
    "1. `TrainingArguments`: This is a special object or data structure that holds various settings and options for training a machine learning model.\n",
    "\n",
    "2. `'movie-genre-predictions'`: It's naming the training process or giving it a unique name. It's like giving a name to a file so you can easily identify it later.\n",
    "\n",
    "3. `evaluation_strategy = 'epoch'`: This line specifies how often the model's performance should be evaluated. In this case, it's set to 'epoch,' which means after every complete pass through the training data. An epoch is like a full round of training.\n",
    "\n",
    "4. `per_gpu_train_batch_size = 32`: This indicates how many examples or data points should be processed at once on each graphics processing unit (GPU) during training. It's set to 32, so 32 data points will be processed together in parallel.\n",
    "\n",
    "5. `per_device_eval_batch_size = 64`: Similar to the previous line, but this one specifies the batch size for evaluation (measuring how well the model is doing). It's set to 64, so 64 examples will be evaluated at once.\n",
    "\n",
    "6. `save_strategy = 'epoch'`: This determines when the model's checkpoints (saves of the model's progress) should be saved. Again, it's set to 'epoch,' meaning after each training round.\n",
    "\n",
    "7. `push_to_hub = True`: This is likely specific to the Hugging Face Transformers library. If set to 'True,' it means that the model checkpoints will be pushed or uploaded to the Hugging Face Model Hub, a place to store and share models.\n",
    "\n",
    "In simple terms, this code is configuring how a machine learning model should be trained for movie genre prediction. It sets up details like when to check how well the model is doing, how much data to process at a time, and where to save the model's progress. It also says that the model checkpoints should be uploaded to the Hugging Face Model Hub."
   ]
  },
  {
   "cell_type": "code",
   "execution_count": null,
   "id": "f564fcb1-834d-44e6-8f8e-0a8dc8f953dc",
   "metadata": {},
   "outputs": [],
   "source": []
  }
 ],
 "metadata": {
  "kernelspec": {
   "display_name": "Python 3 (ipykernel)",
   "language": "python",
   "name": "python3"
  },
  "language_info": {
   "codemirror_mode": {
    "name": "ipython",
    "version": 3
   },
   "file_extension": ".py",
   "mimetype": "text/x-python",
   "name": "python",
   "nbconvert_exporter": "python",
   "pygments_lexer": "ipython3",
   "version": "3.9.17"
  }
 },
 "nbformat": 4,
 "nbformat_minor": 5
}
