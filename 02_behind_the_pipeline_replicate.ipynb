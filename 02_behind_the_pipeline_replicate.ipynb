{
 "cells": [
  {
   "cell_type": "markdown",
   "id": "7acd608d-b5b4-4f64-8c65-d281a3d9a8a8",
   "metadata": {},
   "source": [
    "# Behind the pipeline - replicate\n",
    "> without looking into the original notebook"
   ]
  },
  {
   "cell_type": "markdown",
   "id": "6243b75c-0103-4746-aaa2-67025f07fd6a",
   "metadata": {},
   "source": [
    "## The pipeline"
   ]
  },
  {
   "cell_type": "code",
   "execution_count": 1,
   "id": "a32636c7-e034-46b6-8b4a-64b9b87518f4",
   "metadata": {},
   "outputs": [
    {
     "name": "stderr",
     "output_type": "stream",
     "text": [
      "/Users/anubhavmaity/mambaforge/envs/transformers-course/lib/python3.9/site-packages/tqdm/auto.py:21: TqdmWarning: IProgress not found. Please update jupyter and ipywidgets. See https://ipywidgets.readthedocs.io/en/stable/user_install.html\n",
      "  from .autonotebook import tqdm as notebook_tqdm\n"
     ]
    }
   ],
   "source": [
    "from transformers import pipeline"
   ]
  },
  {
   "cell_type": "code",
   "execution_count": 19,
   "id": "e361717c-be4f-40d3-a2e5-8269ada43cd7",
   "metadata": {},
   "outputs": [
    {
     "name": "stderr",
     "output_type": "stream",
     "text": [
      "No model was supplied, defaulted to distilbert-base-uncased-finetuned-sst-2-english and revision af0f99b (https://huggingface.co/distilbert-base-uncased-finetuned-sst-2-english).\n",
      "Using a pipeline without specifying a model name and revision in production is not recommended.\n"
     ]
    }
   ],
   "source": [
    "classifier = pipeline('sentiment-analysis')"
   ]
  },
  {
   "cell_type": "code",
   "execution_count": 20,
   "id": "cf4f3248-32bc-4ce1-bf8e-0f7044c9c852",
   "metadata": {},
   "outputs": [],
   "source": [
    "sentence1 = '''\n",
    "I cannot understand how people are rating this highly. \n",
    "    Unlike what I’ve come to expect from Larson, the narrative is bland, attempts at “suspense” fall flat, \n",
    "    and every person is vapid and one-dimensional. \n",
    "    This provides no insight whatsoever into events and people that have been well-chronicled elsewhere. \n",
    "    This book has neither a point nor a point of view'''"
   ]
  },
  {
   "cell_type": "code",
   "execution_count": 21,
   "id": "d25a8f28-6f54-4def-a7cf-e8132bd55f44",
   "metadata": {},
   "outputs": [],
   "source": [
    "sentence2 = '''\n",
    "This is one of those books that is hard to put down. \n",
    "    Easy to read (even though I don't know anything about the Navy or submarines) while it is PACKED with so much leadership truth. \n",
    "    My favorite part? It's not a \"this is the way things must be done\" kind of book. \n",
    "    He raises serious problems and tells you how he attacked them. \n",
    "    He shows his strengths and weaknesses in leadership. \n",
    "    I greatly appreciated this read. \n",
    "'''"
   ]
  },
  {
   "cell_type": "code",
   "execution_count": 22,
   "id": "5422b9e8-54e9-4f74-8ec0-55b44cd3fa75",
   "metadata": {},
   "outputs": [],
   "source": [
    "sentence3 = '''\n",
    "Sometimes insightful, sometimes preachy, mostly making sense. \n",
    "    Some learnings seem retrospectively added as Naval amassed massive wealth.\n",
    "    A decent read on the principles and philosophy of one of the most revered investors of our times\n",
    "'''"
   ]
  },
  {
   "cell_type": "code",
   "execution_count": 23,
   "id": "901a1104-83ec-4f1a-97c8-26fa252e0df2",
   "metadata": {},
   "outputs": [
    {
     "data": {
      "text/plain": [
       "[{'label': 'NEGATIVE', 'score': 0.9997822642326355},\n",
       " {'label': 'POSITIVE', 'score': 0.998445451259613},\n",
       " {'label': 'POSITIVE', 'score': 0.9997103810310364}]"
      ]
     },
     "execution_count": 23,
     "metadata": {},
     "output_type": "execute_result"
    }
   ],
   "source": [
    "classifier([\n",
    "    sentence1,\n",
    "    sentence2,\n",
    "    sentence3\n",
    "])"
   ]
  },
  {
   "cell_type": "markdown",
   "id": "38180142-97ee-40b9-a79c-8aad1325cfff",
   "metadata": {},
   "source": [
    "## Behind the pipeline"
   ]
  },
  {
   "cell_type": "markdown",
   "id": "ebe6956c-7a89-48c0-9e6b-397d390b324b",
   "metadata": {},
   "source": [
    "### Tokenizer"
   ]
  },
  {
   "cell_type": "code",
   "execution_count": 24,
   "id": "35a447c5-83ba-48f5-b9ff-7b49effd7674",
   "metadata": {},
   "outputs": [],
   "source": [
    "from transformers import AutoTokenizer"
   ]
  },
  {
   "cell_type": "code",
   "execution_count": 25,
   "id": "e83aef52-4b76-4ee8-a565-dc335f5e8fca",
   "metadata": {},
   "outputs": [],
   "source": [
    "tokenizer = AutoTokenizer.from_pretrained('distilbert-base-uncased-finetuned-sst-2-english')"
   ]
  },
  {
   "cell_type": "code",
   "execution_count": 35,
   "id": "381e7b32-852c-488c-b3b3-6a29341fd011",
   "metadata": {},
   "outputs": [],
   "source": [
    "inputs = tokenizer([sentence1, sentence2, sentence3], return_tensors=\"pt\", padding=True, truncation=True)"
   ]
  },
  {
   "cell_type": "code",
   "execution_count": 36,
   "id": "192a6714-552a-468d-bb2d-84d5a328db5e",
   "metadata": {},
   "outputs": [
    {
     "data": {
      "text/plain": [
       "{'input_ids': tensor([[  101,  1045,  3685,  3305,  2129,  2111,  2024,  5790,  2023,  3811,\n",
       "          1012,  4406,  2054,  1045,  1521,  2310,  2272,  2000,  5987,  2013,\n",
       "         21213,  1010,  1996,  7984,  2003, 20857,  1010,  4740,  2012,  1523,\n",
       "         23873,  1524,  2991,  4257,  1010,  1998,  2296,  2711,  2003, 12436,\n",
       "         23267,  1998,  2028,  1011,  8789,  1012,  2023,  3640,  2053, 12369,\n",
       "         18971,  2046,  2824,  1998,  2111,  2008,  2031,  2042,  2092,  1011,\n",
       "          9519,  2094,  6974,  1012,  2023,  2338,  2038,  4445,  1037,  2391,\n",
       "          4496,  1037,  2391,  1997,  3193,   102,     0,     0,     0,     0,\n",
       "             0,     0,     0,     0,     0,     0,     0,     0,     0,     0,\n",
       "             0,     0,     0],\n",
       "        [  101,  2023,  2003,  2028,  1997,  2216,  2808,  2008,  2003,  2524,\n",
       "          2000,  2404,  2091,  1012,  3733,  2000,  3191,  1006,  2130,  2295,\n",
       "          1045,  2123,  1005,  1056,  2113,  2505,  2055,  1996,  3212,  2030,\n",
       "         12622,  1007,  2096,  2009,  2003,  8966,  2007,  2061,  2172,  4105,\n",
       "          3606,  1012,  2026,  5440,  2112,  1029,  2009,  1005,  1055,  2025,\n",
       "          1037,  1000,  2023,  2003,  1996,  2126,  2477,  2442,  2022,  2589,\n",
       "          1000,  2785,  1997,  2338,  1012,  2002, 13275,  3809,  3471,  1998,\n",
       "          4136,  2017,  2129,  2002,  4457,  2068,  1012,  2002,  3065,  2010,\n",
       "         20828,  1998, 21775,  1999,  4105,  1012,  1045,  6551, 12315,  2023,\n",
       "          3191,  1012,   102],\n",
       "        [  101,  2823, 12369,  3993,  1010,  2823, 25250,  2100,  1010,  3262,\n",
       "          2437,  3168,  1012,  2070,  4083,  2015,  4025, 15354,  2135,  2794,\n",
       "          2004,  3987, 22151,  5294,  7177,  1012,  1037, 11519,  3191,  2006,\n",
       "          1996,  6481,  1998,  4695,  1997,  2028,  1997,  1996,  2087, 23886,\n",
       "          9387,  1997,  2256,  2335,   102,     0,     0,     0,     0,     0,\n",
       "             0,     0,     0,     0,     0,     0,     0,     0,     0,     0,\n",
       "             0,     0,     0,     0,     0,     0,     0,     0,     0,     0,\n",
       "             0,     0,     0,     0,     0,     0,     0,     0,     0,     0,\n",
       "             0,     0,     0,     0,     0,     0,     0,     0,     0,     0,\n",
       "             0,     0,     0]]), 'attention_mask': tensor([[1, 1, 1, 1, 1, 1, 1, 1, 1, 1, 1, 1, 1, 1, 1, 1, 1, 1, 1, 1, 1, 1, 1, 1,\n",
       "         1, 1, 1, 1, 1, 1, 1, 1, 1, 1, 1, 1, 1, 1, 1, 1, 1, 1, 1, 1, 1, 1, 1, 1,\n",
       "         1, 1, 1, 1, 1, 1, 1, 1, 1, 1, 1, 1, 1, 1, 1, 1, 1, 1, 1, 1, 1, 1, 1, 1,\n",
       "         1, 1, 1, 1, 0, 0, 0, 0, 0, 0, 0, 0, 0, 0, 0, 0, 0, 0, 0, 0, 0],\n",
       "        [1, 1, 1, 1, 1, 1, 1, 1, 1, 1, 1, 1, 1, 1, 1, 1, 1, 1, 1, 1, 1, 1, 1, 1,\n",
       "         1, 1, 1, 1, 1, 1, 1, 1, 1, 1, 1, 1, 1, 1, 1, 1, 1, 1, 1, 1, 1, 1, 1, 1,\n",
       "         1, 1, 1, 1, 1, 1, 1, 1, 1, 1, 1, 1, 1, 1, 1, 1, 1, 1, 1, 1, 1, 1, 1, 1,\n",
       "         1, 1, 1, 1, 1, 1, 1, 1, 1, 1, 1, 1, 1, 1, 1, 1, 1, 1, 1, 1, 1],\n",
       "        [1, 1, 1, 1, 1, 1, 1, 1, 1, 1, 1, 1, 1, 1, 1, 1, 1, 1, 1, 1, 1, 1, 1, 1,\n",
       "         1, 1, 1, 1, 1, 1, 1, 1, 1, 1, 1, 1, 1, 1, 1, 1, 1, 1, 1, 1, 1, 0, 0, 0,\n",
       "         0, 0, 0, 0, 0, 0, 0, 0, 0, 0, 0, 0, 0, 0, 0, 0, 0, 0, 0, 0, 0, 0, 0, 0,\n",
       "         0, 0, 0, 0, 0, 0, 0, 0, 0, 0, 0, 0, 0, 0, 0, 0, 0, 0, 0, 0, 0]])}"
      ]
     },
     "execution_count": 36,
     "metadata": {},
     "output_type": "execute_result"
    }
   ],
   "source": [
    "inputs"
   ]
  },
  {
   "cell_type": "code",
   "execution_count": 37,
   "id": "4dcf19a3-b62a-43e3-883a-167a7f0b1195",
   "metadata": {},
   "outputs": [
    {
     "data": {
      "text/plain": [
       "torch.Size([3, 93])"
      ]
     },
     "execution_count": 37,
     "metadata": {},
     "output_type": "execute_result"
    }
   ],
   "source": [
    "inputs.input_ids.shape"
   ]
  },
  {
   "cell_type": "code",
   "execution_count": 38,
   "id": "5ea23a51-b59d-4e45-a415-782c7167d7b3",
   "metadata": {},
   "outputs": [
    {
     "data": {
      "text/plain": [
       "torch.Size([3, 93])"
      ]
     },
     "execution_count": 38,
     "metadata": {},
     "output_type": "execute_result"
    }
   ],
   "source": [
    "inputs.attention_mask.shape"
   ]
  },
  {
   "cell_type": "markdown",
   "id": "0cb3ab83-1b69-4e1b-b391-44fa99cf3704",
   "metadata": {},
   "source": [
    "## The Model without Head"
   ]
  },
  {
   "cell_type": "code",
   "execution_count": 39,
   "id": "3c37cf6e-83bc-45f5-924d-b2355c3c7099",
   "metadata": {},
   "outputs": [],
   "source": [
    "from transformers import AutoModel"
   ]
  },
  {
   "cell_type": "code",
   "execution_count": 40,
   "id": "9baf7f19-a64f-4ced-9f58-ecec51b51926",
   "metadata": {},
   "outputs": [],
   "source": [
    "model = AutoModel.from_pretrained('distilbert-base-uncased-finetuned-sst-2-english')"
   ]
  },
  {
   "cell_type": "code",
   "execution_count": 44,
   "id": "7c7fc947-aa1f-41eb-8d34-a4a1d4e2a9f1",
   "metadata": {},
   "outputs": [
    {
     "data": {
      "text/plain": [
       "torch.Size([3, 93, 768])"
      ]
     },
     "execution_count": 44,
     "metadata": {},
     "output_type": "execute_result"
    }
   ],
   "source": [
    "outputs = model(**inputs); outputs.last_hidden_state.shape"
   ]
  },
  {
   "cell_type": "markdown",
   "id": "142b3e48-a836-4769-a0aa-94785ddfcfce",
   "metadata": {},
   "source": [
    "Batch size is 3 <br/>\n",
    "Sequence Length is 93 <br/>\n",
    "Hidden size is 768"
   ]
  },
  {
   "cell_type": "markdown",
   "id": "eadd762f-fcb8-45dd-9c81-e89f6faf226b",
   "metadata": {},
   "source": [
    "## The Model with Head"
   ]
  },
  {
   "cell_type": "code",
   "execution_count": 45,
   "id": "d99f93e6-7f54-4481-b022-ee1d5a3af3d1",
   "metadata": {},
   "outputs": [],
   "source": [
    "from transformers import AutoModelForSequenceClassification"
   ]
  },
  {
   "cell_type": "code",
   "execution_count": 46,
   "id": "9127e503-3935-470e-b48e-d04b7639016e",
   "metadata": {},
   "outputs": [],
   "source": [
    "model = AutoModelForSequenceClassification.from_pretrained('distilbert-base-uncased-finetuned-sst-2-english')"
   ]
  },
  {
   "cell_type": "code",
   "execution_count": 47,
   "id": "f373a644-b316-4518-a080-a5f1ea42f2ee",
   "metadata": {},
   "outputs": [
    {
     "data": {
      "text/plain": [
       "tensor([[ 4.6795, -3.7526],\n",
       "        [-3.1962,  3.2688],\n",
       "        [-3.9479,  4.1987]], grad_fn=<AddmmBackward0>)"
      ]
     },
     "execution_count": 47,
     "metadata": {},
     "output_type": "execute_result"
    }
   ],
   "source": [
    "outputs = model(**inputs); outputs.logits"
   ]
  },
  {
   "cell_type": "markdown",
   "id": "ef0fe9d0-0e69-4cf5-8484-2f4ff83cf661",
   "metadata": {},
   "source": [
    "## Softmax"
   ]
  },
  {
   "cell_type": "code",
   "execution_count": 53,
   "id": "650d1387-a50e-4608-a330-3fba34e6b12f",
   "metadata": {},
   "outputs": [],
   "source": [
    "import torch\n",
    "from torch.nn.functional import softmax"
   ]
  },
  {
   "cell_type": "code",
   "execution_count": 55,
   "id": "1326e9ca-0441-4f59-8ef6-017c3d20221c",
   "metadata": {},
   "outputs": [
    {
     "data": {
      "text/plain": [
       "tensor([[9.9978e-01, 2.1771e-04],\n",
       "        [1.5545e-03, 9.9845e-01],\n",
       "        [2.8963e-04, 9.9971e-01]], grad_fn=<SoftmaxBackward0>)"
      ]
     },
     "execution_count": 55,
     "metadata": {},
     "output_type": "execute_result"
    }
   ],
   "source": [
    "y = softmax(outputs.logits, dim=-1); y"
   ]
  },
  {
   "cell_type": "code",
   "execution_count": 69,
   "id": "8976f7a4-10ea-4d07-97ab-d913039c4d18",
   "metadata": {},
   "outputs": [
    {
     "data": {
      "text/plain": [
       "tensor([0, 1, 1])"
      ]
     },
     "execution_count": 69,
     "metadata": {},
     "output_type": "execute_result"
    }
   ],
   "source": [
    "z = torch.argmax(y, dim=-1); z"
   ]
  },
  {
   "cell_type": "code",
   "execution_count": 61,
   "id": "af6211de-3b85-4990-8cc3-3202a1f4ffcd",
   "metadata": {},
   "outputs": [
    {
     "data": {
      "text/plain": [
       "{0: 'NEGATIVE', 1: 'POSITIVE'}"
      ]
     },
     "execution_count": 61,
     "metadata": {},
     "output_type": "execute_result"
    }
   ],
   "source": [
    "model.config.id2label"
   ]
  },
  {
   "cell_type": "code",
   "execution_count": 73,
   "id": "6c760dc7-4c75-4e03-bd34-8081ee55a5af",
   "metadata": {},
   "outputs": [
    {
     "data": {
      "text/plain": [
       "['NEGATIVE', 'POSITIVE', 'POSITIVE']"
      ]
     },
     "execution_count": 73,
     "metadata": {},
     "output_type": "execute_result"
    }
   ],
   "source": [
    "list(map(lambda x: model.config.id2label.get(int(x)), torch.argmax(y, dim=-1)))"
   ]
  },
  {
   "cell_type": "markdown",
   "id": "568ab727-a8aa-4d74-a860-37fed9107482",
   "metadata": {},
   "source": [
    "The above output is same as output from pipeline"
   ]
  },
  {
   "cell_type": "code",
   "execution_count": null,
   "id": "e2592824-3fd6-4006-af17-3345a43ca9a0",
   "metadata": {},
   "outputs": [],
   "source": []
  }
 ],
 "metadata": {
  "kernelspec": {
   "display_name": "Python 3 (ipykernel)",
   "language": "python",
   "name": "python3"
  },
  "language_info": {
   "codemirror_mode": {
    "name": "ipython",
    "version": 3
   },
   "file_extension": ".py",
   "mimetype": "text/x-python",
   "name": "python",
   "nbconvert_exporter": "python",
   "pygments_lexer": "ipython3",
   "version": "3.9.17"
  }
 },
 "nbformat": 4,
 "nbformat_minor": 5
}
