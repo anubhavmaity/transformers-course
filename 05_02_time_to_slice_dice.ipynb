{
 "cells": [
  {
   "cell_type": "markdown",
   "id": "c17b960b-fc68-4a29-9435-e7c8e4653e64",
   "metadata": {},
   "source": [
    "# Time to slice & dice"
   ]
  },
  {
   "cell_type": "code",
   "execution_count": null,
   "id": "cc2b1878-474f-40e8-a817-f5757d2ae1a0",
   "metadata": {},
   "outputs": [],
   "source": []
  }
 ],
 "metadata": {
  "kernelspec": {
   "display_name": "transformers-course",
   "language": "python",
   "name": "transformers-course"
  },
  "language_info": {
   "codemirror_mode": {
    "name": "ipython",
    "version": 3
   },
   "file_extension": ".py",
   "mimetype": "text/x-python",
   "name": "python",
   "nbconvert_exporter": "python",
   "pygments_lexer": "ipython3",
   "version": "3.9.17"
  }
 },
 "nbformat": 4,
 "nbformat_minor": 5
}
