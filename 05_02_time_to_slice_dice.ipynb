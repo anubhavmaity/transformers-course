{
 "cells": [
  {
   "cell_type": "markdown",
   "id": "c17b960b-fc68-4a29-9435-e7c8e4653e64",
   "metadata": {},
   "source": [
    "# Time to slice & dice"
   ]
  },
  {
   "cell_type": "markdown",
   "id": "5648c889-7d62-4bb7-873b-6ad49a6377f5",
   "metadata": {},
   "source": [
    "## Load dataset"
   ]
  },
  {
   "cell_type": "code",
   "execution_count": 1,
   "id": "cc2b1878-474f-40e8-a817-f5757d2ae1a0",
   "metadata": {},
   "outputs": [],
   "source": [
    "from datasets import load_dataset"
   ]
  },
  {
   "cell_type": "code",
   "execution_count": 2,
   "id": "08e80d67-4270-4090-8e26-b5959bec9746",
   "metadata": {},
   "outputs": [],
   "source": [
    "squad = load_dataset(\"squad\", split=\"train\")"
   ]
  },
  {
   "cell_type": "code",
   "execution_count": 3,
   "id": "7ba283da-5a3d-4178-84e8-8d595099369d",
   "metadata": {},
   "outputs": [
    {
     "data": {
      "text/plain": [
       "{'id': '5733be284776f41900661182',\n",
       " 'title': 'University_of_Notre_Dame',\n",
       " 'context': 'Architecturally, the school has a Catholic character. Atop the Main Building\\'s gold dome is a golden statue of the Virgin Mary. Immediately in front of the Main Building and facing it, is a copper statue of Christ with arms upraised with the legend \"Venite Ad Me Omnes\". Next to the Main Building is the Basilica of the Sacred Heart. Immediately behind the basilica is the Grotto, a Marian place of prayer and reflection. It is a replica of the grotto at Lourdes, France where the Virgin Mary reputedly appeared to Saint Bernadette Soubirous in 1858. At the end of the main drive (and in a direct line that connects through 3 statues and the Gold Dome), is a simple, modern stone statue of Mary.',\n",
       " 'question': 'To whom did the Virgin Mary allegedly appear in 1858 in Lourdes France?',\n",
       " 'answers': {'text': ['Saint Bernadette Soubirous'], 'answer_start': [515]}}"
      ]
     },
     "execution_count": 3,
     "metadata": {},
     "output_type": "execute_result"
    }
   ],
   "source": [
    "squad[0]"
   ]
  },
  {
   "cell_type": "markdown",
   "id": "145b10be-aa62-45c8-a6b1-802e71c1f905",
   "metadata": {},
   "source": [
    "## Shuffle"
   ]
  },
  {
   "cell_type": "code",
   "execution_count": 4,
   "id": "f5599d4f-07d8-4d39-8fb7-c6423279e3c4",
   "metadata": {},
   "outputs": [
    {
     "data": {
      "text/plain": [
       "{'id': '5727cc873acd2414000deca9',\n",
       " 'title': 'Oklahoma',\n",
       " 'context': 'Oklahoma is the 20th largest state in the United States, covering an area of 69,898 square miles (181,035 km2), with 68,667 square miles (177847 km2) of land and 1,281 square miles (3,188 km2) of water. It is one of six states on the Frontier Strip and lies partly in the Great Plains near the geographical center of the 48 contiguous states. It is bounded on the east by Arkansas and Missouri, on the north by Kansas, on the northwest by Colorado, on the far west by New Mexico, and on the south and near-west by Texas.',\n",
       " 'question': 'Where does Oklahoma rank by land area?',\n",
       " 'answers': {'text': ['20th'], 'answer_start': [16]}}"
      ]
     },
     "execution_count": 4,
     "metadata": {},
     "output_type": "execute_result"
    }
   ],
   "source": [
    "squad_shuffled = squad.shuffle(seed=666)\n",
    "squad_shuffled[0]"
   ]
  },
  {
   "cell_type": "code",
   "execution_count": 5,
   "id": "ca82a64d-7e58-4530-ab72-787c899068f1",
   "metadata": {},
   "outputs": [
    {
     "data": {
      "text/plain": [
       "DatasetDict({\n",
       "    train: Dataset({\n",
       "        features: ['id', 'title', 'context', 'question', 'answers'],\n",
       "        num_rows: 78839\n",
       "    })\n",
       "    test: Dataset({\n",
       "        features: ['id', 'title', 'context', 'question', 'answers'],\n",
       "        num_rows: 8760\n",
       "    })\n",
       "})"
      ]
     },
     "execution_count": 5,
     "metadata": {},
     "output_type": "execute_result"
    }
   ],
   "source": [
    "dataset = squad.train_test_split(test_size=0.1)\n",
    "dataset"
   ]
  },
  {
   "cell_type": "markdown",
   "id": "5f48549d-aff9-4e9f-9cca-25cc883ef4e9",
   "metadata": {},
   "source": [
    "## Select"
   ]
  },
  {
   "cell_type": "code",
   "execution_count": 6,
   "id": "963132a1-f2f6-4fee-974a-96b442a3c297",
   "metadata": {},
   "outputs": [
    {
     "data": {
      "text/plain": [
       "Dataset({\n",
       "    features: ['id', 'title', 'context', 'question', 'answers'],\n",
       "    num_rows: 5\n",
       "})"
      ]
     },
     "execution_count": 6,
     "metadata": {},
     "output_type": "execute_result"
    }
   ],
   "source": [
    "indices = [0, 10, 20, 40, 80]\n",
    "examples = squad.select(indices)\n",
    "examples"
   ]
  },
  {
   "cell_type": "code",
   "execution_count": 7,
   "id": "8e1fc1d9-0c56-4d05-bb60-7f7bdaaec19f",
   "metadata": {},
   "outputs": [
    {
     "data": {
      "text/plain": [
       "Dataset({\n",
       "    features: ['id', 'title', 'context', 'question', 'answers'],\n",
       "    num_rows: 5\n",
       "})"
      ]
     },
     "execution_count": 7,
     "metadata": {},
     "output_type": "execute_result"
    }
   ],
   "source": [
    "sample = squad.shuffle().select(range(5)); sample"
   ]
  },
  {
   "cell_type": "markdown",
   "id": "47a4e9af-0eba-49f3-8b8b-90c34d25d921",
   "metadata": {},
   "source": [
    "## Filter"
   ]
  },
  {
   "cell_type": "code",
   "execution_count": 8,
   "id": "a60a973b-2319-4e50-b02d-941ede70530b",
   "metadata": {},
   "outputs": [
    {
     "data": {
      "text/plain": [
       "Dataset({\n",
       "    features: ['id', 'title', 'context', 'question', 'answers'],\n",
       "    num_rows: 2049\n",
       "})"
      ]
     },
     "execution_count": 8,
     "metadata": {},
     "output_type": "execute_result"
    }
   ],
   "source": [
    "squad_filtered = squad.filter(lambda x: x[\"title\"].startswith(\"L\"))\n",
    "squad_filtered"
   ]
  },
  {
   "cell_type": "markdown",
   "id": "5b832634-70d8-499e-a8c5-2f67b68ab942",
   "metadata": {},
   "source": [
    "## Rename"
   ]
  },
  {
   "cell_type": "code",
   "execution_count": 9,
   "id": "867bc8d7-611e-4350-8167-cdc8b595962b",
   "metadata": {},
   "outputs": [
    {
     "data": {
      "text/plain": [
       "Dataset({\n",
       "    features: ['id', 'title', 'passages', 'question', 'answers'],\n",
       "    num_rows: 87599\n",
       "})"
      ]
     },
     "execution_count": 9,
     "metadata": {},
     "output_type": "execute_result"
    }
   ],
   "source": [
    "squad.rename_column(\"context\", \"passages\")"
   ]
  },
  {
   "cell_type": "markdown",
   "id": "d66a8cd4-0f65-4d51-bc4f-9a435853a288",
   "metadata": {},
   "source": [
    "## Remove"
   ]
  },
  {
   "cell_type": "code",
   "execution_count": 10,
   "id": "5cee485c-70f8-469c-a010-9841f9bef3b6",
   "metadata": {},
   "outputs": [
    {
     "data": {
      "text/plain": [
       "Dataset({\n",
       "    features: ['context', 'question', 'answers'],\n",
       "    num_rows: 87599\n",
       "})"
      ]
     },
     "execution_count": 10,
     "metadata": {},
     "output_type": "execute_result"
    }
   ],
   "source": [
    "squad.remove_columns([\"id\", \"title\"])"
   ]
  },
  {
   "cell_type": "markdown",
   "id": "567397fb-3f14-4d2c-806d-019ebcea83d3",
   "metadata": {},
   "source": [
    "## Flatten"
   ]
  },
  {
   "cell_type": "code",
   "execution_count": 11,
   "id": "09a511b7-4710-4ebe-a6ae-967d249f8141",
   "metadata": {},
   "outputs": [
    {
     "data": {
      "text/plain": [
       "Dataset({\n",
       "    features: ['id', 'title', 'context', 'question', 'answers.text', 'answers.answer_start'],\n",
       "    num_rows: 87599\n",
       "})"
      ]
     },
     "execution_count": 11,
     "metadata": {},
     "output_type": "execute_result"
    }
   ],
   "source": [
    "squad.flatten()"
   ]
  },
  {
   "cell_type": "markdown",
   "id": "8c823af9-ecec-40a4-95b9-78fea63ed818",
   "metadata": {},
   "source": [
    "## Map"
   ]
  },
  {
   "cell_type": "code",
   "execution_count": 12,
   "id": "90d2824b-ec55-4219-afe5-c06657005579",
   "metadata": {},
   "outputs": [],
   "source": [
    "def lowercase_title(example): return {'title': example[\"title\"].lower()}"
   ]
  },
  {
   "cell_type": "code",
   "execution_count": 13,
   "id": "2bd38848-3e88-4e03-a733-5f0128b98516",
   "metadata": {},
   "outputs": [],
   "source": [
    "squad_lowercase = squad.map(lowercase_title)"
   ]
  },
  {
   "cell_type": "code",
   "execution_count": 14,
   "id": "7be48738-58cf-461c-abff-e8eb2baff92b",
   "metadata": {},
   "outputs": [
    {
     "data": {
      "text/plain": [
       "['egypt',\n",
       " 'ann_arbor,_michigan',\n",
       " 'rule_of_law',\n",
       " 'samurai',\n",
       " 'group_(mathematics)']"
      ]
     },
     "execution_count": 14,
     "metadata": {},
     "output_type": "execute_result"
    }
   ],
   "source": [
    "squad_lowercase.shuffle(seed=42)[\"title\"][:5]"
   ]
  },
  {
   "cell_type": "markdown",
   "id": "555eec38-cf9b-4683-b35f-0ff74cf6b99c",
   "metadata": {},
   "source": [
    "## Batched Map"
   ]
  },
  {
   "cell_type": "code",
   "execution_count": 15,
   "id": "5ede045f-7339-41ad-97d1-05454659c7a0",
   "metadata": {},
   "outputs": [
    {
     "data": {
      "text/plain": [
       "Dataset({\n",
       "    features: ['id', 'title', 'context', 'question', 'answers', 'input_ids', 'attention_mask'],\n",
       "    num_rows: 87599\n",
       "})"
      ]
     },
     "execution_count": 15,
     "metadata": {},
     "output_type": "execute_result"
    }
   ],
   "source": [
    "from transformers import AutoTokenizer\n",
    "\n",
    "tokenizer = AutoTokenizer.from_pretrained(\"distilbert-base-uncased\")\n",
    "\n",
    "def tokenize_title(example): return tokenizer(example[\"title\"])\n",
    "\n",
    "squad.map(tokenize_title, batched=True, batch_size=500)"
   ]
  },
  {
   "cell_type": "markdown",
   "id": "425566c2-9315-44d3-a774-5c69e7ccea91",
   "metadata": {},
   "source": [
    "## Drug Review Dataset"
   ]
  },
  {
   "cell_type": "code",
   "execution_count": 16,
   "id": "d2779be5-6f41-48c9-9260-2aec55e407d7",
   "metadata": {},
   "outputs": [
    {
     "name": "stdout",
     "output_type": "stream",
     "text": [
      "--2023-09-14 14:05:58--  https://archive.ics.uci.edu/ml/machine-learning-databases/00462/drugsCom_raw.zip\n",
      "Resolving archive.ics.uci.edu (archive.ics.uci.edu)... 128.195.10.252\n",
      "Connecting to archive.ics.uci.edu (archive.ics.uci.edu)|128.195.10.252|:443... connected.\n",
      "HTTP request sent, awaiting response... 200 OK\n",
      "Length: unspecified\n",
      "Saving to: ‘drugsCom_raw.zip.1’\n",
      "\n",
      "drugsCom_raw.zip.1      [         <=>        ]  41.00M  6.90MB/s    in 12s     \n",
      "\n",
      "2023-09-14 14:06:10 (3.52 MB/s) - ‘drugsCom_raw.zip.1’ saved [42989872]\n",
      "\n",
      "Archive:  drugsCom_raw.zip\n",
      "replace drugsComTest_raw.tsv? [y]es, [n]o, [A]ll, [N]one, [r]ename: ^C\n"
     ]
    }
   ],
   "source": [
    "!wget \"https://archive.ics.uci.edu/ml/machine-learning-databases/00462/drugsCom_raw.zip\"\n",
    "!unzip drugsCom_raw.zip"
   ]
  },
  {
   "cell_type": "code",
   "execution_count": 17,
   "id": "ab5804d9-6d83-4936-85c5-8abecf0b6243",
   "metadata": {},
   "outputs": [],
   "source": [
    "data_files = {\"train\": \"drugsComTrain_raw.tsv\", \"test\": \"drugsComTest_raw.tsv\"}"
   ]
  },
  {
   "cell_type": "code",
   "execution_count": 18,
   "id": "74eb9c0f-0651-43ac-aaaf-300d3939d9d9",
   "metadata": {},
   "outputs": [],
   "source": [
    "drug_dataset = load_dataset(\"csv\", data_files=data_files, delimiter = \"\\t\")"
   ]
  },
  {
   "cell_type": "code",
   "execution_count": 19,
   "id": "579f1e28-c3be-4c2d-a987-d0282cb973f0",
   "metadata": {},
   "outputs": [
    {
     "data": {
      "text/plain": [
       "DatasetDict({\n",
       "    train: Dataset({\n",
       "        features: ['Unnamed: 0', 'drugName', 'condition', 'review', 'rating', 'date', 'usefulCount'],\n",
       "        num_rows: 161297\n",
       "    })\n",
       "    test: Dataset({\n",
       "        features: ['Unnamed: 0', 'drugName', 'condition', 'review', 'rating', 'date', 'usefulCount'],\n",
       "        num_rows: 53766\n",
       "    })\n",
       "})"
      ]
     },
     "execution_count": 19,
     "metadata": {},
     "output_type": "execute_result"
    }
   ],
   "source": [
    "drug_dataset"
   ]
  },
  {
   "cell_type": "code",
   "execution_count": 20,
   "id": "e017493e-d470-4ee5-ab55-94e350ce00c1",
   "metadata": {},
   "outputs": [
    {
     "data": {
      "text/plain": [
       "{'Unnamed: 0': [87571, 178045, 80482],\n",
       " 'drugName': ['Naproxen', 'Duloxetine', 'Mobic'],\n",
       " 'condition': ['Gout, Acute', 'ibromyalgia', 'Inflammatory Conditions'],\n",
       " 'review': ['\"like the previous person mention, I&#039;m a strong believer of aleve, it works faster for my gout than the prescription meds I take. No more going to the doctor for refills.....Aleve works!\"',\n",
       "  '\"I have taken Cymbalta for about a year and a half for fibromyalgia pain. It is great\\r\\nas a pain reducer and an anti-depressant, however, the side effects outweighed \\r\\nany benefit I got from it. I had trouble with restlessness, being tired constantly,\\r\\ndizziness, dry mouth, numbness and tingling in my feet, and horrible sweating. I am\\r\\nbeing weaned off of it now. Went from 60 mg to 30mg and now to 15 mg. I will be\\r\\noff completely in about a week. The fibro pain is coming back, but I would rather deal with it than the side effects.\"',\n",
       "  '\"I have been taking Mobic for over a year with no side effects other than an elevated blood pressure.  I had severe knee and ankle pain which completely went away after taking Mobic.  I attempted to stop the medication however pain returned after a few days.\"'],\n",
       " 'rating': [9.0, 3.0, 10.0],\n",
       " 'date': ['September 2, 2015', 'November 7, 2011', 'June 5, 2013'],\n",
       " 'usefulCount': [36, 13, 128]}"
      ]
     },
     "execution_count": 20,
     "metadata": {},
     "output_type": "execute_result"
    }
   ],
   "source": [
    "drug_sample = drug_dataset[\"train\"].shuffle(seed=42).select(range(1000))\n",
    "drug_sample[:3]"
   ]
  },
  {
   "cell_type": "code",
   "execution_count": 21,
   "id": "5725e027-014d-49c3-9df4-6fd4f4f549bf",
   "metadata": {},
   "outputs": [],
   "source": [
    "for split in drug_dataset.keys():\n",
    "    assert len(drug_dataset[split]) == len(drug_dataset[split].unique(\"Unnamed: 0\"))"
   ]
  },
  {
   "cell_type": "code",
   "execution_count": 22,
   "id": "28252f33-956c-475f-87f7-88611aadbefc",
   "metadata": {},
   "outputs": [],
   "source": [
    "drug_dataset = drug_dataset.rename_column(\n",
    "    original_column_name = \"Unnamed: 0\", new_column_name=\"patient_id\"\n",
    ")"
   ]
  },
  {
   "cell_type": "code",
   "execution_count": 23,
   "id": "8075c456-5957-4abd-8c71-edece2cff4f7",
   "metadata": {},
   "outputs": [
    {
     "data": {
      "text/plain": [
       "DatasetDict({\n",
       "    train: Dataset({\n",
       "        features: ['patient_id', 'drugName', 'condition', 'review', 'rating', 'date', 'usefulCount'],\n",
       "        num_rows: 161297\n",
       "    })\n",
       "    test: Dataset({\n",
       "        features: ['patient_id', 'drugName', 'condition', 'review', 'rating', 'date', 'usefulCount'],\n",
       "        num_rows: 53766\n",
       "    })\n",
       "})"
      ]
     },
     "execution_count": 23,
     "metadata": {},
     "output_type": "execute_result"
    }
   ],
   "source": [
    "drug_dataset"
   ]
  },
  {
   "cell_type": "code",
   "execution_count": 24,
   "id": "ab5c9ab3-f2b0-4a72-ac09-8324744ca8d4",
   "metadata": {},
   "outputs": [
    {
     "name": "stdout",
     "output_type": "stream",
     "text": [
      "train\n",
      "Number of drugs  3436\n",
      "Number of conditions  885\n",
      "test\n",
      "Number of drugs  2637\n",
      "Number of conditions  709\n"
     ]
    }
   ],
   "source": [
    "for split in drug_dataset.keys():\n",
    "    print(split)\n",
    "    print(\"Number of drugs \", len(drug_dataset[split].unique(\"drugName\")))\n",
    "    print(\"Number of conditions \", len(drug_dataset[split].unique(\"condition\")))"
   ]
  },
  {
   "cell_type": "code",
   "execution_count": 25,
   "id": "3c9b20f4-de59-4672-aa67-a707c7b829c6",
   "metadata": {},
   "outputs": [],
   "source": [
    "def lowercase_condition(example):\n",
    "    return {\"condition\": example[\"condition\"].lower()}\n"
   ]
  },
  {
   "cell_type": "code",
   "execution_count": 26,
   "id": "c803ec6d-f07e-4ba8-be13-5aa217145c49",
   "metadata": {},
   "outputs": [],
   "source": [
    "def filter_nones(x):\n",
    "    return x[\"condition\"] is not None"
   ]
  },
  {
   "cell_type": "code",
   "execution_count": 27,
   "id": "8662eacf-bb23-489f-80ed-6b1bffa1683e",
   "metadata": {},
   "outputs": [
    {
     "data": {
      "text/plain": [
       "DatasetDict({\n",
       "    train: Dataset({\n",
       "        features: ['patient_id', 'drugName', 'condition', 'review', 'rating', 'date', 'usefulCount'],\n",
       "        num_rows: 160398\n",
       "    })\n",
       "    test: Dataset({\n",
       "        features: ['patient_id', 'drugName', 'condition', 'review', 'rating', 'date', 'usefulCount'],\n",
       "        num_rows: 53471\n",
       "    })\n",
       "})"
      ]
     },
     "execution_count": 27,
     "metadata": {},
     "output_type": "execute_result"
    }
   ],
   "source": [
    "drug_dataset.filter(filter_nones)"
   ]
  },
  {
   "cell_type": "code",
   "execution_count": 28,
   "id": "5c3c77a3-33ab-4bc6-81fb-d75d02ce73f8",
   "metadata": {},
   "outputs": [
    {
     "data": {
      "text/plain": [
       "9"
      ]
     },
     "execution_count": 28,
     "metadata": {},
     "output_type": "execute_result"
    }
   ],
   "source": [
    "(lambda x: x * x)(3)"
   ]
  },
  {
   "cell_type": "code",
   "execution_count": 29,
   "id": "ce193934-b231-4b16-9823-0cedcce22ee4",
   "metadata": {},
   "outputs": [
    {
     "data": {
      "text/plain": [
       "16.0"
      ]
     },
     "execution_count": 29,
     "metadata": {},
     "output_type": "execute_result"
    }
   ],
   "source": [
    "(lambda base, height: 0.5 * height * base)(4, 8)"
   ]
  },
  {
   "cell_type": "code",
   "execution_count": 30,
   "id": "46b8a590-ae73-4e31-90fe-a688c1ebe3da",
   "metadata": {},
   "outputs": [],
   "source": [
    "drug_dataset = drug_dataset.filter(lambda x: x[\"condition\"] is not None)"
   ]
  },
  {
   "cell_type": "code",
   "execution_count": 31,
   "id": "63048f5d-d102-4d48-a39b-97f22e75fa66",
   "metadata": {},
   "outputs": [],
   "source": [
    "drug_dataset = drug_dataset.map(lowercase_condition)"
   ]
  },
  {
   "cell_type": "code",
   "execution_count": 32,
   "id": "8440a656-f5bc-4477-9f32-a6977916e4d3",
   "metadata": {},
   "outputs": [
    {
     "data": {
      "text/plain": [
       "['left ventricular dysfunction', 'adhd', 'birth control']"
      ]
     },
     "execution_count": 32,
     "metadata": {},
     "output_type": "execute_result"
    }
   ],
   "source": [
    "drug_dataset[\"train\"][\"condition\"][:3]"
   ]
  },
  {
   "cell_type": "code",
   "execution_count": 33,
   "id": "b0b0a12a-e744-4cf7-ba95-d8733527bd04",
   "metadata": {},
   "outputs": [],
   "source": [
    "def compute_review_length(example):\n",
    "    return {\"review_length\": len(example[\"review\"].split())}"
   ]
  },
  {
   "cell_type": "code",
   "execution_count": 34,
   "id": "2a1cb7cd-fcec-401a-b863-5bf13203fc92",
   "metadata": {},
   "outputs": [],
   "source": [
    "drug_dataset = drug_dataset.map(compute_review_length)"
   ]
  },
  {
   "cell_type": "code",
   "execution_count": 35,
   "id": "f126ddfa-c3b6-44b9-8e52-90dc606cd179",
   "metadata": {},
   "outputs": [
    {
     "data": {
      "text/plain": [
       "{'patient_id': 206461,\n",
       " 'drugName': 'Valsartan',\n",
       " 'condition': 'left ventricular dysfunction',\n",
       " 'review': '\"It has no side effect, I take it in combination of Bystolic 5 Mg and Fish Oil\"',\n",
       " 'rating': 9.0,\n",
       " 'date': 'May 20, 2012',\n",
       " 'usefulCount': 27,\n",
       " 'review_length': 17}"
      ]
     },
     "execution_count": 35,
     "metadata": {},
     "output_type": "execute_result"
    }
   ],
   "source": [
    "drug_dataset[\"train\"][0]"
   ]
  },
  {
   "cell_type": "code",
   "execution_count": 36,
   "id": "3c284a40-a44c-4f7b-bcc3-491bf48fe9c2",
   "metadata": {},
   "outputs": [
    {
     "data": {
      "text/plain": [
       "{'patient_id': [111469, 13653, 53602],\n",
       " 'drugName': ['Ledipasvir / sofosbuvir',\n",
       "  'Amphetamine / dextroamphetamine',\n",
       "  'Alesse'],\n",
       " 'condition': ['hepatitis c', 'adhd', 'birth control'],\n",
       " 'review': ['\"Headache\"', '\"Great\"', '\"Awesome\"'],\n",
       " 'rating': [10.0, 10.0, 10.0],\n",
       " 'date': ['February 3, 2015', 'October 20, 2009', 'November 23, 2015'],\n",
       " 'usefulCount': [41, 3, 0],\n",
       " 'review_length': [1, 1, 1]}"
      ]
     },
     "execution_count": 36,
     "metadata": {},
     "output_type": "execute_result"
    }
   ],
   "source": [
    "drug_dataset[\"train\"].sort(\"review_length\")[:3]"
   ]
  },
  {
   "cell_type": "code",
   "execution_count": 37,
   "id": "ca5ce88f-a417-4d54-9dd6-94fd31db7b00",
   "metadata": {},
   "outputs": [],
   "source": [
    "drug_dataset = drug_dataset.filter(lambda x: x[\"review_length\"] > 30)"
   ]
  },
  {
   "cell_type": "code",
   "execution_count": 38,
   "id": "dd426d9d-9e04-4c98-b256-611b71ea7e5e",
   "metadata": {},
   "outputs": [
    {
     "data": {
      "text/plain": [
       "{'train': 138514, 'test': 46108}"
      ]
     },
     "execution_count": 38,
     "metadata": {},
     "output_type": "execute_result"
    }
   ],
   "source": [
    "drug_dataset.num_rows"
   ]
  },
  {
   "cell_type": "code",
   "execution_count": 41,
   "id": "1c0fe2c6-261a-4625-88cb-d8e94038bc09",
   "metadata": {},
   "outputs": [],
   "source": [
    "sorted_drug_dataset = drug_dataset['test'].sort('review_length', reverse=True)"
   ]
  },
  {
   "cell_type": "code",
   "execution_count": 45,
   "id": "d98fa48a-5dc4-4d29-9308-54147ca254ef",
   "metadata": {},
   "outputs": [
    {
     "data": {
      "text/plain": [
       "{'patient_id': [45000],\n",
       " 'drugName': ['Fluoxetine'],\n",
       " 'condition': ['obsessive compulsive disorde'],\n",
       " 'review': ['\"I don&rsquo;t find a lot of positive stories about antidepressants, or I find stories where people are taking the antidepressant the wrong way.\\r\\n\\r\\nI wanted to share my experience.  A positive one.\\r\\n\\r\\nI&rsquo;ve had generalized anxiety disorder, SEVERE OCD, and panic disorder for as long as I can remember.  My first memory of having an episode was when I was 4 years old at my kindergarten interview.  I feel as though I was born with the illnesses mentioned above, right from the womb.  When I was a child I was extremely anxious, had bad separation anxiety from my parents and had extreme OCD, I was just a kid and thought that the way I was feeling is how all kids felt, I didn&rsquo;t realize that I was different.  This went on, and got even worse in middle school.  I began developing trichtilomania in middle school.  In high school I went from being a 90% above student, to failing every class within a couple of years.  I couldn&rsquo;t leave the house.  My panic disorder and gad caused debilitating physical symptoms.  I would be shaking when I had to leave the house, I wouldn&rsquo;t drink alcohol because I was afraid of vomiting, I was suffering so much, for my whole entire life with severe phobias, fears, and anxiety.  I prayed and prayed and prayed to God every night for it to go away.  I was a 16 year old living in a prison of her own mind.  It never went away.  Every single day was the worst day of my life, I would wake up and the thoughts just started,  I never had a break.  My life was exhausting.\\r\\n\\r\\nI am of east indian background and my parents didn&rsquo;t understand mental illness well.  It is very taboo in my culture.  I went to tons of doctors and they told me it was just growing pains,  no doctor ever told me that maybe I should see a therapist.  I didn&rsquo;t have any support.  When I was 22 I attempted suicide.  Luckily the attempt didn&rsquo;t work and I was forced to go on medication.  I was livid, I was so against antidepressants, I was so so so scared, it felt unnatural. My general practitioner put me on Effexor, I took it for almost 8 weeks, it helped me to not want to kill myself, but It also made me gain tons of weight which made me depressed, and it make me hear voices.  One evening a voice told me to choke my mom, and I started freaking out and my parents drove me immediately to the hospital.  At the hospital I talked to a psych nurse who calmed me down, and got me an appointment with a psychiatrist the next day.  This appointment and this psychiatrist saved my life, and changed my entire life.\\r\\n\\r\\nI want to really mention that you should not be going to a General Practitioner for mental illness medication, you should ALWAYS&hellip;ALWAYS go to a psychiatrist no matter what.  If your GP is the only person you are seeing to help you manage your meds for ocd, anxiety, etc, that is the WRONG MOVE.  That is such a common mistake people are making, you NEED a psychiatrist in order to get the meds right, please do not just go to your regular doctor, you&rsquo;ll be cheating yourself.\\r\\n\\r\\nI went to the psychiatrist appointment the next day.  It was the first time I had ever seen a psychiatrist.   I got into her room and we talked about everything, my childhood, my phobias, my ocd.  She then brought my parents into the room to explain the whole situation to them and the fact that I have a chemical imbalance in my brain and that I have been suffering for way too long.  My parents were so supportive.  The doctor told me I was on the wrong medication, that I never should have been placed on Effexor which is an SNRI, and that I should be on an SSRI considering my main problem is OCD and GAD.  We talked a lot about it and she told me she would like to place me on Prozac.  She said for me, because my neural pathways have been the same for 20 plus years, that I would need a higher dosage of Prozac especially for anxiety and OCD.   I see on this forum, that so many people are on 20mg, or 40mg for anxiety disorders.   You should be on 60mg at least, do not be afraid to go higher.  People that say Prozac or an SSRI didn&rsquo;t really do anything for their anxiety or ocd is because they are only taking a 20mg dose,  That is not an OCD dose.  40-80mg for anxiety and OCD.   Please up your dose.   Use the medication, REALLY USE IT.  Do not be afraid!\\r\\n\\r\\nMy doctor started me on 40mg, eventually took me to 100mg, and then I went back to 80mg.  Yes the side effects are insane, I was nauseated, I couldn&rsquo;t sleep, I was shaking, I had anxiety, but she prescribed me Ativan and said to use it until the Prozac kicked in.  That the Ativan would keep me comfortable until that happened.  Don&rsquo;t try to be a hero, use your Ativan or your Xanax or whatever to stay as comfortable as possible.\\r\\n\\r\\nI could write so much more, but I&rsquo;ll conclude with this.  4 months after being on 80mg of Prozac everyday, I woke up one day and I was cured.   Yes cured.  I had no OCD, I had no anxiety, I no longer had fears or phobias.   I was cured.   You have no idea how that day felt.  It was like the first day of my whole entire life.  I woke up being the real me, who is free spirited and isn&rsquo;t afraid of anything!  I was finally free, I was no longer a prisoner.  I didn&rsquo;t even have to go to therapy.  I just woke up one day a brand new person, from taking a high dose of Prozac every single day.\\r\\n\\r\\nDO NOT go off of the antidepressants.   Your ocd, your anxiety, depression etc will come back.  I WOULD never dream or even think to come off of my antidepressants,  I have an illness, that will return if I go off the medication, because I have a brain disorder.  OCD is a brain disorder.  Do not stop taking medication for your brain disorder, do not try to fix your brain disorder with just a 20mg or 40mg dose.  Own your medication, be on it for life.\\r\\n\\r\\nIt&rsquo;s been 5 years since I have been cured.  If it wasn&rsquo;t for Prozac, I would be dead.\\r\\n\\r\\n1)\\tYou need a psychiatrist\\r\\n2)\\tDo not be afraid to take more than 40mg of Prozac to treat panic attacks etc,  I am on 80mg a day and my life is a ball.  It is so wonderful and so carefree.\\r\\n3)\\tDo not stop the meds.  Be on the meds for life.\"'],\n",
       " 'rating': [10.0],\n",
       " 'date': ['May 26, 2017'],\n",
       " 'usefulCount': [148],\n",
       " 'review_length': [1162]}"
      ]
     },
     "execution_count": 45,
     "metadata": {},
     "output_type": "execute_result"
    }
   ],
   "source": [
    "sorted_drug_dataset[:1]"
   ]
  },
  {
   "cell_type": "code",
   "execution_count": 46,
   "id": "d5562768-c934-4bbf-b7c6-fbda1276d4a7",
   "metadata": {},
   "outputs": [
    {
     "data": {
      "text/plain": [
       "\"I'm a transformer called BERT\""
      ]
     },
     "execution_count": 46,
     "metadata": {},
     "output_type": "execute_result"
    }
   ],
   "source": [
    "import html\n",
    "\n",
    "text = \"I&#039;m a transformer called BERT\"\n",
    "html.unescape(text)"
   ]
  },
  {
   "cell_type": "code",
   "execution_count": 47,
   "id": "037ab74f-37b6-40ce-90db-c7865ff59065",
   "metadata": {},
   "outputs": [
    {
     "data": {
      "application/vnd.jupyter.widget-view+json": {
       "model_id": "5d4e171c5f714861883de661e69e6e16",
       "version_major": 2,
       "version_minor": 0
      },
      "text/plain": [
       "Map:   0%|          | 0/138514 [00:00<?, ? examples/s]"
      ]
     },
     "metadata": {},
     "output_type": "display_data"
    },
    {
     "data": {
      "application/vnd.jupyter.widget-view+json": {
       "model_id": "0239f93170d14c4c9060d7bfaa984e08",
       "version_major": 2,
       "version_minor": 0
      },
      "text/plain": [
       "Map:   0%|          | 0/46108 [00:00<?, ? examples/s]"
      ]
     },
     "metadata": {},
     "output_type": "display_data"
    }
   ],
   "source": [
    "drug_dataset = drug_dataset.map(lambda x: {\"review\": html.unescape(x[\"review\"])})"
   ]
  },
  {
   "cell_type": "code",
   "execution_count": 49,
   "id": "be283b92-c926-4132-ab9b-9d7d055a3d98",
   "metadata": {},
   "outputs": [
    {
     "data": {
      "text/plain": [
       "{'patient_id': [163740],\n",
       " 'drugName': ['Mirtazapine'],\n",
       " 'condition': ['depression'],\n",
       " 'review': ['\"I\\'ve tried a few antidepressants over the years (citalopram, fluoxetine, amitriptyline), but none of those helped with my depression, insomnia & anxiety. My doctor suggested and changed me onto 45mg mirtazapine and this medicine has saved my life. Thankfully I have had no side effects especially the most common - weight gain, I\\'ve actually lost alot of weight. I still have suicidal thoughts but mirtazapine has saved me.\"'],\n",
       " 'rating': [10.0],\n",
       " 'date': ['February 28, 2012'],\n",
       " 'usefulCount': [22],\n",
       " 'review_length': [68]}"
      ]
     },
     "execution_count": 49,
     "metadata": {},
     "output_type": "execute_result"
    }
   ],
   "source": [
    "drug_dataset['test'][:1]"
   ]
  },
  {
   "cell_type": "code",
   "execution_count": 50,
   "id": "5a364ac1-a799-49eb-98e4-78a33823faac",
   "metadata": {},
   "outputs": [
    {
     "data": {
      "application/vnd.jupyter.widget-view+json": {
       "model_id": "abf42aa2f7e04e72a42a4b0aa7ed1d7b",
       "version_major": 2,
       "version_minor": 0
      },
      "text/plain": [
       "Map:   0%|          | 0/138514 [00:00<?, ? examples/s]"
      ]
     },
     "metadata": {},
     "output_type": "display_data"
    },
    {
     "data": {
      "application/vnd.jupyter.widget-view+json": {
       "model_id": "a0da6648e52d4068990c9adc7294c415",
       "version_major": 2,
       "version_minor": 0
      },
      "text/plain": [
       "Map:   0%|          | 0/46108 [00:00<?, ? examples/s]"
      ]
     },
     "metadata": {},
     "output_type": "display_data"
    }
   ],
   "source": [
    "new_drug_dataset = drug_dataset.map(\n",
    "    lambda x: {\"review\": [html.unescape(o) for o in x[\"review\"]]}, batched=True\n",
    ")"
   ]
  },
  {
   "cell_type": "code",
   "execution_count": 51,
   "id": "359d9c6d-9655-47c1-b5cd-a1bf4032e60d",
   "metadata": {},
   "outputs": [],
   "source": [
    "from transformers import AutoTokenizer\n",
    "\n",
    "tokenizer = AutoTokenizer.from_pretrained(\"bert-base-cased\")\n",
    "\n",
    "\n",
    "def tokenize_function(examples):\n",
    "    return tokenizer(examples[\"review\"], truncation=True)"
   ]
  },
  {
   "cell_type": "code",
   "execution_count": 52,
   "id": "e6352653-e425-4648-bbf0-532cba6c71ad",
   "metadata": {},
   "outputs": [
    {
     "data": {
      "application/vnd.jupyter.widget-view+json": {
       "model_id": "32dfa4a64a6c479684e01ff39b2b2cca",
       "version_major": 2,
       "version_minor": 0
      },
      "text/plain": [
       "Map:   0%|          | 0/138514 [00:00<?, ? examples/s]"
      ]
     },
     "metadata": {},
     "output_type": "display_data"
    },
    {
     "data": {
      "application/vnd.jupyter.widget-view+json": {
       "model_id": "22f1ccefc6e1498fb6560e20c545c834",
       "version_major": 2,
       "version_minor": 0
      },
      "text/plain": [
       "Map:   0%|          | 0/46108 [00:00<?, ? examples/s]"
      ]
     },
     "metadata": {},
     "output_type": "display_data"
    },
    {
     "name": "stdout",
     "output_type": "stream",
     "text": [
      "CPU times: user 3min 40s, sys: 3.22 s, total: 3min 43s\n",
      "Wall time: 1min 18s\n"
     ]
    }
   ],
   "source": [
    "%time tokenized_dataset = drug_dataset.map(tokenize_function, batched=True)"
   ]
  },
  {
   "cell_type": "code",
   "execution_count": 60,
   "id": "f538d3f6-de2e-45b0-ac5a-cddb8e10b48c",
   "metadata": {},
   "outputs": [],
   "source": [
    "slow_tokenizer = AutoTokenizer.from_pretrained(\"bert-base-cased\", use_fast=False)"
   ]
  },
  {
   "cell_type": "code",
   "execution_count": 61,
   "id": "284e5ea0-ba01-4b3f-910c-dcf8ea5b3045",
   "metadata": {},
   "outputs": [],
   "source": [
    "def slow_tokenize_function(examples):\n",
    "    return slow_tokenizer(examples[\"review\"], truncation=True)"
   ]
  },
  {
   "cell_type": "code",
   "execution_count": 58,
   "id": "7a06e7bb-69db-4330-92b5-3df7dd024c80",
   "metadata": {},
   "outputs": [
    {
     "name": "stdout",
     "output_type": "stream",
     "text": [
      "CPU times: user 57.3 ms, sys: 127 ms, total: 184 ms\n",
      "Wall time: 479 ms\n"
     ]
    }
   ],
   "source": [
    "%time tokenized_dataset = drug_dataset.map(tokenize_function, batched=False)"
   ]
  },
  {
   "cell_type": "code",
   "execution_count": 62,
   "id": "85ade010-c023-49f8-8518-a15073e600d8",
   "metadata": {},
   "outputs": [
    {
     "data": {
      "application/vnd.jupyter.widget-view+json": {
       "model_id": "3bed64cd7245405cba1129c6c61eb460",
       "version_major": 2,
       "version_minor": 0
      },
      "text/plain": [
       "Map:   0%|          | 0/138514 [00:00<?, ? examples/s]"
      ]
     },
     "metadata": {},
     "output_type": "display_data"
    },
    {
     "data": {
      "application/vnd.jupyter.widget-view+json": {
       "model_id": "4d0714dffb044679816e2bef2728983f",
       "version_major": 2,
       "version_minor": 0
      },
      "text/plain": [
       "Map:   0%|          | 0/46108 [00:00<?, ? examples/s]"
      ]
     },
     "metadata": {},
     "output_type": "display_data"
    },
    {
     "name": "stdout",
     "output_type": "stream",
     "text": [
      "CPU times: user 6min 41s, sys: 5.06 s, total: 6min 47s\n",
      "Wall time: 8min 43s\n"
     ]
    }
   ],
   "source": [
    "%time tokenized_dataset = drug_dataset.map(slow_tokenize_function, batched=True)"
   ]
  },
  {
   "cell_type": "code",
   "execution_count": null,
   "id": "22399909-e78f-426d-9c90-f55a6e4bedc4",
   "metadata": {},
   "outputs": [
    {
     "data": {
      "application/vnd.jupyter.widget-view+json": {
       "model_id": "bc9f311b02d843ac97999a9edbe049e2",
       "version_major": 2,
       "version_minor": 0
      },
      "text/plain": [
       "Map:   0%|          | 0/138514 [00:00<?, ? examples/s]"
      ]
     },
     "metadata": {},
     "output_type": "display_data"
    }
   ],
   "source": [
    "%time tokenized_dataset = drug_dataset.map(slow_tokenize_function, batched=False)"
   ]
  },
  {
   "cell_type": "code",
   "execution_count": null,
   "id": "3aa5ea41-09b9-44fc-9936-fa0de0f3b48d",
   "metadata": {},
   "outputs": [],
   "source": []
  }
 ],
 "metadata": {
  "kernelspec": {
   "display_name": "transformers-course",
   "language": "python",
   "name": "transformers-course"
  },
  "language_info": {
   "codemirror_mode": {
    "name": "ipython",
    "version": 3
   },
   "file_extension": ".py",
   "mimetype": "text/x-python",
   "name": "python",
   "nbconvert_exporter": "python",
   "pygments_lexer": "ipython3",
   "version": "3.9.17"
  }
 },
 "nbformat": 4,
 "nbformat_minor": 5
}
