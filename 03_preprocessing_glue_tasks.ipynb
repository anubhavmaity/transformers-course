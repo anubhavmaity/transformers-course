{
 "cells": [
  {
   "cell_type": "markdown",
   "id": "a116a790-f81d-4bce-89d6-d7eccc2f368d",
   "metadata": {},
   "source": [
    "# Preprocessing Glue Tasks\n",
    "> Creating a preprocessing function that works for any glue tasks"
   ]
  },
  {
   "cell_type": "markdown",
   "id": "a7a682ca-27b7-496e-8098-3c69723a7733",
   "metadata": {},
   "source": [
    "What are the datasets under Glue tasks?"
   ]
  },
  {
   "cell_type": "markdown",
   "id": "992c6894-50bc-41ae-b62b-d9680a8303d9",
   "metadata": {},
   "source": [
    "1. ax\n",
    "2. cola\n",
    "3. mnli\n",
    "4. mnli_matched\n",
    "5. mnli_mismatched\n",
    "6. mrpc\n",
    "7. qnli\n",
    "8. qqp\n",
    "9. rte\n",
    "10. sst2\n",
    "11. stsb\n",
    "12. wnli"
   ]
  },
  {
   "cell_type": "code",
   "execution_count": 2,
   "id": "f2e5affe-a3dd-4772-89cd-7ef1c60d0a35",
   "metadata": {},
   "outputs": [
    {
     "name": "stderr",
     "output_type": "stream",
     "text": [
      "/Users/anubhavmaity/mambaforge/envs/transformers-course/lib/python3.9/site-packages/tqdm/auto.py:21: TqdmWarning: IProgress not found. Please update jupyter and ipywidgets. See https://ipywidgets.readthedocs.io/en/stable/user_install.html\n",
      "  from .autonotebook import tqdm as notebook_tqdm\n"
     ]
    }
   ],
   "source": [
    "from datasets import load_dataset"
   ]
  },
  {
   "cell_type": "markdown",
   "id": "c59363f0-4b1c-49b6-b891-30962174d2ea",
   "metadata": {},
   "source": [
    "## Ax"
   ]
  },
  {
   "cell_type": "code",
   "execution_count": 4,
   "id": "4db13382-f35b-4dc8-ada2-a45b0c96f782",
   "metadata": {},
   "outputs": [
    {
     "data": {
      "text/plain": [
       "DatasetDict({\n",
       "    test: Dataset({\n",
       "        features: ['premise', 'hypothesis', 'label', 'idx'],\n",
       "        num_rows: 1104\n",
       "    })\n",
       "})"
      ]
     },
     "execution_count": 4,
     "metadata": {},
     "output_type": "execute_result"
    }
   ],
   "source": [
    "ax_dataset = load_dataset('glue', 'ax'); ax_dataset"
   ]
  },
  {
   "cell_type": "markdown",
   "id": "95384cfb-24d7-401c-aef1-bca560e8cd6d",
   "metadata": {},
   "source": [
    "## Cola"
   ]
  },
  {
   "cell_type": "code",
   "execution_count": 6,
   "id": "89f7b8db-4995-457b-ae01-e1aa1d217784",
   "metadata": {},
   "outputs": [
    {
     "name": "stderr",
     "output_type": "stream",
     "text": [
      "Downloading data: 100%|██████████████████████████████████████████████████████████████████████████████████████████████████████████████████████████████████████████████████| 377k/377k [00:00<00:00, 4.56MB/s]\n",
      "Generating train split: 100%|█████████████████████████████████████████████████████████████████████████████████████████████████████████████████████████████████| 8551/8551 [00:00<00:00, 26801.70 examples/s]\n",
      "Generating validation split: 100%|████████████████████████████████████████████████████████████████████████████████████████████████████████████████████████████| 1043/1043 [00:00<00:00, 21832.25 examples/s]\n",
      "Generating test split: 100%|██████████████████████████████████████████████████████████████████████████████████████████████████████████████████████████████████| 1063/1063 [00:00<00:00, 18950.36 examples/s]\n"
     ]
    },
    {
     "data": {
      "text/plain": [
       "DatasetDict({\n",
       "    train: Dataset({\n",
       "        features: ['sentence', 'label', 'idx'],\n",
       "        num_rows: 8551\n",
       "    })\n",
       "    validation: Dataset({\n",
       "        features: ['sentence', 'label', 'idx'],\n",
       "        num_rows: 1043\n",
       "    })\n",
       "    test: Dataset({\n",
       "        features: ['sentence', 'label', 'idx'],\n",
       "        num_rows: 1063\n",
       "    })\n",
       "})"
      ]
     },
     "execution_count": 6,
     "metadata": {},
     "output_type": "execute_result"
    }
   ],
   "source": [
    "cola_dataset = load_dataset('glue', 'cola'); cola_dataset"
   ]
  },
  {
   "cell_type": "markdown",
   "id": "d4d3e9db-88f8-42d9-b9f4-242c794646e9",
   "metadata": {},
   "source": [
    "## Mnli"
   ]
  },
  {
   "cell_type": "code",
   "execution_count": 7,
   "id": "8cbafd80-7df0-41d7-b223-b966e9b50428",
   "metadata": {},
   "outputs": [
    {
     "name": "stderr",
     "output_type": "stream",
     "text": [
      "Downloading data: 100%|██████████████████████████████████████████████████████████████████████████████████████████████████████████████████████████████████████████████████| 313M/313M [00:16<00:00, 18.8MB/s]\n",
      "Generating train split: 100%|█████████████████████████████████████████████████████████████████████████████████████████████████████████████████████████████| 392702/392702 [00:37<00:00, 10498.99 examples/s]\n",
      "Generating validation_matched split: 100%|████████████████████████████████████████████████████████████████████████████████████████████████████████████████████| 9815/9815 [00:00<00:00, 13027.33 examples/s]\n",
      "Generating validation_mismatched split: 100%|█████████████████████████████████████████████████████████████████████████████████████████████████████████████████| 9832/9832 [00:00<00:00, 13187.94 examples/s]\n",
      "Generating test_matched split: 100%|██████████████████████████████████████████████████████████████████████████████████████████████████████████████████████████| 9796/9796 [00:00<00:00, 14310.19 examples/s]\n",
      "Generating test_mismatched split: 100%|███████████████████████████████████████████████████████████████████████████████████████████████████████████████████████| 9847/9847 [00:00<00:00, 13711.69 examples/s]\n"
     ]
    },
    {
     "data": {
      "text/plain": [
       "DatasetDict({\n",
       "    train: Dataset({\n",
       "        features: ['premise', 'hypothesis', 'label', 'idx'],\n",
       "        num_rows: 392702\n",
       "    })\n",
       "    validation_matched: Dataset({\n",
       "        features: ['premise', 'hypothesis', 'label', 'idx'],\n",
       "        num_rows: 9815\n",
       "    })\n",
       "    validation_mismatched: Dataset({\n",
       "        features: ['premise', 'hypothesis', 'label', 'idx'],\n",
       "        num_rows: 9832\n",
       "    })\n",
       "    test_matched: Dataset({\n",
       "        features: ['premise', 'hypothesis', 'label', 'idx'],\n",
       "        num_rows: 9796\n",
       "    })\n",
       "    test_mismatched: Dataset({\n",
       "        features: ['premise', 'hypothesis', 'label', 'idx'],\n",
       "        num_rows: 9847\n",
       "    })\n",
       "})"
      ]
     },
     "execution_count": 7,
     "metadata": {},
     "output_type": "execute_result"
    }
   ],
   "source": [
    "mnli_dataset = load_dataset('glue', 'mnli'); mnli_dataset"
   ]
  },
  {
   "cell_type": "code",
   "execution_count": null,
   "id": "3a5e2ae6-f31e-4502-be48-d970726483c0",
   "metadata": {},
   "outputs": [],
   "source": []
  }
 ],
 "metadata": {
  "kernelspec": {
   "display_name": "transformers-course",
   "language": "python",
   "name": "transformers-course"
  },
  "language_info": {
   "codemirror_mode": {
    "name": "ipython",
    "version": 3
   },
   "file_extension": ".py",
   "mimetype": "text/x-python",
   "name": "python",
   "nbconvert_exporter": "python",
   "pygments_lexer": "ipython3",
   "version": "3.9.17"
  }
 },
 "nbformat": 4,
 "nbformat_minor": 5
}
