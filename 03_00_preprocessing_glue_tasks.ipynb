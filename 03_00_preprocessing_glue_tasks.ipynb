{
 "cells": [
  {
   "cell_type": "markdown",
   "id": "a116a790-f81d-4bce-89d6-d7eccc2f368d",
   "metadata": {},
   "source": [
    "# Preprocessing Glue Tasks\n",
    "> Creating a preprocessing function that works for any glue tasks"
   ]
  },
  {
   "cell_type": "markdown",
   "id": "a7a682ca-27b7-496e-8098-3c69723a7733",
   "metadata": {},
   "source": [
    "What are the datasets under Glue tasks?"
   ]
  },
  {
   "cell_type": "markdown",
   "id": "992c6894-50bc-41ae-b62b-d9680a8303d9",
   "metadata": {},
   "source": [
    "1. ax\n",
    "2. cola\n",
    "3. mnli\n",
    "4. mnli_matched\n",
    "5. mnli_mismatched\n",
    "6. mrpc\n",
    "7. qnli\n",
    "8. qqp\n",
    "9. rte\n",
    "10. sst2\n",
    "11. stsb\n",
    "12. wnli"
   ]
  },
  {
   "cell_type": "code",
   "execution_count": 1,
   "id": "f2e5affe-a3dd-4772-89cd-7ef1c60d0a35",
   "metadata": {},
   "outputs": [
    {
     "name": "stderr",
     "output_type": "stream",
     "text": [
      "/Users/anubhavmaity/mambaforge/envs/transformers-course/lib/python3.9/site-packages/tqdm/auto.py:21: TqdmWarning: IProgress not found. Please update jupyter and ipywidgets. See https://ipywidgets.readthedocs.io/en/stable/user_install.html\n",
      "  from .autonotebook import tqdm as notebook_tqdm\n"
     ]
    }
   ],
   "source": [
    "from datasets import load_dataset"
   ]
  },
  {
   "cell_type": "markdown",
   "id": "c59363f0-4b1c-49b6-b891-30962174d2ea",
   "metadata": {},
   "source": [
    "## Ax"
   ]
  },
  {
   "cell_type": "code",
   "execution_count": 2,
   "id": "4db13382-f35b-4dc8-ada2-a45b0c96f782",
   "metadata": {},
   "outputs": [
    {
     "data": {
      "text/plain": [
       "DatasetDict({\n",
       "    test: Dataset({\n",
       "        features: ['premise', 'hypothesis', 'label', 'idx'],\n",
       "        num_rows: 1104\n",
       "    })\n",
       "})"
      ]
     },
     "execution_count": 2,
     "metadata": {},
     "output_type": "execute_result"
    }
   ],
   "source": [
    "ax_dataset = load_dataset('glue', 'ax'); ax_dataset"
   ]
  },
  {
   "cell_type": "markdown",
   "id": "95384cfb-24d7-401c-aef1-bca560e8cd6d",
   "metadata": {},
   "source": [
    "## Cola"
   ]
  },
  {
   "cell_type": "code",
   "execution_count": 3,
   "id": "89f7b8db-4995-457b-ae01-e1aa1d217784",
   "metadata": {},
   "outputs": [
    {
     "data": {
      "text/plain": [
       "DatasetDict({\n",
       "    train: Dataset({\n",
       "        features: ['sentence', 'label', 'idx'],\n",
       "        num_rows: 8551\n",
       "    })\n",
       "    validation: Dataset({\n",
       "        features: ['sentence', 'label', 'idx'],\n",
       "        num_rows: 1043\n",
       "    })\n",
       "    test: Dataset({\n",
       "        features: ['sentence', 'label', 'idx'],\n",
       "        num_rows: 1063\n",
       "    })\n",
       "})"
      ]
     },
     "execution_count": 3,
     "metadata": {},
     "output_type": "execute_result"
    }
   ],
   "source": [
    "cola_dataset = load_dataset('glue', 'cola'); cola_dataset"
   ]
  },
  {
   "cell_type": "markdown",
   "id": "d4d3e9db-88f8-42d9-b9f4-242c794646e9",
   "metadata": {},
   "source": [
    "## Mnli"
   ]
  },
  {
   "cell_type": "code",
   "execution_count": 6,
   "id": "8cbafd80-7df0-41d7-b223-b966e9b50428",
   "metadata": {},
   "outputs": [
    {
     "data": {
      "text/plain": [
       "DatasetDict({\n",
       "    train: Dataset({\n",
       "        features: ['premise', 'hypothesis', 'label', 'idx'],\n",
       "        num_rows: 392702\n",
       "    })\n",
       "    validation_matched: Dataset({\n",
       "        features: ['premise', 'hypothesis', 'label', 'idx'],\n",
       "        num_rows: 9815\n",
       "    })\n",
       "    validation_mismatched: Dataset({\n",
       "        features: ['premise', 'hypothesis', 'label', 'idx'],\n",
       "        num_rows: 9832\n",
       "    })\n",
       "    test_matched: Dataset({\n",
       "        features: ['premise', 'hypothesis', 'label', 'idx'],\n",
       "        num_rows: 9796\n",
       "    })\n",
       "    test_mismatched: Dataset({\n",
       "        features: ['premise', 'hypothesis', 'label', 'idx'],\n",
       "        num_rows: 9847\n",
       "    })\n",
       "})"
      ]
     },
     "execution_count": 6,
     "metadata": {},
     "output_type": "execute_result"
    }
   ],
   "source": [
    "mnli_dataset = load_dataset('glue', 'mnli'); mnli_dataset"
   ]
  },
  {
   "cell_type": "markdown",
   "id": "c7ea82d5-0935-4840-87d1-52b66ce5d836",
   "metadata": {},
   "source": [
    "## Mnli Matched"
   ]
  },
  {
   "cell_type": "code",
   "execution_count": 7,
   "id": "ccdf82cc-0132-4610-9ca6-21c3ac37f6e3",
   "metadata": {},
   "outputs": [
    {
     "data": {
      "text/plain": [
       "DatasetDict({\n",
       "    validation: Dataset({\n",
       "        features: ['premise', 'hypothesis', 'label', 'idx'],\n",
       "        num_rows: 9815\n",
       "    })\n",
       "    test: Dataset({\n",
       "        features: ['premise', 'hypothesis', 'label', 'idx'],\n",
       "        num_rows: 9796\n",
       "    })\n",
       "})"
      ]
     },
     "execution_count": 7,
     "metadata": {},
     "output_type": "execute_result"
    }
   ],
   "source": [
    "mnli_matched_dataset = load_dataset('glue', 'mnli_matched'); mnli_matched_dataset"
   ]
  },
  {
   "cell_type": "markdown",
   "id": "ed8b2a10-e931-4311-8a61-c8467842b416",
   "metadata": {},
   "source": [
    "## Mnli Mismatched"
   ]
  },
  {
   "cell_type": "code",
   "execution_count": 8,
   "id": "3c3e8cdc-42eb-410f-9375-1a6c916a80ba",
   "metadata": {},
   "outputs": [
    {
     "name": "stderr",
     "output_type": "stream",
     "text": [
      "Generating validation split: 100%|████████████████████████████████████████████████████████████████████████████████████████████████████████████████████████████| 9832/9832 [00:00<00:00, 11110.45 examples/s]\n",
      "Generating test split: 100%|██████████████████████████████████████████████████████████████████████████████████████████████████████████████████████████████████| 9847/9847 [00:00<00:00, 13114.35 examples/s]\n"
     ]
    },
    {
     "data": {
      "text/plain": [
       "DatasetDict({\n",
       "    validation: Dataset({\n",
       "        features: ['premise', 'hypothesis', 'label', 'idx'],\n",
       "        num_rows: 9832\n",
       "    })\n",
       "    test: Dataset({\n",
       "        features: ['premise', 'hypothesis', 'label', 'idx'],\n",
       "        num_rows: 9847\n",
       "    })\n",
       "})"
      ]
     },
     "execution_count": 8,
     "metadata": {},
     "output_type": "execute_result"
    }
   ],
   "source": [
    "mnli_mismatched_dataset = load_dataset('glue', 'mnli_mismatched'); mnli_mismatched_dataset"
   ]
  },
  {
   "cell_type": "markdown",
   "id": "beba89c2-e0e3-4e4e-8ab8-99b3f55783e5",
   "metadata": {},
   "source": [
    "## Mrpc"
   ]
  },
  {
   "cell_type": "code",
   "execution_count": 9,
   "id": "fd6f93b3-7fee-49c8-b62c-bec100c1b0f1",
   "metadata": {},
   "outputs": [
    {
     "data": {
      "text/plain": [
       "DatasetDict({\n",
       "    train: Dataset({\n",
       "        features: ['sentence1', 'sentence2', 'label', 'idx'],\n",
       "        num_rows: 3668\n",
       "    })\n",
       "    validation: Dataset({\n",
       "        features: ['sentence1', 'sentence2', 'label', 'idx'],\n",
       "        num_rows: 408\n",
       "    })\n",
       "    test: Dataset({\n",
       "        features: ['sentence1', 'sentence2', 'label', 'idx'],\n",
       "        num_rows: 1725\n",
       "    })\n",
       "})"
      ]
     },
     "execution_count": 9,
     "metadata": {},
     "output_type": "execute_result"
    }
   ],
   "source": [
    "mrpc_dataset = load_dataset('glue', 'mrpc'); mrpc_dataset"
   ]
  },
  {
   "cell_type": "markdown",
   "id": "40179875-f3b4-41ea-a23e-a4c4dcc0c973",
   "metadata": {},
   "source": [
    "## Qnli"
   ]
  },
  {
   "cell_type": "code",
   "execution_count": 10,
   "id": "10d5d6af-071b-464e-a266-b6879714bdc9",
   "metadata": {},
   "outputs": [
    {
     "name": "stderr",
     "output_type": "stream",
     "text": [
      "Downloading data: 100%|████████████████████████████████████████████████████████████████████████████████████████████████████████████████████████████████████████████████| 10.6M/10.6M [00:00<00:00, 17.5MB/s]\n",
      "Generating train split: 100%|█████████████████████████████████████████████████████████████████████████████████████████████████████████████████████████████| 104743/104743 [00:05<00:00, 18316.29 examples/s]\n",
      "Generating validation split: 100%|████████████████████████████████████████████████████████████████████████████████████████████████████████████████████████████| 5463/5463 [00:00<00:00, 17127.22 examples/s]\n",
      "Generating test split: 100%|██████████████████████████████████████████████████████████████████████████████████████████████████████████████████████████████████| 5463/5463 [00:00<00:00, 19257.89 examples/s]\n"
     ]
    },
    {
     "data": {
      "text/plain": [
       "DatasetDict({\n",
       "    train: Dataset({\n",
       "        features: ['question', 'sentence', 'label', 'idx'],\n",
       "        num_rows: 104743\n",
       "    })\n",
       "    validation: Dataset({\n",
       "        features: ['question', 'sentence', 'label', 'idx'],\n",
       "        num_rows: 5463\n",
       "    })\n",
       "    test: Dataset({\n",
       "        features: ['question', 'sentence', 'label', 'idx'],\n",
       "        num_rows: 5463\n",
       "    })\n",
       "})"
      ]
     },
     "execution_count": 10,
     "metadata": {},
     "output_type": "execute_result"
    }
   ],
   "source": [
    "qnli_dataset = load_dataset('glue', 'qnli'); qnli_dataset"
   ]
  },
  {
   "cell_type": "markdown",
   "id": "c372e135-e15a-452a-ae42-3ad11665bc6a",
   "metadata": {},
   "source": [
    "## Qqp"
   ]
  },
  {
   "cell_type": "code",
   "execution_count": 11,
   "id": "bdc249e1-e21f-42f3-abd3-c0e488c95116",
   "metadata": {},
   "outputs": [
    {
     "name": "stderr",
     "output_type": "stream",
     "text": [
      "Downloading data: 100%|████████████████████████████████████████████████████████████████████████████████████████████████████████████████████████████████████████████████| 41.7M/41.7M [00:01<00:00, 26.3MB/s]\n",
      "Generating train split: 100%|█████████████████████████████████████████████████████████████████████████████████████████████████████████████████████████████| 363846/363846 [00:19<00:00, 18861.09 examples/s]\n",
      "Generating validation split: 100%|██████████████████████████████████████████████████████████████████████████████████████████████████████████████████████████| 40430/40430 [00:02<00:00, 19571.32 examples/s]\n",
      "Generating test split: 100%|██████████████████████████████████████████████████████████████████████████████████████████████████████████████████████████████| 390965/390965 [00:20<00:00, 19451.12 examples/s]\n"
     ]
    },
    {
     "data": {
      "text/plain": [
       "DatasetDict({\n",
       "    train: Dataset({\n",
       "        features: ['question1', 'question2', 'label', 'idx'],\n",
       "        num_rows: 363846\n",
       "    })\n",
       "    validation: Dataset({\n",
       "        features: ['question1', 'question2', 'label', 'idx'],\n",
       "        num_rows: 40430\n",
       "    })\n",
       "    test: Dataset({\n",
       "        features: ['question1', 'question2', 'label', 'idx'],\n",
       "        num_rows: 390965\n",
       "    })\n",
       "})"
      ]
     },
     "execution_count": 11,
     "metadata": {},
     "output_type": "execute_result"
    }
   ],
   "source": [
    "qqp_dataset = load_dataset('glue', 'qqp'); qqp_dataset"
   ]
  },
  {
   "cell_type": "markdown",
   "id": "a203857e-a25d-476d-ba27-541f3a7770eb",
   "metadata": {},
   "source": [
    "## Rte"
   ]
  },
  {
   "cell_type": "code",
   "execution_count": 12,
   "id": "7b5ecdf1-65a7-41b8-bc0c-555268ec65af",
   "metadata": {},
   "outputs": [
    {
     "name": "stderr",
     "output_type": "stream",
     "text": [
      "Downloading data: 100%|██████████████████████████████████████████████████████████████████████████████████████████████████████████████████████████████████████████████████| 697k/697k [00:00<00:00, 5.74MB/s]\n",
      "Generating train split: 100%|█████████████████████████████████████████████████████████████████████████████████████████████████████████████████████████████████| 2490/2490 [00:00<00:00, 13195.62 examples/s]\n",
      "Generating validation split: 100%|███████████████████████████████████████████████████████████████████████████████████████████████████████████████████████████████| 277/277 [00:00<00:00, 9369.46 examples/s]\n",
      "Generating test split: 100%|██████████████████████████████████████████████████████████████████████████████████████████████████████████████████████████████████| 3000/3000 [00:00<00:00, 17456.99 examples/s]\n"
     ]
    },
    {
     "data": {
      "text/plain": [
       "DatasetDict({\n",
       "    train: Dataset({\n",
       "        features: ['sentence1', 'sentence2', 'label', 'idx'],\n",
       "        num_rows: 2490\n",
       "    })\n",
       "    validation: Dataset({\n",
       "        features: ['sentence1', 'sentence2', 'label', 'idx'],\n",
       "        num_rows: 277\n",
       "    })\n",
       "    test: Dataset({\n",
       "        features: ['sentence1', 'sentence2', 'label', 'idx'],\n",
       "        num_rows: 3000\n",
       "    })\n",
       "})"
      ]
     },
     "execution_count": 12,
     "metadata": {},
     "output_type": "execute_result"
    }
   ],
   "source": [
    "rte_dataset = load_dataset('glue', 'rte'); rte_dataset"
   ]
  },
  {
   "cell_type": "markdown",
   "id": "ab4c666b-285e-46fa-add6-981690854d88",
   "metadata": {},
   "source": [
    "## Sst2"
   ]
  },
  {
   "cell_type": "code",
   "execution_count": 13,
   "id": "7e28f183-e26a-44ba-86f1-aa9c1069bac3",
   "metadata": {},
   "outputs": [
    {
     "data": {
      "text/plain": [
       "DatasetDict({\n",
       "    train: Dataset({\n",
       "        features: ['sentence', 'label', 'idx'],\n",
       "        num_rows: 67349\n",
       "    })\n",
       "    validation: Dataset({\n",
       "        features: ['sentence', 'label', 'idx'],\n",
       "        num_rows: 872\n",
       "    })\n",
       "    test: Dataset({\n",
       "        features: ['sentence', 'label', 'idx'],\n",
       "        num_rows: 1821\n",
       "    })\n",
       "})"
      ]
     },
     "execution_count": 13,
     "metadata": {},
     "output_type": "execute_result"
    }
   ],
   "source": [
    "sst2_dataset = load_dataset('glue', 'sst2'); sst2_dataset"
   ]
  },
  {
   "cell_type": "markdown",
   "id": "3bed4c28-39ab-44ae-a027-88066560783e",
   "metadata": {},
   "source": [
    "## Stsb"
   ]
  },
  {
   "cell_type": "code",
   "execution_count": 14,
   "id": "0ef598ab-de7a-47c8-8b3b-c037bddbf669",
   "metadata": {},
   "outputs": [
    {
     "name": "stderr",
     "output_type": "stream",
     "text": [
      "Downloading data: 100%|██████████████████████████████████████████████████████████████████████████████████████████████████████████████████████████████████████████████████| 803k/803k [00:00<00:00, 6.09MB/s]\n",
      "Generating train split: 100%|█████████████████████████████████████████████████████████████████████████████████████████████████████████████████████████████████| 5749/5749 [00:00<00:00, 15377.88 examples/s]\n",
      "Generating validation split: 100%|████████████████████████████████████████████████████████████████████████████████████████████████████████████████████████████| 1500/1500 [00:00<00:00, 12199.98 examples/s]\n",
      "Generating test split: 100%|██████████████████████████████████████████████████████████████████████████████████████████████████████████████████████████████████| 1379/1379 [00:00<00:00, 13323.66 examples/s]\n"
     ]
    },
    {
     "data": {
      "text/plain": [
       "DatasetDict({\n",
       "    train: Dataset({\n",
       "        features: ['sentence1', 'sentence2', 'label', 'idx'],\n",
       "        num_rows: 5749\n",
       "    })\n",
       "    validation: Dataset({\n",
       "        features: ['sentence1', 'sentence2', 'label', 'idx'],\n",
       "        num_rows: 1500\n",
       "    })\n",
       "    test: Dataset({\n",
       "        features: ['sentence1', 'sentence2', 'label', 'idx'],\n",
       "        num_rows: 1379\n",
       "    })\n",
       "})"
      ]
     },
     "execution_count": 14,
     "metadata": {},
     "output_type": "execute_result"
    }
   ],
   "source": [
    "stsb_dataset = load_dataset('glue', 'stsb'); stsb_dataset"
   ]
  },
  {
   "cell_type": "markdown",
   "id": "b189aa70-0797-4e2a-8d3e-e110a6ee49d0",
   "metadata": {},
   "source": [
    "## Wnli"
   ]
  },
  {
   "cell_type": "code",
   "execution_count": 15,
   "id": "b069e756-af24-42bd-a6fa-34c74eaca169",
   "metadata": {},
   "outputs": [
    {
     "name": "stderr",
     "output_type": "stream",
     "text": [
      "Downloading data: 100%|████████████████████████████████████████████████████████████████████████████████████████████████████████████████████████████████████████████████| 29.0k/29.0k [00:00<00:00, 7.27MB/s]\n",
      "Generating train split: 100%|███████████████████████████████████████████████████████████████████████████████████████████████████████████████████████████████████| 635/635 [00:00<00:00, 14755.67 examples/s]\n",
      "Generating validation split: 100%|█████████████████████████████████████████████████████████████████████████████████████████████████████████████████████████████████| 71/71 [00:00<00:00, 5368.98 examples/s]\n",
      "Generating test split: 100%|█████████████████████████████████████████████████████████████████████████████████████████████████████████████████████████████████████| 146/146 [00:00<00:00, 6406.00 examples/s]\n"
     ]
    },
    {
     "data": {
      "text/plain": [
       "DatasetDict({\n",
       "    train: Dataset({\n",
       "        features: ['sentence1', 'sentence2', 'label', 'idx'],\n",
       "        num_rows: 635\n",
       "    })\n",
       "    validation: Dataset({\n",
       "        features: ['sentence1', 'sentence2', 'label', 'idx'],\n",
       "        num_rows: 71\n",
       "    })\n",
       "    test: Dataset({\n",
       "        features: ['sentence1', 'sentence2', 'label', 'idx'],\n",
       "        num_rows: 146\n",
       "    })\n",
       "})"
      ]
     },
     "execution_count": 15,
     "metadata": {},
     "output_type": "execute_result"
    }
   ],
   "source": [
    "wnli_dataset = load_dataset('glue', 'wnli'); wnli_dataset"
   ]
  },
  {
   "cell_type": "code",
   "execution_count": 24,
   "id": "ee1164d3-8b90-47a3-85be-40f3ef6b6ba3",
   "metadata": {},
   "outputs": [
    {
     "data": {
      "text/plain": [
       "{'sentence1', 'sentence2'}"
      ]
     },
     "execution_count": 24,
     "metadata": {},
     "output_type": "execute_result"
    }
   ],
   "source": [
    "set(wnli_dataset['train'].features.keys()) - set(['label', 'idx'])"
   ]
  },
  {
   "cell_type": "markdown",
   "id": "38ffca8e-a928-4859-8a68-e6c794a00dd4",
   "metadata": {},
   "source": [
    "## Pre Processing"
   ]
  },
  {
   "cell_type": "code",
   "execution_count": 35,
   "id": "56099c88-43e5-4598-a253-fee4ef8df75e",
   "metadata": {},
   "outputs": [],
   "source": [
    "from transformers import AutoTokenizer\n",
    "from functools import partial\n",
    "from transformers import DataCollatorWithPadding"
   ]
  },
  {
   "cell_type": "code",
   "execution_count": 45,
   "id": "c4028d70-4057-4686-84f4-792e79d00c7e",
   "metadata": {},
   "outputs": [],
   "source": [
    "def tokenize(data, tokenizer, features_to_tokenize):\n",
    "    if len(features_to_tokenize) == 2:\n",
    "        f1, f2 = features_to_tokenize\n",
    "        return tokenizer(data[f1], data[f2], truncation=True)\n",
    "    else:\n",
    "        f1 = list(features_to_tokenize)[0]\n",
    "        return tokenizer(data[f1], truncation=True)"
   ]
  },
  {
   "cell_type": "code",
   "execution_count": 46,
   "id": "2d1f54e8-fa13-4394-8e06-d1f33c5d75e0",
   "metadata": {},
   "outputs": [],
   "source": [
    "def preprocess(task, checkpoint, type='train'):\n",
    "    dataset = load_dataset('glue', task)\n",
    "    tokenizer = AutoTokenizer.from_pretrained(checkpoint)\n",
    "    features_to_tokenize = set(dataset['train'].features.keys()) - set(['label', 'idx'])\n",
    "    toke = partial(tokenize, tokenizer=tokenizer, features_to_tokenize=features_to_tokenize)\n",
    "    tokenized_dataset = dataset.map(toke, batched=True)\n",
    "    ds = tokenized_dataset[type]\n",
    "    \n",
    "    return ds"
   ]
  },
  {
   "cell_type": "code",
   "execution_count": 53,
   "id": "30d6fc38-711b-4406-93c6-c3b161570746",
   "metadata": {},
   "outputs": [],
   "source": [
    "def get_batch(ds, checkpoint, bs=32):\n",
    "    tokenizer = AutoTokenizer.from_pretrained(checkpoint)\n",
    "    collator = DataCollatorWithPadding(tokenizer)\n",
    "    for i in range(0, len(ds), bs):\n",
    "        samples = ds[i: i + bs]\n",
    "        samples  = {k: v for k , v in samples.items() if k in ['input_ids', 'attention_mask', 'token_type_ids', 'sentence', 'label', 'idx']}\n",
    "        yield collator(samples)"
   ]
  },
  {
   "cell_type": "code",
   "execution_count": 54,
   "id": "ec065459-adbc-468d-87c6-62b5c148fe0c",
   "metadata": {},
   "outputs": [
    {
     "name": "stderr",
     "output_type": "stream",
     "text": [
      "Map: 100%|█████████████████████████████████████████████████████████████████████████████████████████████████████████████████████████████████████████████████████| 1379/1379 [00:00<00:00, 5738.56 examples/s]\n"
     ]
    },
    {
     "data": {
      "text/plain": [
       "Dataset({\n",
       "    features: ['sentence1', 'sentence2', 'label', 'idx', 'input_ids', 'token_type_ids', 'attention_mask'],\n",
       "    num_rows: 5749\n",
       "})"
      ]
     },
     "execution_count": 54,
     "metadata": {},
     "output_type": "execute_result"
    }
   ],
   "source": [
    "ds = preprocess('stsb', 'bert-base-uncased'); ds"
   ]
  },
  {
   "cell_type": "code",
   "execution_count": 64,
   "id": "b554708b-3be2-4840-b2c4-485b4c860992",
   "metadata": {},
   "outputs": [
    {
     "name": "stderr",
     "output_type": "stream",
     "text": [
      "You're using a BertTokenizerFast tokenizer. Please note that with a fast tokenizer, using the `__call__` method is faster than using a method to encode the text followed by a call to the `pad` method to get a padded encoding.\n"
     ]
    }
   ],
   "source": [
    "val = next(get_batch(ds, 'bert-base-uncased'))"
   ]
  },
  {
   "cell_type": "code",
   "execution_count": 65,
   "id": "57271fa2-5d2f-4ebb-8fae-268d92d2acce",
   "metadata": {},
   "outputs": [
    {
     "data": {
      "text/plain": [
       "torch.Size([32, 28])"
      ]
     },
     "execution_count": 65,
     "metadata": {},
     "output_type": "execute_result"
    }
   ],
   "source": [
    "val.input_ids.shape"
   ]
  },
  {
   "cell_type": "code",
   "execution_count": null,
   "id": "03dd90e6-9f44-44f6-a957-e891a4b5e5f0",
   "metadata": {},
   "outputs": [],
   "source": []
  }
 ],
 "metadata": {
  "kernelspec": {
   "display_name": "transformers-course",
   "language": "python",
   "name": "transformers-course"
  },
  "language_info": {
   "codemirror_mode": {
    "name": "ipython",
    "version": 3
   },
   "file_extension": ".py",
   "mimetype": "text/x-python",
   "name": "python",
   "nbconvert_exporter": "python",
   "pygments_lexer": "ipython3",
   "version": "3.9.17"
  }
 },
 "nbformat": 4,
 "nbformat_minor": 5
}
