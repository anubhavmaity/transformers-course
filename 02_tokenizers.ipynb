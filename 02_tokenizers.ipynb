{
 "cells": [
  {
   "cell_type": "markdown",
   "id": "4ee8223a-18ff-42ad-b3a3-c9cf9aee9aa8",
   "metadata": {},
   "source": [
    "# Tokenizers"
   ]
  },
  {
   "cell_type": "code",
   "execution_count": 23,
   "id": "659890d3-9f5b-4100-8e20-8e03777500de",
   "metadata": {},
   "outputs": [],
   "source": [
    "from rich import print\n",
    "from transformers import BertTokenizer\n",
    "import fastcore.all as fc"
   ]
  },
  {
   "cell_type": "code",
   "execution_count": 11,
   "id": "35f70bd5-4c67-4c76-9704-8efdf65eb56c",
   "metadata": {},
   "outputs": [],
   "source": [
    "tokenizer1 = BertTokenizer.from_pretrained('bert-base-cased')"
   ]
  },
  {
   "cell_type": "code",
   "execution_count": 12,
   "id": "9cf826ce-4048-4568-a9fb-009ae3f2ee4c",
   "metadata": {},
   "outputs": [],
   "source": [
    "haiku = '''\n",
    "    An old silent pond\n",
    "    A frog jumps into the pond—\n",
    "    Splash! Silence again.\n",
    "    '''"
   ]
  },
  {
   "cell_type": "code",
   "execution_count": 20,
   "id": "e9a306d8-da32-4a89-949b-2999ec3a8722",
   "metadata": {},
   "outputs": [
    {
     "data": {
      "text/html": [
       "<pre style=\"white-space:pre;overflow-x:auto;line-height:normal;font-family:Menlo,'DejaVu Sans Mono',consolas,'Courier New',monospace\"><span style=\"font-weight: bold\">{</span>\n",
       "    <span style=\"color: #008000; text-decoration-color: #008000\">'input_ids'</span>: <span style=\"font-weight: bold\">[</span>\n",
       "        <span style=\"color: #008080; text-decoration-color: #008080; font-weight: bold\">101</span>,\n",
       "        <span style=\"color: #008080; text-decoration-color: #008080; font-weight: bold\">1760</span>,\n",
       "        <span style=\"color: #008080; text-decoration-color: #008080; font-weight: bold\">1385</span>,\n",
       "        <span style=\"color: #008080; text-decoration-color: #008080; font-weight: bold\">3826</span>,\n",
       "        <span style=\"color: #008080; text-decoration-color: #008080; font-weight: bold\">11925</span>,\n",
       "        <span style=\"color: #008080; text-decoration-color: #008080; font-weight: bold\">138</span>,\n",
       "        <span style=\"color: #008080; text-decoration-color: #008080; font-weight: bold\">13670</span>,\n",
       "        <span style=\"color: #008080; text-decoration-color: #008080; font-weight: bold\">15457</span>,\n",
       "        <span style=\"color: #008080; text-decoration-color: #008080; font-weight: bold\">1154</span>,\n",
       "        <span style=\"color: #008080; text-decoration-color: #008080; font-weight: bold\">1103</span>,\n",
       "        <span style=\"color: #008080; text-decoration-color: #008080; font-weight: bold\">11925</span>,\n",
       "        <span style=\"color: #008080; text-decoration-color: #008080; font-weight: bold\">783</span>,\n",
       "        <span style=\"color: #008080; text-decoration-color: #008080; font-weight: bold\">156</span>,\n",
       "        <span style=\"color: #008080; text-decoration-color: #008080; font-weight: bold\">1643</span>,\n",
       "        <span style=\"color: #008080; text-decoration-color: #008080; font-weight: bold\">9936</span>,\n",
       "        <span style=\"color: #008080; text-decoration-color: #008080; font-weight: bold\">106</span>,\n",
       "        <span style=\"color: #008080; text-decoration-color: #008080; font-weight: bold\">12939</span>,\n",
       "        <span style=\"color: #008080; text-decoration-color: #008080; font-weight: bold\">1254</span>,\n",
       "        <span style=\"color: #008080; text-decoration-color: #008080; font-weight: bold\">119</span>,\n",
       "        <span style=\"color: #008080; text-decoration-color: #008080; font-weight: bold\">102</span>\n",
       "    <span style=\"font-weight: bold\">]</span>,\n",
       "    <span style=\"color: #008000; text-decoration-color: #008000\">'token_type_ids'</span>: <span style=\"font-weight: bold\">[</span><span style=\"color: #008080; text-decoration-color: #008080; font-weight: bold\">0</span>, <span style=\"color: #008080; text-decoration-color: #008080; font-weight: bold\">0</span>, <span style=\"color: #008080; text-decoration-color: #008080; font-weight: bold\">0</span>, <span style=\"color: #008080; text-decoration-color: #008080; font-weight: bold\">0</span>, <span style=\"color: #008080; text-decoration-color: #008080; font-weight: bold\">0</span>, <span style=\"color: #008080; text-decoration-color: #008080; font-weight: bold\">0</span>, <span style=\"color: #008080; text-decoration-color: #008080; font-weight: bold\">0</span>, <span style=\"color: #008080; text-decoration-color: #008080; font-weight: bold\">0</span>, <span style=\"color: #008080; text-decoration-color: #008080; font-weight: bold\">0</span>, <span style=\"color: #008080; text-decoration-color: #008080; font-weight: bold\">0</span>, <span style=\"color: #008080; text-decoration-color: #008080; font-weight: bold\">0</span>, <span style=\"color: #008080; text-decoration-color: #008080; font-weight: bold\">0</span>, <span style=\"color: #008080; text-decoration-color: #008080; font-weight: bold\">0</span>, <span style=\"color: #008080; text-decoration-color: #008080; font-weight: bold\">0</span>, <span style=\"color: #008080; text-decoration-color: #008080; font-weight: bold\">0</span>, <span style=\"color: #008080; text-decoration-color: #008080; font-weight: bold\">0</span>, <span style=\"color: #008080; text-decoration-color: #008080; font-weight: bold\">0</span>, <span style=\"color: #008080; text-decoration-color: #008080; font-weight: bold\">0</span>, <span style=\"color: #008080; text-decoration-color: #008080; font-weight: bold\">0</span>, <span style=\"color: #008080; text-decoration-color: #008080; font-weight: bold\">0</span><span style=\"font-weight: bold\">]</span>,\n",
       "    <span style=\"color: #008000; text-decoration-color: #008000\">'attention_mask'</span>: <span style=\"font-weight: bold\">[</span><span style=\"color: #008080; text-decoration-color: #008080; font-weight: bold\">1</span>, <span style=\"color: #008080; text-decoration-color: #008080; font-weight: bold\">1</span>, <span style=\"color: #008080; text-decoration-color: #008080; font-weight: bold\">1</span>, <span style=\"color: #008080; text-decoration-color: #008080; font-weight: bold\">1</span>, <span style=\"color: #008080; text-decoration-color: #008080; font-weight: bold\">1</span>, <span style=\"color: #008080; text-decoration-color: #008080; font-weight: bold\">1</span>, <span style=\"color: #008080; text-decoration-color: #008080; font-weight: bold\">1</span>, <span style=\"color: #008080; text-decoration-color: #008080; font-weight: bold\">1</span>, <span style=\"color: #008080; text-decoration-color: #008080; font-weight: bold\">1</span>, <span style=\"color: #008080; text-decoration-color: #008080; font-weight: bold\">1</span>, <span style=\"color: #008080; text-decoration-color: #008080; font-weight: bold\">1</span>, <span style=\"color: #008080; text-decoration-color: #008080; font-weight: bold\">1</span>, <span style=\"color: #008080; text-decoration-color: #008080; font-weight: bold\">1</span>, <span style=\"color: #008080; text-decoration-color: #008080; font-weight: bold\">1</span>, <span style=\"color: #008080; text-decoration-color: #008080; font-weight: bold\">1</span>, <span style=\"color: #008080; text-decoration-color: #008080; font-weight: bold\">1</span>, <span style=\"color: #008080; text-decoration-color: #008080; font-weight: bold\">1</span>, <span style=\"color: #008080; text-decoration-color: #008080; font-weight: bold\">1</span>, <span style=\"color: #008080; text-decoration-color: #008080; font-weight: bold\">1</span>, <span style=\"color: #008080; text-decoration-color: #008080; font-weight: bold\">1</span><span style=\"font-weight: bold\">]</span>\n",
       "<span style=\"font-weight: bold\">}</span>\n",
       "</pre>\n"
      ],
      "text/plain": [
       "\u001b[1m{\u001b[0m\n",
       "    \u001b[32m'input_ids'\u001b[0m: \u001b[1m[\u001b[0m\n",
       "        \u001b[1;36m101\u001b[0m,\n",
       "        \u001b[1;36m1760\u001b[0m,\n",
       "        \u001b[1;36m1385\u001b[0m,\n",
       "        \u001b[1;36m3826\u001b[0m,\n",
       "        \u001b[1;36m11925\u001b[0m,\n",
       "        \u001b[1;36m138\u001b[0m,\n",
       "        \u001b[1;36m13670\u001b[0m,\n",
       "        \u001b[1;36m15457\u001b[0m,\n",
       "        \u001b[1;36m1154\u001b[0m,\n",
       "        \u001b[1;36m1103\u001b[0m,\n",
       "        \u001b[1;36m11925\u001b[0m,\n",
       "        \u001b[1;36m783\u001b[0m,\n",
       "        \u001b[1;36m156\u001b[0m,\n",
       "        \u001b[1;36m1643\u001b[0m,\n",
       "        \u001b[1;36m9936\u001b[0m,\n",
       "        \u001b[1;36m106\u001b[0m,\n",
       "        \u001b[1;36m12939\u001b[0m,\n",
       "        \u001b[1;36m1254\u001b[0m,\n",
       "        \u001b[1;36m119\u001b[0m,\n",
       "        \u001b[1;36m102\u001b[0m\n",
       "    \u001b[1m]\u001b[0m,\n",
       "    \u001b[32m'token_type_ids'\u001b[0m: \u001b[1m[\u001b[0m\u001b[1;36m0\u001b[0m, \u001b[1;36m0\u001b[0m, \u001b[1;36m0\u001b[0m, \u001b[1;36m0\u001b[0m, \u001b[1;36m0\u001b[0m, \u001b[1;36m0\u001b[0m, \u001b[1;36m0\u001b[0m, \u001b[1;36m0\u001b[0m, \u001b[1;36m0\u001b[0m, \u001b[1;36m0\u001b[0m, \u001b[1;36m0\u001b[0m, \u001b[1;36m0\u001b[0m, \u001b[1;36m0\u001b[0m, \u001b[1;36m0\u001b[0m, \u001b[1;36m0\u001b[0m, \u001b[1;36m0\u001b[0m, \u001b[1;36m0\u001b[0m, \u001b[1;36m0\u001b[0m, \u001b[1;36m0\u001b[0m, \u001b[1;36m0\u001b[0m\u001b[1m]\u001b[0m,\n",
       "    \u001b[32m'attention_mask'\u001b[0m: \u001b[1m[\u001b[0m\u001b[1;36m1\u001b[0m, \u001b[1;36m1\u001b[0m, \u001b[1;36m1\u001b[0m, \u001b[1;36m1\u001b[0m, \u001b[1;36m1\u001b[0m, \u001b[1;36m1\u001b[0m, \u001b[1;36m1\u001b[0m, \u001b[1;36m1\u001b[0m, \u001b[1;36m1\u001b[0m, \u001b[1;36m1\u001b[0m, \u001b[1;36m1\u001b[0m, \u001b[1;36m1\u001b[0m, \u001b[1;36m1\u001b[0m, \u001b[1;36m1\u001b[0m, \u001b[1;36m1\u001b[0m, \u001b[1;36m1\u001b[0m, \u001b[1;36m1\u001b[0m, \u001b[1;36m1\u001b[0m, \u001b[1;36m1\u001b[0m, \u001b[1;36m1\u001b[0m\u001b[1m]\u001b[0m\n",
       "\u001b[1m}\u001b[0m\n"
      ]
     },
     "metadata": {},
     "output_type": "display_data"
    }
   ],
   "source": [
    "output1 = tokenizer1(haiku); print(output1)"
   ]
  },
  {
   "cell_type": "code",
   "execution_count": 14,
   "id": "5beff255-2738-4481-b994-893bda119e76",
   "metadata": {},
   "outputs": [],
   "source": [
    "from transformers import AutoTokenizer"
   ]
  },
  {
   "cell_type": "code",
   "execution_count": 15,
   "id": "7309b12a-0ff8-4449-b1e2-361ad9d70dc9",
   "metadata": {},
   "outputs": [],
   "source": [
    "tokenizer2 = AutoTokenizer.from_pretrained('bert-base-cased')"
   ]
  },
  {
   "cell_type": "code",
   "execution_count": 21,
   "id": "f222ed7d-f51f-47a3-a2e5-b94cadfcbc93",
   "metadata": {},
   "outputs": [
    {
     "data": {
      "text/html": [
       "<pre style=\"white-space:pre;overflow-x:auto;line-height:normal;font-family:Menlo,'DejaVu Sans Mono',consolas,'Courier New',monospace\"><span style=\"font-weight: bold\">{</span>\n",
       "    <span style=\"color: #008000; text-decoration-color: #008000\">'input_ids'</span>: <span style=\"font-weight: bold\">[</span>\n",
       "        <span style=\"color: #008080; text-decoration-color: #008080; font-weight: bold\">101</span>,\n",
       "        <span style=\"color: #008080; text-decoration-color: #008080; font-weight: bold\">1760</span>,\n",
       "        <span style=\"color: #008080; text-decoration-color: #008080; font-weight: bold\">1385</span>,\n",
       "        <span style=\"color: #008080; text-decoration-color: #008080; font-weight: bold\">3826</span>,\n",
       "        <span style=\"color: #008080; text-decoration-color: #008080; font-weight: bold\">11925</span>,\n",
       "        <span style=\"color: #008080; text-decoration-color: #008080; font-weight: bold\">138</span>,\n",
       "        <span style=\"color: #008080; text-decoration-color: #008080; font-weight: bold\">13670</span>,\n",
       "        <span style=\"color: #008080; text-decoration-color: #008080; font-weight: bold\">15457</span>,\n",
       "        <span style=\"color: #008080; text-decoration-color: #008080; font-weight: bold\">1154</span>,\n",
       "        <span style=\"color: #008080; text-decoration-color: #008080; font-weight: bold\">1103</span>,\n",
       "        <span style=\"color: #008080; text-decoration-color: #008080; font-weight: bold\">11925</span>,\n",
       "        <span style=\"color: #008080; text-decoration-color: #008080; font-weight: bold\">783</span>,\n",
       "        <span style=\"color: #008080; text-decoration-color: #008080; font-weight: bold\">156</span>,\n",
       "        <span style=\"color: #008080; text-decoration-color: #008080; font-weight: bold\">1643</span>,\n",
       "        <span style=\"color: #008080; text-decoration-color: #008080; font-weight: bold\">9936</span>,\n",
       "        <span style=\"color: #008080; text-decoration-color: #008080; font-weight: bold\">106</span>,\n",
       "        <span style=\"color: #008080; text-decoration-color: #008080; font-weight: bold\">12939</span>,\n",
       "        <span style=\"color: #008080; text-decoration-color: #008080; font-weight: bold\">1254</span>,\n",
       "        <span style=\"color: #008080; text-decoration-color: #008080; font-weight: bold\">119</span>,\n",
       "        <span style=\"color: #008080; text-decoration-color: #008080; font-weight: bold\">102</span>\n",
       "    <span style=\"font-weight: bold\">]</span>,\n",
       "    <span style=\"color: #008000; text-decoration-color: #008000\">'token_type_ids'</span>: <span style=\"font-weight: bold\">[</span><span style=\"color: #008080; text-decoration-color: #008080; font-weight: bold\">0</span>, <span style=\"color: #008080; text-decoration-color: #008080; font-weight: bold\">0</span>, <span style=\"color: #008080; text-decoration-color: #008080; font-weight: bold\">0</span>, <span style=\"color: #008080; text-decoration-color: #008080; font-weight: bold\">0</span>, <span style=\"color: #008080; text-decoration-color: #008080; font-weight: bold\">0</span>, <span style=\"color: #008080; text-decoration-color: #008080; font-weight: bold\">0</span>, <span style=\"color: #008080; text-decoration-color: #008080; font-weight: bold\">0</span>, <span style=\"color: #008080; text-decoration-color: #008080; font-weight: bold\">0</span>, <span style=\"color: #008080; text-decoration-color: #008080; font-weight: bold\">0</span>, <span style=\"color: #008080; text-decoration-color: #008080; font-weight: bold\">0</span>, <span style=\"color: #008080; text-decoration-color: #008080; font-weight: bold\">0</span>, <span style=\"color: #008080; text-decoration-color: #008080; font-weight: bold\">0</span>, <span style=\"color: #008080; text-decoration-color: #008080; font-weight: bold\">0</span>, <span style=\"color: #008080; text-decoration-color: #008080; font-weight: bold\">0</span>, <span style=\"color: #008080; text-decoration-color: #008080; font-weight: bold\">0</span>, <span style=\"color: #008080; text-decoration-color: #008080; font-weight: bold\">0</span>, <span style=\"color: #008080; text-decoration-color: #008080; font-weight: bold\">0</span>, <span style=\"color: #008080; text-decoration-color: #008080; font-weight: bold\">0</span>, <span style=\"color: #008080; text-decoration-color: #008080; font-weight: bold\">0</span>, <span style=\"color: #008080; text-decoration-color: #008080; font-weight: bold\">0</span><span style=\"font-weight: bold\">]</span>,\n",
       "    <span style=\"color: #008000; text-decoration-color: #008000\">'attention_mask'</span>: <span style=\"font-weight: bold\">[</span><span style=\"color: #008080; text-decoration-color: #008080; font-weight: bold\">1</span>, <span style=\"color: #008080; text-decoration-color: #008080; font-weight: bold\">1</span>, <span style=\"color: #008080; text-decoration-color: #008080; font-weight: bold\">1</span>, <span style=\"color: #008080; text-decoration-color: #008080; font-weight: bold\">1</span>, <span style=\"color: #008080; text-decoration-color: #008080; font-weight: bold\">1</span>, <span style=\"color: #008080; text-decoration-color: #008080; font-weight: bold\">1</span>, <span style=\"color: #008080; text-decoration-color: #008080; font-weight: bold\">1</span>, <span style=\"color: #008080; text-decoration-color: #008080; font-weight: bold\">1</span>, <span style=\"color: #008080; text-decoration-color: #008080; font-weight: bold\">1</span>, <span style=\"color: #008080; text-decoration-color: #008080; font-weight: bold\">1</span>, <span style=\"color: #008080; text-decoration-color: #008080; font-weight: bold\">1</span>, <span style=\"color: #008080; text-decoration-color: #008080; font-weight: bold\">1</span>, <span style=\"color: #008080; text-decoration-color: #008080; font-weight: bold\">1</span>, <span style=\"color: #008080; text-decoration-color: #008080; font-weight: bold\">1</span>, <span style=\"color: #008080; text-decoration-color: #008080; font-weight: bold\">1</span>, <span style=\"color: #008080; text-decoration-color: #008080; font-weight: bold\">1</span>, <span style=\"color: #008080; text-decoration-color: #008080; font-weight: bold\">1</span>, <span style=\"color: #008080; text-decoration-color: #008080; font-weight: bold\">1</span>, <span style=\"color: #008080; text-decoration-color: #008080; font-weight: bold\">1</span>, <span style=\"color: #008080; text-decoration-color: #008080; font-weight: bold\">1</span><span style=\"font-weight: bold\">]</span>\n",
       "<span style=\"font-weight: bold\">}</span>\n",
       "</pre>\n"
      ],
      "text/plain": [
       "\u001b[1m{\u001b[0m\n",
       "    \u001b[32m'input_ids'\u001b[0m: \u001b[1m[\u001b[0m\n",
       "        \u001b[1;36m101\u001b[0m,\n",
       "        \u001b[1;36m1760\u001b[0m,\n",
       "        \u001b[1;36m1385\u001b[0m,\n",
       "        \u001b[1;36m3826\u001b[0m,\n",
       "        \u001b[1;36m11925\u001b[0m,\n",
       "        \u001b[1;36m138\u001b[0m,\n",
       "        \u001b[1;36m13670\u001b[0m,\n",
       "        \u001b[1;36m15457\u001b[0m,\n",
       "        \u001b[1;36m1154\u001b[0m,\n",
       "        \u001b[1;36m1103\u001b[0m,\n",
       "        \u001b[1;36m11925\u001b[0m,\n",
       "        \u001b[1;36m783\u001b[0m,\n",
       "        \u001b[1;36m156\u001b[0m,\n",
       "        \u001b[1;36m1643\u001b[0m,\n",
       "        \u001b[1;36m9936\u001b[0m,\n",
       "        \u001b[1;36m106\u001b[0m,\n",
       "        \u001b[1;36m12939\u001b[0m,\n",
       "        \u001b[1;36m1254\u001b[0m,\n",
       "        \u001b[1;36m119\u001b[0m,\n",
       "        \u001b[1;36m102\u001b[0m\n",
       "    \u001b[1m]\u001b[0m,\n",
       "    \u001b[32m'token_type_ids'\u001b[0m: \u001b[1m[\u001b[0m\u001b[1;36m0\u001b[0m, \u001b[1;36m0\u001b[0m, \u001b[1;36m0\u001b[0m, \u001b[1;36m0\u001b[0m, \u001b[1;36m0\u001b[0m, \u001b[1;36m0\u001b[0m, \u001b[1;36m0\u001b[0m, \u001b[1;36m0\u001b[0m, \u001b[1;36m0\u001b[0m, \u001b[1;36m0\u001b[0m, \u001b[1;36m0\u001b[0m, \u001b[1;36m0\u001b[0m, \u001b[1;36m0\u001b[0m, \u001b[1;36m0\u001b[0m, \u001b[1;36m0\u001b[0m, \u001b[1;36m0\u001b[0m, \u001b[1;36m0\u001b[0m, \u001b[1;36m0\u001b[0m, \u001b[1;36m0\u001b[0m, \u001b[1;36m0\u001b[0m\u001b[1m]\u001b[0m,\n",
       "    \u001b[32m'attention_mask'\u001b[0m: \u001b[1m[\u001b[0m\u001b[1;36m1\u001b[0m, \u001b[1;36m1\u001b[0m, \u001b[1;36m1\u001b[0m, \u001b[1;36m1\u001b[0m, \u001b[1;36m1\u001b[0m, \u001b[1;36m1\u001b[0m, \u001b[1;36m1\u001b[0m, \u001b[1;36m1\u001b[0m, \u001b[1;36m1\u001b[0m, \u001b[1;36m1\u001b[0m, \u001b[1;36m1\u001b[0m, \u001b[1;36m1\u001b[0m, \u001b[1;36m1\u001b[0m, \u001b[1;36m1\u001b[0m, \u001b[1;36m1\u001b[0m, \u001b[1;36m1\u001b[0m, \u001b[1;36m1\u001b[0m, \u001b[1;36m1\u001b[0m, \u001b[1;36m1\u001b[0m, \u001b[1;36m1\u001b[0m\u001b[1m]\u001b[0m\n",
       "\u001b[1m}\u001b[0m\n"
      ]
     },
     "metadata": {},
     "output_type": "display_data"
    }
   ],
   "source": [
    "output2 = tokenizer2(haiku); print(output2)"
   ]
  },
  {
   "cell_type": "code",
   "execution_count": 18,
   "id": "b3f3fa34-4efe-40c8-bc7b-3dd9f7486e95",
   "metadata": {},
   "outputs": [],
   "source": [
    "assert output1.input_ids == output2.input_ids"
   ]
  },
  {
   "cell_type": "code",
   "execution_count": 22,
   "id": "39369fcc-b8d0-4d34-b46e-6fb76167fef4",
   "metadata": {},
   "outputs": [
    {
     "data": {
      "text/plain": [
       "('tokenizers/bert-base-cased/tokenizer_config.json',\n",
       " 'tokenizers/bert-base-cased/special_tokens_map.json',\n",
       " 'tokenizers/bert-base-cased/vocab.txt',\n",
       " 'tokenizers/bert-base-cased/added_tokens.json',\n",
       " 'tokenizers/bert-base-cased/tokenizer.json')"
      ]
     },
     "execution_count": 22,
     "metadata": {},
     "output_type": "execute_result"
    }
   ],
   "source": [
    "tokenizer2.save_pretrained('tokenizers/bert-base-cased')"
   ]
  },
  {
   "cell_type": "code",
   "execution_count": 28,
   "id": "838fcd4b-4dd7-43d8-b998-9419228775ce",
   "metadata": {},
   "outputs": [
    {
     "name": "stdout",
     "output_type": "stream",
     "text": [
      "huggingface/tokenizers: The current process just got forked, after parallelism has already been used. Disabling parallelism to avoid deadlocks...\n",
      "To disable this warning, you can either:\n",
      "\t- Avoid using `tokenizers` before the fork if possible\n",
      "\t- Explicitly set the environment variable TOKENIZERS_PARALLELISM=(true | false)\n",
      "special_tokens_map.json tokenizer_config.json\n",
      "tokenizer.json          vocab.txt\n"
     ]
    }
   ],
   "source": [
    "!ls tokenizers/bert-base-cased"
   ]
  },
  {
   "cell_type": "code",
   "execution_count": 24,
   "id": "5744cccb-cb8a-47b8-85d3-08a2e7c28f51",
   "metadata": {},
   "outputs": [
    {
     "data": {
      "text/plain": [
       "{'clean_up_tokenization_spaces': True,\n",
       " 'cls_token': '[CLS]',\n",
       " 'do_lower_case': False,\n",
       " 'mask_token': '[MASK]',\n",
       " 'model_max_length': 512,\n",
       " 'pad_token': '[PAD]',\n",
       " 'sep_token': '[SEP]',\n",
       " 'strip_accents': None,\n",
       " 'tokenize_chinese_chars': True,\n",
       " 'tokenizer_class': 'BertTokenizer',\n",
       " 'unk_token': '[UNK]'}"
      ]
     },
     "execution_count": 24,
     "metadata": {},
     "output_type": "execute_result"
    }
   ],
   "source": [
    "fc.Path('tokenizers/bert-base-cased/tokenizer_config.json').read_json()"
   ]
  },
  {
   "cell_type": "code",
   "execution_count": 25,
   "id": "0cf18a5f-a4ec-4bbb-bea8-dd55b154ca77",
   "metadata": {},
   "outputs": [
    {
     "data": {
      "text/plain": [
       "{'cls_token': '[CLS]',\n",
       " 'mask_token': '[MASK]',\n",
       " 'pad_token': '[PAD]',\n",
       " 'sep_token': '[SEP]',\n",
       " 'unk_token': '[UNK]'}"
      ]
     },
     "execution_count": 25,
     "metadata": {},
     "output_type": "execute_result"
    }
   ],
   "source": [
    "fc.Path('tokenizers/bert-base-cased/special_tokens_map.json').read_json()"
   ]
  },
  {
   "cell_type": "markdown",
   "id": "a0aaac3c-9d59-417c-be31-58eebdb8cf20",
   "metadata": {},
   "source": [
    "## Encoding\n",
    "Translating text to numbers\n",
    "> \n",
    "> Two step process\n",
    "> > Tokenization\n",
    "> > \n",
    "> > Convertion to Input Ids"
   ]
  },
  {
   "cell_type": "markdown",
   "id": "c801b750-5277-4a3c-862b-ec3e7e453cfd",
   "metadata": {},
   "source": [
    "### Tokenize"
   ]
  },
  {
   "cell_type": "code",
   "execution_count": 34,
   "id": "29c4c3de-9dd1-4822-940d-bc5422e6cbdc",
   "metadata": {},
   "outputs": [],
   "source": [
    "from transformers import AutoTokenizer"
   ]
  },
  {
   "cell_type": "code",
   "execution_count": 35,
   "id": "17efb938-c7d3-46dd-b1be-406bc15bb75a",
   "metadata": {},
   "outputs": [],
   "source": [
    "tokenizer = AutoTokenizer.from_pretrained('bert-base-cased')"
   ]
  },
  {
   "cell_type": "code",
   "execution_count": 40,
   "id": "de4814fb-23d4-4dc8-abf0-fbddf798226b",
   "metadata": {},
   "outputs": [],
   "source": [
    "tokens = tokenizer.tokenize(haiku)"
   ]
  },
  {
   "cell_type": "code",
   "execution_count": 41,
   "id": "0e2de613-45df-45d0-9432-ae4c95314269",
   "metadata": {},
   "outputs": [
    {
     "data": {
      "text/html": [
       "<pre style=\"white-space:pre;overflow-x:auto;line-height:normal;font-family:Menlo,'DejaVu Sans Mono',consolas,'Courier New',monospace\"><span style=\"font-weight: bold\">[</span>\n",
       "    <span style=\"color: #008000; text-decoration-color: #008000\">'An'</span>,\n",
       "    <span style=\"color: #008000; text-decoration-color: #008000\">'old'</span>,\n",
       "    <span style=\"color: #008000; text-decoration-color: #008000\">'silent'</span>,\n",
       "    <span style=\"color: #008000; text-decoration-color: #008000\">'pond'</span>,\n",
       "    <span style=\"color: #008000; text-decoration-color: #008000\">'A'</span>,\n",
       "    <span style=\"color: #008000; text-decoration-color: #008000\">'frog'</span>,\n",
       "    <span style=\"color: #008000; text-decoration-color: #008000\">'jumps'</span>,\n",
       "    <span style=\"color: #008000; text-decoration-color: #008000\">'into'</span>,\n",
       "    <span style=\"color: #008000; text-decoration-color: #008000\">'the'</span>,\n",
       "    <span style=\"color: #008000; text-decoration-color: #008000\">'pond'</span>,\n",
       "    <span style=\"color: #008000; text-decoration-color: #008000\">'—'</span>,\n",
       "    <span style=\"color: #008000; text-decoration-color: #008000\">'S'</span>,\n",
       "    <span style=\"color: #008000; text-decoration-color: #008000\">'##p'</span>,\n",
       "    <span style=\"color: #008000; text-decoration-color: #008000\">'##lash'</span>,\n",
       "    <span style=\"color: #008000; text-decoration-color: #008000\">'!'</span>,\n",
       "    <span style=\"color: #008000; text-decoration-color: #008000\">'Silence'</span>,\n",
       "    <span style=\"color: #008000; text-decoration-color: #008000\">'again'</span>,\n",
       "    <span style=\"color: #008000; text-decoration-color: #008000\">'.'</span>\n",
       "<span style=\"font-weight: bold\">]</span>\n",
       "</pre>\n"
      ],
      "text/plain": [
       "\u001b[1m[\u001b[0m\n",
       "    \u001b[32m'An'\u001b[0m,\n",
       "    \u001b[32m'old'\u001b[0m,\n",
       "    \u001b[32m'silent'\u001b[0m,\n",
       "    \u001b[32m'pond'\u001b[0m,\n",
       "    \u001b[32m'A'\u001b[0m,\n",
       "    \u001b[32m'frog'\u001b[0m,\n",
       "    \u001b[32m'jumps'\u001b[0m,\n",
       "    \u001b[32m'into'\u001b[0m,\n",
       "    \u001b[32m'the'\u001b[0m,\n",
       "    \u001b[32m'pond'\u001b[0m,\n",
       "    \u001b[32m'—'\u001b[0m,\n",
       "    \u001b[32m'S'\u001b[0m,\n",
       "    \u001b[32m'##p'\u001b[0m,\n",
       "    \u001b[32m'##lash'\u001b[0m,\n",
       "    \u001b[32m'!'\u001b[0m,\n",
       "    \u001b[32m'Silence'\u001b[0m,\n",
       "    \u001b[32m'again'\u001b[0m,\n",
       "    \u001b[32m'.'\u001b[0m\n",
       "\u001b[1m]\u001b[0m\n"
      ]
     },
     "metadata": {},
     "output_type": "display_data"
    }
   ],
   "source": [
    "print(tokens)"
   ]
  },
  {
   "cell_type": "markdown",
   "id": "43e636bf-b48d-4255-a9d6-a80af7f678be",
   "metadata": {},
   "source": [
    "### Conversion to Input Ids"
   ]
  },
  {
   "cell_type": "code",
   "execution_count": 43,
   "id": "0864c4fd-3f97-4e80-a51c-1a0da22c2541",
   "metadata": {},
   "outputs": [],
   "source": [
    "ids = tokenizer.convert_tokens_to_ids(tokens)"
   ]
  },
  {
   "cell_type": "code",
   "execution_count": 44,
   "id": "08303662-e73d-401d-8507-f396b3197974",
   "metadata": {},
   "outputs": [
    {
     "data": {
      "text/html": [
       "<pre style=\"white-space:pre;overflow-x:auto;line-height:normal;font-family:Menlo,'DejaVu Sans Mono',consolas,'Courier New',monospace\"><span style=\"font-weight: bold\">[</span><span style=\"color: #008080; text-decoration-color: #008080; font-weight: bold\">1760</span>, <span style=\"color: #008080; text-decoration-color: #008080; font-weight: bold\">1385</span>, <span style=\"color: #008080; text-decoration-color: #008080; font-weight: bold\">3826</span>, <span style=\"color: #008080; text-decoration-color: #008080; font-weight: bold\">11925</span>, <span style=\"color: #008080; text-decoration-color: #008080; font-weight: bold\">138</span>, <span style=\"color: #008080; text-decoration-color: #008080; font-weight: bold\">13670</span>, <span style=\"color: #008080; text-decoration-color: #008080; font-weight: bold\">15457</span>, <span style=\"color: #008080; text-decoration-color: #008080; font-weight: bold\">1154</span>, <span style=\"color: #008080; text-decoration-color: #008080; font-weight: bold\">1103</span>, <span style=\"color: #008080; text-decoration-color: #008080; font-weight: bold\">11925</span>, <span style=\"color: #008080; text-decoration-color: #008080; font-weight: bold\">783</span>, <span style=\"color: #008080; text-decoration-color: #008080; font-weight: bold\">156</span>, <span style=\"color: #008080; text-decoration-color: #008080; font-weight: bold\">1643</span>, <span style=\"color: #008080; text-decoration-color: #008080; font-weight: bold\">9936</span>, <span style=\"color: #008080; text-decoration-color: #008080; font-weight: bold\">106</span>, <span style=\"color: #008080; text-decoration-color: #008080; font-weight: bold\">12939</span>, <span style=\"color: #008080; text-decoration-color: #008080; font-weight: bold\">1254</span>, <span style=\"color: #008080; text-decoration-color: #008080; font-weight: bold\">119</span><span style=\"font-weight: bold\">]</span>\n",
       "</pre>\n"
      ],
      "text/plain": [
       "\u001b[1m[\u001b[0m\u001b[1;36m1760\u001b[0m, \u001b[1;36m1385\u001b[0m, \u001b[1;36m3826\u001b[0m, \u001b[1;36m11925\u001b[0m, \u001b[1;36m138\u001b[0m, \u001b[1;36m13670\u001b[0m, \u001b[1;36m15457\u001b[0m, \u001b[1;36m1154\u001b[0m, \u001b[1;36m1103\u001b[0m, \u001b[1;36m11925\u001b[0m, \u001b[1;36m783\u001b[0m, \u001b[1;36m156\u001b[0m, \u001b[1;36m1643\u001b[0m, \u001b[1;36m9936\u001b[0m, \u001b[1;36m106\u001b[0m, \u001b[1;36m12939\u001b[0m, \u001b[1;36m1254\u001b[0m, \u001b[1;36m119\u001b[0m\u001b[1m]\u001b[0m\n"
      ]
     },
     "metadata": {},
     "output_type": "display_data"
    }
   ],
   "source": [
    "print(ids)"
   ]
  },
  {
   "cell_type": "markdown",
   "id": "c32dbfab-e54f-47f6-a192-668146b3389d",
   "metadata": {},
   "source": [
    "### Prepare tokenizer for model"
   ]
  },
  {
   "cell_type": "code",
   "execution_count": 46,
   "id": "2cfe4bf3-668a-483e-94c2-a812a19e1933",
   "metadata": {},
   "outputs": [],
   "source": [
    "final_inputs = tokenizer.prepare_for_model(ids)"
   ]
  },
  {
   "cell_type": "code",
   "execution_count": 50,
   "id": "f1e794e4-67fa-4bed-aebb-fd8e3e022ec9",
   "metadata": {},
   "outputs": [],
   "source": [
    "assert output1.input_ids == output2.input_ids == final_inputs.input_ids"
   ]
  },
  {
   "cell_type": "markdown",
   "id": "05e757ae-1034-4a75-a0f7-60b135034a06",
   "metadata": {},
   "source": [
    "## Decoding"
   ]
  },
  {
   "cell_type": "code",
   "execution_count": 52,
   "id": "5fddb57a-af92-400f-80c2-0c84d630bd61",
   "metadata": {},
   "outputs": [
    {
     "data": {
      "text/plain": [
       "'[CLS] An old silent pond A frog jumps into the pond — Splash! Silence again. [SEP]'"
      ]
     },
     "execution_count": 52,
     "metadata": {},
     "output_type": "execute_result"
    }
   ],
   "source": [
    "tokenizer.decode(final_inputs.input_ids)"
   ]
  },
  {
   "cell_type": "code",
   "execution_count": 53,
   "id": "7992627d-7a85-4b0a-8574-db32c14c9adc",
   "metadata": {},
   "outputs": [
    {
     "data": {
      "text/plain": [
       "'An old silent pond A frog jumps into the pond — Splash! Silence again.'"
      ]
     },
     "execution_count": 53,
     "metadata": {},
     "output_type": "execute_result"
    }
   ],
   "source": [
    "tokenizer.decode(ids)"
   ]
  },
  {
   "cell_type": "code",
   "execution_count": null,
   "id": "387440ac-61c3-4059-b4be-189c34b78035",
   "metadata": {},
   "outputs": [],
   "source": []
  }
 ],
 "metadata": {
  "kernelspec": {
   "display_name": "transformers-course",
   "language": "python",
   "name": "transformers-course"
  },
  "language_info": {
   "codemirror_mode": {
    "name": "ipython",
    "version": 3
   },
   "file_extension": ".py",
   "mimetype": "text/x-python",
   "name": "python",
   "nbconvert_exporter": "python",
   "pygments_lexer": "ipython3",
   "version": "3.9.17"
  }
 },
 "nbformat": 4,
 "nbformat_minor": 5
}
