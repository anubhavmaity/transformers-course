{
 "cells": [
  {
   "cell_type": "markdown",
   "id": "0ff35e41-f463-4033-b857-ec606bc72d71",
   "metadata": {},
   "source": [
    "# Behind the pipeline"
   ]
  },
  {
   "cell_type": "markdown",
   "id": "0fb43776-f814-4de8-bbab-100b995445e7",
   "metadata": {},
   "source": [
    "## The pipeline"
   ]
  },
  {
   "cell_type": "code",
   "execution_count": 1,
   "id": "de0fc178-4a6b-41e6-ae64-3d049dd58b58",
   "metadata": {},
   "outputs": [
    {
     "name": "stderr",
     "output_type": "stream",
     "text": [
      "/Users/anubhavmaity/mambaforge/envs/transformers-course/lib/python3.9/site-packages/tqdm/auto.py:21: TqdmWarning: IProgress not found. Please update jupyter and ipywidgets. See https://ipywidgets.readthedocs.io/en/stable/user_install.html\n",
      "  from .autonotebook import tqdm as notebook_tqdm\n"
     ]
    }
   ],
   "source": [
    "from transformers import pipeline"
   ]
  },
  {
   "cell_type": "code",
   "execution_count": 2,
   "id": "7c3b257e-7654-4266-b016-f7e59dea05fe",
   "metadata": {},
   "outputs": [
    {
     "name": "stderr",
     "output_type": "stream",
     "text": [
      "No model was supplied, defaulted to distilbert-base-uncased-finetuned-sst-2-english and revision af0f99b (https://huggingface.co/distilbert-base-uncased-finetuned-sst-2-english).\n",
      "Using a pipeline without specifying a model name and revision in production is not recommended.\n",
      "Xformers is not installed correctly. If you want to use memory_efficient_attention to accelerate training use the following command to install Xformers\n",
      "pip install xformers.\n"
     ]
    }
   ],
   "source": [
    "classifier = pipeline('sentiment-analysis')"
   ]
  },
  {
   "cell_type": "code",
   "execution_count": 3,
   "id": "79c9b9f1-b156-4d9a-b525-c07de12b3609",
   "metadata": {},
   "outputs": [
    {
     "data": {
      "text/plain": [
       "[{'label': 'NEGATIVE', 'score': 0.9167097210884094},\n",
       " {'label': 'NEGATIVE', 'score': 0.9994910955429077}]"
      ]
     },
     "execution_count": 3,
     "metadata": {},
     "output_type": "execute_result"
    }
   ],
   "source": [
    "classifier([\n",
    "    'The new software update includes several bug fixes and performance improvements.',\n",
    "    'The new software update needs several bug fixes and performance improvements.'\n",
    "])"
   ]
  },
  {
   "cell_type": "markdown",
   "id": "110ff270-edf5-4df8-9e8c-4d1b51e962ed",
   "metadata": {},
   "source": [
    "The first sentence should have been marked as positive as there are `fixes and performance improvements that have been already included with the software update`"
   ]
  },
  {
   "cell_type": "markdown",
   "id": "08d9c4ee-799c-4b8a-a599-129b2d18e8a0",
   "metadata": {},
   "source": [
    "## The Tokenizer"
   ]
  },
  {
   "cell_type": "code",
   "execution_count": 4,
   "id": "ee1b798a-39ea-4bf0-ad32-7c270c560709",
   "metadata": {},
   "outputs": [],
   "source": [
    "from transformers import AutoTokenizer"
   ]
  },
  {
   "cell_type": "code",
   "execution_count": 5,
   "id": "da526187-3250-4de0-a1cd-a378daa03f2d",
   "metadata": {},
   "outputs": [],
   "source": [
    "checkpoint = \"distilbert-base-uncased-finetuned-sst-2-english\"\n",
    "tokenizer = AutoTokenizer.from_pretrained(checkpoint)"
   ]
  },
  {
   "cell_type": "code",
   "execution_count": 6,
   "id": "0e16ff6d-311a-49b8-a777-d78ef50b9f5b",
   "metadata": {},
   "outputs": [],
   "source": [
    "raw_inputs = [\n",
    "    \"She walked her dog in the park and then went grocery shopping.\",\n",
    "    \"Despite initial challenges, the experience proved to be quite educational.\"\n",
    "]"
   ]
  },
  {
   "cell_type": "code",
   "execution_count": 7,
   "id": "7466b6d2-0f80-41cc-b091-30e79e4b5755",
   "metadata": {},
   "outputs": [
    {
     "data": {
      "text/plain": [
       "{'input_ids': [[101, 2016, 2939, 2014, 3899, 1999, 1996, 2380, 1998, 2059, 2253, 13025, 6023, 1012, 102], [101, 2750, 3988, 7860, 1010, 1996, 3325, 4928, 2000, 2022, 3243, 4547, 1012, 102, 0]], 'attention_mask': [[1, 1, 1, 1, 1, 1, 1, 1, 1, 1, 1, 1, 1, 1, 1], [1, 1, 1, 1, 1, 1, 1, 1, 1, 1, 1, 1, 1, 1, 0]]}"
      ]
     },
     "execution_count": 7,
     "metadata": {},
     "output_type": "execute_result"
    }
   ],
   "source": [
    "input = tokenizer(raw_inputs, padding=True, truncation=True); input"
   ]
  },
  {
   "cell_type": "markdown",
   "id": "5c317568-1ca1-4f53-861d-3668e2cae969",
   "metadata": {},
   "source": [
    "#### Using `return_tensors` as pytorch"
   ]
  },
  {
   "cell_type": "code",
   "execution_count": 8,
   "id": "7ac4e5e7-2485-4b29-ad41-68c2ac63e857",
   "metadata": {},
   "outputs": [
    {
     "data": {
      "text/plain": [
       "{'input_ids': tensor([[  101,  2016,  2939,  2014,  3899,  1999,  1996,  2380,  1998,  2059,\n",
       "          2253, 13025,  6023,  1012,   102],\n",
       "        [  101,  2750,  3988,  7860,  1010,  1996,  3325,  4928,  2000,  2022,\n",
       "          3243,  4547,  1012,   102,     0]]), 'attention_mask': tensor([[1, 1, 1, 1, 1, 1, 1, 1, 1, 1, 1, 1, 1, 1, 1],\n",
       "        [1, 1, 1, 1, 1, 1, 1, 1, 1, 1, 1, 1, 1, 1, 0]])}"
      ]
     },
     "execution_count": 8,
     "metadata": {},
     "output_type": "execute_result"
    }
   ],
   "source": [
    "input = tokenizer(raw_inputs, padding=True, truncation=True, return_tensors=\"pt\"); input"
   ]
  },
  {
   "cell_type": "markdown",
   "id": "9ae9ab45-8fbe-48e4-9ba2-f46648d97a9f",
   "metadata": {},
   "source": [
    "#### Using `return_tensors` as numpy"
   ]
  },
  {
   "cell_type": "code",
   "execution_count": 9,
   "id": "cbd62d23-605d-40cc-804e-f9b5d25577aa",
   "metadata": {
    "scrolled": true
   },
   "outputs": [
    {
     "data": {
      "text/plain": [
       "{'input_ids': array([[  101,  2016,  2939,  2014,  3899,  1999,  1996,  2380,  1998,\n",
       "         2059,  2253, 13025,  6023,  1012,   102],\n",
       "       [  101,  2750,  3988,  7860,  1010,  1996,  3325,  4928,  2000,\n",
       "         2022,  3243,  4547,  1012,   102,     0]]), 'attention_mask': array([[1, 1, 1, 1, 1, 1, 1, 1, 1, 1, 1, 1, 1, 1, 1],\n",
       "       [1, 1, 1, 1, 1, 1, 1, 1, 1, 1, 1, 1, 1, 1, 0]])}"
      ]
     },
     "execution_count": 9,
     "metadata": {},
     "output_type": "execute_result"
    }
   ],
   "source": [
    "tokenizer(raw_inputs, padding=True, truncation=True, return_tensors=\"np\")"
   ]
  },
  {
   "cell_type": "markdown",
   "id": "6fba99c2-1189-421a-8e55-3b0b3875f790",
   "metadata": {},
   "source": [
    "## The Model without Head"
   ]
  },
  {
   "cell_type": "code",
   "execution_count": 10,
   "id": "270727b6-8625-47da-a626-92e4dcd76cb1",
   "metadata": {},
   "outputs": [],
   "source": [
    "from transformers import AutoModel"
   ]
  },
  {
   "cell_type": "code",
   "execution_count": 11,
   "id": "2efbb489-f61d-4780-9d38-7fd87161e1a6",
   "metadata": {},
   "outputs": [],
   "source": [
    "checkpoint = \"distilbert-base-uncased-finetuned-sst-2-english\"\n",
    "\n",
    "model = AutoModel.from_pretrained(checkpoint)"
   ]
  },
  {
   "cell_type": "code",
   "execution_count": 12,
   "id": "73d4f521-6992-4edb-a5c3-a024e2d91664",
   "metadata": {},
   "outputs": [],
   "source": [
    "output = model(**input)"
   ]
  },
  {
   "cell_type": "code",
   "execution_count": 13,
   "id": "d4d3a516-2428-441b-8ff9-3cd8e0f2d33f",
   "metadata": {},
   "outputs": [
    {
     "data": {
      "text/plain": [
       "torch.Size([2, 15, 768])"
      ]
     },
     "execution_count": 13,
     "metadata": {},
     "output_type": "execute_result"
    }
   ],
   "source": [
    "output.last_hidden_state.shape"
   ]
  },
  {
   "cell_type": "code",
   "execution_count": 14,
   "id": "fd6238a3-1914-444e-a3a1-9d53de37ee8d",
   "metadata": {},
   "outputs": [
    {
     "data": {
      "text/plain": [
       "torch.Size([2, 15, 768])"
      ]
     },
     "execution_count": 14,
     "metadata": {},
     "output_type": "execute_result"
    }
   ],
   "source": [
    "output[\"last_hidden_state\"].shape"
   ]
  },
  {
   "cell_type": "code",
   "execution_count": 15,
   "id": "1fe04e2b-a969-4d08-996b-9ea0fc6c44b9",
   "metadata": {},
   "outputs": [
    {
     "data": {
      "text/plain": [
       "torch.Size([2, 15, 768])"
      ]
     },
     "execution_count": 15,
     "metadata": {},
     "output_type": "execute_result"
    }
   ],
   "source": [
    "output[0].shape"
   ]
  },
  {
   "cell_type": "markdown",
   "id": "0200e720-f4c2-4c2c-9e87-460674c6bca5",
   "metadata": {},
   "source": [
    "## The Model with Head"
   ]
  },
  {
   "cell_type": "code",
   "execution_count": 16,
   "id": "22354ca8-16c7-4ed9-b1c2-5c839d5d8eed",
   "metadata": {},
   "outputs": [],
   "source": [
    "from transformers import AutoModelForSequenceClassification"
   ]
  },
  {
   "cell_type": "code",
   "execution_count": 17,
   "id": "71e761d1-9e21-464c-8e34-c5a185c64949",
   "metadata": {},
   "outputs": [],
   "source": [
    "checkpoint = \"distilbert-base-uncased-finetuned-sst-2-english\""
   ]
  },
  {
   "cell_type": "code",
   "execution_count": 18,
   "id": "8c134db2-e25a-4407-81a0-dbdc4f3689c5",
   "metadata": {},
   "outputs": [],
   "source": [
    "model = AutoModelForSequenceClassification.from_pretrained(checkpoint)\n",
    "output = model(**input)"
   ]
  },
  {
   "cell_type": "code",
   "execution_count": 19,
   "id": "97d6a1c2-b182-4b17-ba93-20aa66c8bba5",
   "metadata": {},
   "outputs": [
    {
     "data": {
      "text/plain": [
       "torch.Size([2, 2])"
      ]
     },
     "execution_count": 19,
     "metadata": {},
     "output_type": "execute_result"
    }
   ],
   "source": [
    "output.logits.shape"
   ]
  },
  {
   "cell_type": "code",
   "execution_count": 20,
   "id": "716b11a3-722a-4981-8324-b15cd2e3c156",
   "metadata": {},
   "outputs": [
    {
     "data": {
      "text/plain": [
       "tensor([[ 2.8401, -2.4250],\n",
       "        [-3.5235,  3.6534]], grad_fn=<AddmmBackward0>)"
      ]
     },
     "execution_count": 20,
     "metadata": {},
     "output_type": "execute_result"
    }
   ],
   "source": [
    "output.logits"
   ]
  },
  {
   "cell_type": "markdown",
   "id": "4b2a5c69-7664-475d-8152-4705d2190191",
   "metadata": {},
   "source": [
    "## Softmax"
   ]
  },
  {
   "cell_type": "code",
   "execution_count": 21,
   "id": "64e47842-b912-477e-bd52-12f5a69091c6",
   "metadata": {},
   "outputs": [
    {
     "data": {
      "text/plain": [
       "tensor([[9.9486e-01, 5.1425e-03],\n",
       "        [7.6348e-04, 9.9924e-01]], grad_fn=<SoftmaxBackward0>)"
      ]
     },
     "execution_count": 21,
     "metadata": {},
     "output_type": "execute_result"
    }
   ],
   "source": [
    "import torch\n",
    "\n",
    "predictions = torch.nn.functional.softmax(output.logits, dim=-1)\n",
    "predictions"
   ]
  },
  {
   "cell_type": "code",
   "execution_count": 22,
   "id": "8fe6529e-7df4-46e3-ba50-181836332859",
   "metadata": {},
   "outputs": [
    {
     "data": {
      "text/plain": [
       "{0: 'NEGATIVE', 1: 'POSITIVE'}"
      ]
     },
     "execution_count": 22,
     "metadata": {},
     "output_type": "execute_result"
    }
   ],
   "source": [
    "model.config.id2label"
   ]
  },
  {
   "cell_type": "code",
   "execution_count": 23,
   "id": "c8d932fe-8d1f-4eb7-9d2b-4ff1667ed620",
   "metadata": {},
   "outputs": [
    {
     "data": {
      "text/plain": [
       "tensor([0, 1])"
      ]
     },
     "execution_count": 23,
     "metadata": {},
     "output_type": "execute_result"
    }
   ],
   "source": [
    "torch.argmax(predictions, dim=-1)"
   ]
  },
  {
   "cell_type": "code",
   "execution_count": null,
   "id": "11d06be0-c18b-4700-9d00-1f6fdec38b45",
   "metadata": {},
   "outputs": [],
   "source": []
  }
 ],
 "metadata": {
  "kernelspec": {
   "display_name": "Python 3 (ipykernel)",
   "language": "python",
   "name": "python3"
  },
  "language_info": {
   "codemirror_mode": {
    "name": "ipython",
    "version": 3
   },
   "file_extension": ".py",
   "mimetype": "text/x-python",
   "name": "python",
   "nbconvert_exporter": "python",
   "pygments_lexer": "ipython3",
   "version": "3.9.17"
  }
 },
 "nbformat": 4,
 "nbformat_minor": 5
}
