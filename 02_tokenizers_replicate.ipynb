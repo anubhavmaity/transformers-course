{
 "cells": [
  {
   "cell_type": "markdown",
   "id": "e0377e41-4dcd-4268-8e85-23c12992e5b8",
   "metadata": {},
   "source": [
    "# Tokenizers Replicate"
   ]
  },
  {
   "cell_type": "markdown",
   "id": "b032fa2d-c601-462b-83ba-8ff7c563e167",
   "metadata": {},
   "source": [
    "Following are the three reviews from goodreads"
   ]
  },
  {
   "cell_type": "code",
   "execution_count": 52,
   "id": "d1b21df9-4fd4-49ca-8c5b-f389cf4efb11",
   "metadata": {},
   "outputs": [],
   "source": [
    "sentence1 = '''\n",
    "I cannot understand how people are rating this highly. \n",
    "    Unlike what I’ve come to expect from Larson, the narrative is bland, attempts at “suspense” fall flat, \n",
    "    and every person is vapid and one-dimensional. \n",
    "    This provides no insight whatsoever into events and people that have been well-chronicled elsewhere. \n",
    "    This book has neither a point nor a point of view'''"
   ]
  },
  {
   "cell_type": "code",
   "execution_count": 53,
   "id": "025ba4d2-ea1c-4189-b4b3-d72555ac3cb3",
   "metadata": {},
   "outputs": [],
   "source": [
    "sentence2 = '''\n",
    "This is one of those books that is hard to put down. \n",
    "    Easy to read (even though I don't know anything about the Navy or submarines) while it is PACKED with so much leadership truth. \n",
    "    My favorite part? It's not a \"this is the way things must be done\" kind of book. \n",
    "    He raises serious problems and tells you how he attacked them. \n",
    "    He shows his strengths and weaknesses in leadership. \n",
    "    I greatly appreciated this read. \n",
    "'''"
   ]
  },
  {
   "cell_type": "code",
   "execution_count": 54,
   "id": "01d46159-4029-4dea-abec-1a26670366d4",
   "metadata": {},
   "outputs": [],
   "source": [
    "sentence3 = '''\n",
    "Sometimes insightful, sometimes preachy, mostly making sense. \n",
    "    Some learnings seem retrospectively added as Naval amassed massive wealth.\n",
    "    A decent read on the principles and philosophy of one of the most revered investors of our times\n",
    "'''"
   ]
  },
  {
   "cell_type": "code",
   "execution_count": 12,
   "id": "7e457f53-419a-464f-946d-5c97ab561544",
   "metadata": {},
   "outputs": [],
   "source": [
    "from transformers import AutoTokenizer\n",
    "from rich import print"
   ]
  },
  {
   "cell_type": "code",
   "execution_count": 5,
   "id": "dc1cbebf-65d9-4fc2-9387-a9c16de1df84",
   "metadata": {},
   "outputs": [],
   "source": [
    "tokenizer = AutoTokenizer.from_pretrained('distilbert-base-uncased-finetuned-sst-2-english')"
   ]
  },
  {
   "cell_type": "code",
   "execution_count": 6,
   "id": "833e3f89-dec7-4716-8998-cc58f0b8cfc7",
   "metadata": {},
   "outputs": [],
   "source": [
    "inputs = [sentence1, sentence2, sentence3]"
   ]
  },
  {
   "cell_type": "code",
   "execution_count": 34,
   "id": "69276a84-3924-4391-a88a-d45de8576493",
   "metadata": {},
   "outputs": [],
   "source": [
    "outputs = tokenizer(inputs)"
   ]
  },
  {
   "cell_type": "code",
   "execution_count": 35,
   "id": "cba6a348-6efb-49c5-adfe-968bd573547b",
   "metadata": {},
   "outputs": [
    {
     "data": {
      "text/plain": [
       "{'input_ids': [[101, 1045, 3685, 3305, 2129, 2111, 2024, 5790, 2023, 3811, 1012, 4406, 2054, 1045, 1521, 2310, 2272, 2000, 5987, 2013, 21213, 1010, 1996, 7984, 2003, 20857, 1010, 4740, 2012, 1523, 23873, 1524, 2991, 4257, 1010, 1998, 2296, 2711, 2003, 12436, 23267, 1998, 2028, 1011, 8789, 1012, 2023, 3640, 2053, 12369, 18971, 2046, 2824, 1998, 2111, 2008, 2031, 2042, 2092, 1011, 9519, 2094, 6974, 1012, 2023, 2338, 2038, 4445, 1037, 2391, 4496, 1037, 2391, 1997, 3193, 102], [101, 2023, 2003, 2028, 1997, 2216, 2808, 2008, 2003, 2524, 2000, 2404, 2091, 1012, 3733, 2000, 3191, 1006, 2130, 2295, 1045, 2123, 1005, 1056, 2113, 2505, 2055, 1996, 3212, 2030, 12622, 1007, 2096, 2009, 2003, 8966, 2007, 2061, 2172, 4105, 3606, 1012, 2026, 5440, 2112, 1029, 2009, 1005, 1055, 2025, 1037, 1000, 2023, 2003, 1996, 2126, 2477, 2442, 2022, 2589, 1000, 2785, 1997, 2338, 1012, 2002, 13275, 3809, 3471, 1998, 4136, 2017, 2129, 2002, 4457, 2068, 1012, 2002, 3065, 2010, 20828, 1998, 21775, 1999, 4105, 1012, 1045, 6551, 12315, 2023, 3191, 1012, 102], [101, 2823, 12369, 3993, 1010, 2823, 25250, 2100, 1010, 3262, 2437, 3168, 1012, 2070, 4083, 2015, 4025, 15354, 2135, 2794, 2004, 3987, 22151, 5294, 7177, 1012, 1037, 11519, 3191, 2006, 1996, 6481, 1998, 4695, 1997, 2028, 1997, 1996, 2087, 23886, 9387, 1997, 2256, 2335, 102]], 'attention_mask': [[1, 1, 1, 1, 1, 1, 1, 1, 1, 1, 1, 1, 1, 1, 1, 1, 1, 1, 1, 1, 1, 1, 1, 1, 1, 1, 1, 1, 1, 1, 1, 1, 1, 1, 1, 1, 1, 1, 1, 1, 1, 1, 1, 1, 1, 1, 1, 1, 1, 1, 1, 1, 1, 1, 1, 1, 1, 1, 1, 1, 1, 1, 1, 1, 1, 1, 1, 1, 1, 1, 1, 1, 1, 1, 1, 1], [1, 1, 1, 1, 1, 1, 1, 1, 1, 1, 1, 1, 1, 1, 1, 1, 1, 1, 1, 1, 1, 1, 1, 1, 1, 1, 1, 1, 1, 1, 1, 1, 1, 1, 1, 1, 1, 1, 1, 1, 1, 1, 1, 1, 1, 1, 1, 1, 1, 1, 1, 1, 1, 1, 1, 1, 1, 1, 1, 1, 1, 1, 1, 1, 1, 1, 1, 1, 1, 1, 1, 1, 1, 1, 1, 1, 1, 1, 1, 1, 1, 1, 1, 1, 1, 1, 1, 1, 1, 1, 1, 1, 1], [1, 1, 1, 1, 1, 1, 1, 1, 1, 1, 1, 1, 1, 1, 1, 1, 1, 1, 1, 1, 1, 1, 1, 1, 1, 1, 1, 1, 1, 1, 1, 1, 1, 1, 1, 1, 1, 1, 1, 1, 1, 1, 1, 1, 1]]}"
      ]
     },
     "execution_count": 35,
     "metadata": {},
     "output_type": "execute_result"
    }
   ],
   "source": [
    "outputs"
   ]
  },
  {
   "cell_type": "code",
   "execution_count": 36,
   "id": "cd3120f3-d1fa-4ed0-83c5-3c3cd6f0cfda",
   "metadata": {},
   "outputs": [
    {
     "data": {
      "text/plain": [
       "[['i',\n",
       "  'cannot',\n",
       "  'understand',\n",
       "  'how',\n",
       "  'people',\n",
       "  'are',\n",
       "  'rating',\n",
       "  'this',\n",
       "  'highly',\n",
       "  '.',\n",
       "  'unlike',\n",
       "  'what',\n",
       "  'i',\n",
       "  '’',\n",
       "  've',\n",
       "  'come',\n",
       "  'to',\n",
       "  'expect',\n",
       "  'from',\n",
       "  'larson',\n",
       "  ',',\n",
       "  'the',\n",
       "  'narrative',\n",
       "  'is',\n",
       "  'bland',\n",
       "  ',',\n",
       "  'attempts',\n",
       "  'at',\n",
       "  '“',\n",
       "  'suspense',\n",
       "  '”',\n",
       "  'fall',\n",
       "  'flat',\n",
       "  ',',\n",
       "  'and',\n",
       "  'every',\n",
       "  'person',\n",
       "  'is',\n",
       "  'va',\n",
       "  '##pid',\n",
       "  'and',\n",
       "  'one',\n",
       "  '-',\n",
       "  'dimensional',\n",
       "  '.',\n",
       "  'this',\n",
       "  'provides',\n",
       "  'no',\n",
       "  'insight',\n",
       "  'whatsoever',\n",
       "  'into',\n",
       "  'events',\n",
       "  'and',\n",
       "  'people',\n",
       "  'that',\n",
       "  'have',\n",
       "  'been',\n",
       "  'well',\n",
       "  '-',\n",
       "  'chronicle',\n",
       "  '##d',\n",
       "  'elsewhere',\n",
       "  '.',\n",
       "  'this',\n",
       "  'book',\n",
       "  'has',\n",
       "  'neither',\n",
       "  'a',\n",
       "  'point',\n",
       "  'nor',\n",
       "  'a',\n",
       "  'point',\n",
       "  'of',\n",
       "  'view'],\n",
       " ['this',\n",
       "  'is',\n",
       "  'one',\n",
       "  'of',\n",
       "  'those',\n",
       "  'books',\n",
       "  'that',\n",
       "  'is',\n",
       "  'hard',\n",
       "  'to',\n",
       "  'put',\n",
       "  'down',\n",
       "  '.',\n",
       "  'easy',\n",
       "  'to',\n",
       "  'read',\n",
       "  '(',\n",
       "  'even',\n",
       "  'though',\n",
       "  'i',\n",
       "  'don',\n",
       "  \"'\",\n",
       "  't',\n",
       "  'know',\n",
       "  'anything',\n",
       "  'about',\n",
       "  'the',\n",
       "  'navy',\n",
       "  'or',\n",
       "  'submarines',\n",
       "  ')',\n",
       "  'while',\n",
       "  'it',\n",
       "  'is',\n",
       "  'packed',\n",
       "  'with',\n",
       "  'so',\n",
       "  'much',\n",
       "  'leadership',\n",
       "  'truth',\n",
       "  '.',\n",
       "  'my',\n",
       "  'favorite',\n",
       "  'part',\n",
       "  '?',\n",
       "  'it',\n",
       "  \"'\",\n",
       "  's',\n",
       "  'not',\n",
       "  'a',\n",
       "  '\"',\n",
       "  'this',\n",
       "  'is',\n",
       "  'the',\n",
       "  'way',\n",
       "  'things',\n",
       "  'must',\n",
       "  'be',\n",
       "  'done',\n",
       "  '\"',\n",
       "  'kind',\n",
       "  'of',\n",
       "  'book',\n",
       "  '.',\n",
       "  'he',\n",
       "  'raises',\n",
       "  'serious',\n",
       "  'problems',\n",
       "  'and',\n",
       "  'tells',\n",
       "  'you',\n",
       "  'how',\n",
       "  'he',\n",
       "  'attacked',\n",
       "  'them',\n",
       "  '.',\n",
       "  'he',\n",
       "  'shows',\n",
       "  'his',\n",
       "  'strengths',\n",
       "  'and',\n",
       "  'weaknesses',\n",
       "  'in',\n",
       "  'leadership',\n",
       "  '.',\n",
       "  'i',\n",
       "  'greatly',\n",
       "  'appreciated',\n",
       "  'this',\n",
       "  'read',\n",
       "  '.'],\n",
       " ['sometimes',\n",
       "  'insight',\n",
       "  '##ful',\n",
       "  ',',\n",
       "  'sometimes',\n",
       "  'preach',\n",
       "  '##y',\n",
       "  ',',\n",
       "  'mostly',\n",
       "  'making',\n",
       "  'sense',\n",
       "  '.',\n",
       "  'some',\n",
       "  'learning',\n",
       "  '##s',\n",
       "  'seem',\n",
       "  'retrospective',\n",
       "  '##ly',\n",
       "  'added',\n",
       "  'as',\n",
       "  'naval',\n",
       "  'amassed',\n",
       "  'massive',\n",
       "  'wealth',\n",
       "  '.',\n",
       "  'a',\n",
       "  'decent',\n",
       "  'read',\n",
       "  'on',\n",
       "  'the',\n",
       "  'principles',\n",
       "  'and',\n",
       "  'philosophy',\n",
       "  'of',\n",
       "  'one',\n",
       "  'of',\n",
       "  'the',\n",
       "  'most',\n",
       "  'revered',\n",
       "  'investors',\n",
       "  'of',\n",
       "  'our',\n",
       "  'times']]"
      ]
     },
     "execution_count": 36,
     "metadata": {},
     "output_type": "execute_result"
    }
   ],
   "source": [
    "tokens = list(map(tokenizer.tokenize, inputs)); tokens"
   ]
  },
  {
   "cell_type": "code",
   "execution_count": 37,
   "id": "585aebc8-e0f4-4fa8-885d-b37df996375b",
   "metadata": {},
   "outputs": [
    {
     "data": {
      "text/plain": [
       "[[1045,\n",
       "  3685,\n",
       "  3305,\n",
       "  2129,\n",
       "  2111,\n",
       "  2024,\n",
       "  5790,\n",
       "  2023,\n",
       "  3811,\n",
       "  1012,\n",
       "  4406,\n",
       "  2054,\n",
       "  1045,\n",
       "  1521,\n",
       "  2310,\n",
       "  2272,\n",
       "  2000,\n",
       "  5987,\n",
       "  2013,\n",
       "  21213,\n",
       "  1010,\n",
       "  1996,\n",
       "  7984,\n",
       "  2003,\n",
       "  20857,\n",
       "  1010,\n",
       "  4740,\n",
       "  2012,\n",
       "  1523,\n",
       "  23873,\n",
       "  1524,\n",
       "  2991,\n",
       "  4257,\n",
       "  1010,\n",
       "  1998,\n",
       "  2296,\n",
       "  2711,\n",
       "  2003,\n",
       "  12436,\n",
       "  23267,\n",
       "  1998,\n",
       "  2028,\n",
       "  1011,\n",
       "  8789,\n",
       "  1012,\n",
       "  2023,\n",
       "  3640,\n",
       "  2053,\n",
       "  12369,\n",
       "  18971,\n",
       "  2046,\n",
       "  2824,\n",
       "  1998,\n",
       "  2111,\n",
       "  2008,\n",
       "  2031,\n",
       "  2042,\n",
       "  2092,\n",
       "  1011,\n",
       "  9519,\n",
       "  2094,\n",
       "  6974,\n",
       "  1012,\n",
       "  2023,\n",
       "  2338,\n",
       "  2038,\n",
       "  4445,\n",
       "  1037,\n",
       "  2391,\n",
       "  4496,\n",
       "  1037,\n",
       "  2391,\n",
       "  1997,\n",
       "  3193],\n",
       " [2023,\n",
       "  2003,\n",
       "  2028,\n",
       "  1997,\n",
       "  2216,\n",
       "  2808,\n",
       "  2008,\n",
       "  2003,\n",
       "  2524,\n",
       "  2000,\n",
       "  2404,\n",
       "  2091,\n",
       "  1012,\n",
       "  3733,\n",
       "  2000,\n",
       "  3191,\n",
       "  1006,\n",
       "  2130,\n",
       "  2295,\n",
       "  1045,\n",
       "  2123,\n",
       "  1005,\n",
       "  1056,\n",
       "  2113,\n",
       "  2505,\n",
       "  2055,\n",
       "  1996,\n",
       "  3212,\n",
       "  2030,\n",
       "  12622,\n",
       "  1007,\n",
       "  2096,\n",
       "  2009,\n",
       "  2003,\n",
       "  8966,\n",
       "  2007,\n",
       "  2061,\n",
       "  2172,\n",
       "  4105,\n",
       "  3606,\n",
       "  1012,\n",
       "  2026,\n",
       "  5440,\n",
       "  2112,\n",
       "  1029,\n",
       "  2009,\n",
       "  1005,\n",
       "  1055,\n",
       "  2025,\n",
       "  1037,\n",
       "  1000,\n",
       "  2023,\n",
       "  2003,\n",
       "  1996,\n",
       "  2126,\n",
       "  2477,\n",
       "  2442,\n",
       "  2022,\n",
       "  2589,\n",
       "  1000,\n",
       "  2785,\n",
       "  1997,\n",
       "  2338,\n",
       "  1012,\n",
       "  2002,\n",
       "  13275,\n",
       "  3809,\n",
       "  3471,\n",
       "  1998,\n",
       "  4136,\n",
       "  2017,\n",
       "  2129,\n",
       "  2002,\n",
       "  4457,\n",
       "  2068,\n",
       "  1012,\n",
       "  2002,\n",
       "  3065,\n",
       "  2010,\n",
       "  20828,\n",
       "  1998,\n",
       "  21775,\n",
       "  1999,\n",
       "  4105,\n",
       "  1012,\n",
       "  1045,\n",
       "  6551,\n",
       "  12315,\n",
       "  2023,\n",
       "  3191,\n",
       "  1012],\n",
       " [2823,\n",
       "  12369,\n",
       "  3993,\n",
       "  1010,\n",
       "  2823,\n",
       "  25250,\n",
       "  2100,\n",
       "  1010,\n",
       "  3262,\n",
       "  2437,\n",
       "  3168,\n",
       "  1012,\n",
       "  2070,\n",
       "  4083,\n",
       "  2015,\n",
       "  4025,\n",
       "  15354,\n",
       "  2135,\n",
       "  2794,\n",
       "  2004,\n",
       "  3987,\n",
       "  22151,\n",
       "  5294,\n",
       "  7177,\n",
       "  1012,\n",
       "  1037,\n",
       "  11519,\n",
       "  3191,\n",
       "  2006,\n",
       "  1996,\n",
       "  6481,\n",
       "  1998,\n",
       "  4695,\n",
       "  1997,\n",
       "  2028,\n",
       "  1997,\n",
       "  1996,\n",
       "  2087,\n",
       "  23886,\n",
       "  9387,\n",
       "  1997,\n",
       "  2256,\n",
       "  2335]]"
      ]
     },
     "execution_count": 37,
     "metadata": {},
     "output_type": "execute_result"
    }
   ],
   "source": [
    "ids = list(map(tokenizer.convert_tokens_to_ids, tokens)); ids"
   ]
  },
  {
   "cell_type": "code",
   "execution_count": 38,
   "id": "8987864f-8ce2-4cea-a0e8-f27792c4e84e",
   "metadata": {},
   "outputs": [],
   "source": [
    "model_inputs = list(map(tokenizer.prepare_for_model, ids))"
   ]
  },
  {
   "cell_type": "code",
   "execution_count": 40,
   "id": "f9fbb1f4-71e6-40f3-964d-c7cef2e93513",
   "metadata": {},
   "outputs": [
    {
     "data": {
      "text/plain": [
       "[{'input_ids': [101, 1045, 3685, 3305, 2129, 2111, 2024, 5790, 2023, 3811, 1012, 4406, 2054, 1045, 1521, 2310, 2272, 2000, 5987, 2013, 21213, 1010, 1996, 7984, 2003, 20857, 1010, 4740, 2012, 1523, 23873, 1524, 2991, 4257, 1010, 1998, 2296, 2711, 2003, 12436, 23267, 1998, 2028, 1011, 8789, 1012, 2023, 3640, 2053, 12369, 18971, 2046, 2824, 1998, 2111, 2008, 2031, 2042, 2092, 1011, 9519, 2094, 6974, 1012, 2023, 2338, 2038, 4445, 1037, 2391, 4496, 1037, 2391, 1997, 3193, 102], 'attention_mask': [1, 1, 1, 1, 1, 1, 1, 1, 1, 1, 1, 1, 1, 1, 1, 1, 1, 1, 1, 1, 1, 1, 1, 1, 1, 1, 1, 1, 1, 1, 1, 1, 1, 1, 1, 1, 1, 1, 1, 1, 1, 1, 1, 1, 1, 1, 1, 1, 1, 1, 1, 1, 1, 1, 1, 1, 1, 1, 1, 1, 1, 1, 1, 1, 1, 1, 1, 1, 1, 1, 1, 1, 1, 1, 1, 1]},\n",
       " {'input_ids': [101, 2023, 2003, 2028, 1997, 2216, 2808, 2008, 2003, 2524, 2000, 2404, 2091, 1012, 3733, 2000, 3191, 1006, 2130, 2295, 1045, 2123, 1005, 1056, 2113, 2505, 2055, 1996, 3212, 2030, 12622, 1007, 2096, 2009, 2003, 8966, 2007, 2061, 2172, 4105, 3606, 1012, 2026, 5440, 2112, 1029, 2009, 1005, 1055, 2025, 1037, 1000, 2023, 2003, 1996, 2126, 2477, 2442, 2022, 2589, 1000, 2785, 1997, 2338, 1012, 2002, 13275, 3809, 3471, 1998, 4136, 2017, 2129, 2002, 4457, 2068, 1012, 2002, 3065, 2010, 20828, 1998, 21775, 1999, 4105, 1012, 1045, 6551, 12315, 2023, 3191, 1012, 102], 'attention_mask': [1, 1, 1, 1, 1, 1, 1, 1, 1, 1, 1, 1, 1, 1, 1, 1, 1, 1, 1, 1, 1, 1, 1, 1, 1, 1, 1, 1, 1, 1, 1, 1, 1, 1, 1, 1, 1, 1, 1, 1, 1, 1, 1, 1, 1, 1, 1, 1, 1, 1, 1, 1, 1, 1, 1, 1, 1, 1, 1, 1, 1, 1, 1, 1, 1, 1, 1, 1, 1, 1, 1, 1, 1, 1, 1, 1, 1, 1, 1, 1, 1, 1, 1, 1, 1, 1, 1, 1, 1, 1, 1, 1, 1]},\n",
       " {'input_ids': [101, 2823, 12369, 3993, 1010, 2823, 25250, 2100, 1010, 3262, 2437, 3168, 1012, 2070, 4083, 2015, 4025, 15354, 2135, 2794, 2004, 3987, 22151, 5294, 7177, 1012, 1037, 11519, 3191, 2006, 1996, 6481, 1998, 4695, 1997, 2028, 1997, 1996, 2087, 23886, 9387, 1997, 2256, 2335, 102], 'attention_mask': [1, 1, 1, 1, 1, 1, 1, 1, 1, 1, 1, 1, 1, 1, 1, 1, 1, 1, 1, 1, 1, 1, 1, 1, 1, 1, 1, 1, 1, 1, 1, 1, 1, 1, 1, 1, 1, 1, 1, 1, 1, 1, 1, 1, 1]}]"
      ]
     },
     "execution_count": 40,
     "metadata": {},
     "output_type": "execute_result"
    }
   ],
   "source": [
    "model_inputs"
   ]
  },
  {
   "cell_type": "code",
   "execution_count": 41,
   "id": "deaae784-0435-49d6-97a9-d82f8457f7c6",
   "metadata": {},
   "outputs": [],
   "source": [
    "from collections import defaultdict\n",
    "\n",
    "model_inputs_collate = defaultdict(list)\n",
    "for ele in model_inputs:\n",
    "    model_inputs_collate['input_ids'].append(ele['input_ids'])\n",
    "    model_inputs_collate['attention_mask'].append(ele['attention_mask'])"
   ]
  },
  {
   "cell_type": "code",
   "execution_count": 42,
   "id": "2e692e73-8ffc-4380-9565-8c96364f10a2",
   "metadata": {},
   "outputs": [
    {
     "data": {
      "text/plain": [
       "True"
      ]
     },
     "execution_count": 42,
     "metadata": {},
     "output_type": "execute_result"
    }
   ],
   "source": [
    "model_inputs_collate['input_ids'] == outputs.input_ids"
   ]
  },
  {
   "cell_type": "code",
   "execution_count": 47,
   "id": "b2c05cfb-18ac-4b81-ad6a-6b8c0fed8f56",
   "metadata": {},
   "outputs": [
    {
     "data": {
      "text/plain": [
       "[{'input_ids': [101, 1045, 3685, 3305, 2129, 2111, 2024, 5790, 2023, 3811, 1012, 4406, 2054, 1045, 1521, 2310, 2272, 2000, 5987, 2013, 21213, 1010, 1996, 7984, 2003, 20857, 1010, 4740, 2012, 1523, 23873, 1524, 2991, 4257, 1010, 1998, 2296, 2711, 2003, 12436, 23267, 1998, 2028, 1011, 8789, 1012, 2023, 3640, 2053, 12369, 18971, 2046, 2824, 1998, 2111, 2008, 2031, 2042, 2092, 1011, 9519, 2094, 6974, 1012, 2023, 2338, 2038, 4445, 1037, 2391, 4496, 1037, 2391, 1997, 3193, 102], 'attention_mask': [1, 1, 1, 1, 1, 1, 1, 1, 1, 1, 1, 1, 1, 1, 1, 1, 1, 1, 1, 1, 1, 1, 1, 1, 1, 1, 1, 1, 1, 1, 1, 1, 1, 1, 1, 1, 1, 1, 1, 1, 1, 1, 1, 1, 1, 1, 1, 1, 1, 1, 1, 1, 1, 1, 1, 1, 1, 1, 1, 1, 1, 1, 1, 1, 1, 1, 1, 1, 1, 1, 1, 1, 1, 1, 1, 1]},\n",
       " {'input_ids': [101, 2023, 2003, 2028, 1997, 2216, 2808, 2008, 2003, 2524, 2000, 2404, 2091, 1012, 3733, 2000, 3191, 1006, 2130, 2295, 1045, 2123, 1005, 1056, 2113, 2505, 2055, 1996, 3212, 2030, 12622, 1007, 2096, 2009, 2003, 8966, 2007, 2061, 2172, 4105, 3606, 1012, 2026, 5440, 2112, 1029, 2009, 1005, 1055, 2025, 1037, 1000, 2023, 2003, 1996, 2126, 2477, 2442, 2022, 2589, 1000, 2785, 1997, 2338, 1012, 2002, 13275, 3809, 3471, 1998, 4136, 2017, 2129, 2002, 4457, 2068, 1012, 2002, 3065, 2010, 20828, 1998, 21775, 1999, 4105, 1012, 1045, 6551, 12315, 2023, 3191, 1012, 102], 'attention_mask': [1, 1, 1, 1, 1, 1, 1, 1, 1, 1, 1, 1, 1, 1, 1, 1, 1, 1, 1, 1, 1, 1, 1, 1, 1, 1, 1, 1, 1, 1, 1, 1, 1, 1, 1, 1, 1, 1, 1, 1, 1, 1, 1, 1, 1, 1, 1, 1, 1, 1, 1, 1, 1, 1, 1, 1, 1, 1, 1, 1, 1, 1, 1, 1, 1, 1, 1, 1, 1, 1, 1, 1, 1, 1, 1, 1, 1, 1, 1, 1, 1, 1, 1, 1, 1, 1, 1, 1, 1, 1, 1, 1, 1]},\n",
       " {'input_ids': [101, 2823, 12369, 3993, 1010, 2823, 25250, 2100, 1010, 3262, 2437, 3168, 1012, 2070, 4083, 2015, 4025, 15354, 2135, 2794, 2004, 3987, 22151, 5294, 7177, 1012, 1037, 11519, 3191, 2006, 1996, 6481, 1998, 4695, 1997, 2028, 1997, 1996, 2087, 23886, 9387, 1997, 2256, 2335, 102], 'attention_mask': [1, 1, 1, 1, 1, 1, 1, 1, 1, 1, 1, 1, 1, 1, 1, 1, 1, 1, 1, 1, 1, 1, 1, 1, 1, 1, 1, 1, 1, 1, 1, 1, 1, 1, 1, 1, 1, 1, 1, 1, 1, 1, 1, 1, 1]}]"
      ]
     },
     "execution_count": 47,
     "metadata": {},
     "output_type": "execute_result"
    }
   ],
   "source": [
    "model_inputs"
   ]
  },
  {
   "cell_type": "code",
   "execution_count": 51,
   "id": "8e6bba61-5c34-4463-bd9d-ced72661a07a",
   "metadata": {},
   "outputs": [
    {
     "data": {
      "text/plain": [
       "['i cannot understand how people are rating this highly. unlike what i ’ ve come to expect from larson, the narrative is bland, attempts at “ suspense ” fall flat, and every person is vapid and one - dimensional. this provides no insight whatsoever into events and people that have been well - chronicled elsewhere. this book has neither a point nor a point of view',\n",
       " 'this is one of those books that is hard to put down. easy to read ( even though i don\\'t know anything about the navy or submarines ) while it is packed with so much leadership truth. my favorite part? it\\'s not a \" this is the way things must be done \" kind of book. he raises serious problems and tells you how he attacked them. he shows his strengths and weaknesses in leadership. i greatly appreciated this read.',\n",
       " 'sometimes insightful, sometimes preachy, mostly making sense. some learnings seem retrospectively added as naval amassed massive wealth. a decent read on the principles and philosophy of one of the most revered investors of our times']"
      ]
     },
     "execution_count": 51,
     "metadata": {},
     "output_type": "execute_result"
    }
   ],
   "source": [
    "list(map(tokenizer.decode, ids))"
   ]
  },
  {
   "cell_type": "markdown",
   "id": "8f687718-e0f3-41d9-8fc7-a278234214fb",
   "metadata": {},
   "source": [
    "As the model is uncased, it converts all the tokens into lowercase"
   ]
  },
  {
   "cell_type": "code",
   "execution_count": null,
   "id": "8bd11081-61c6-4436-9a81-b7727c08fa24",
   "metadata": {},
   "outputs": [],
   "source": []
  }
 ],
 "metadata": {
  "kernelspec": {
   "display_name": "transformers-course",
   "language": "python",
   "name": "transformers-course"
  },
  "language_info": {
   "codemirror_mode": {
    "name": "ipython",
    "version": 3
   },
   "file_extension": ".py",
   "mimetype": "text/x-python",
   "name": "python",
   "nbconvert_exporter": "python",
   "pygments_lexer": "ipython3",
   "version": "3.9.17"
  }
 },
 "nbformat": 4,
 "nbformat_minor": 5
}
