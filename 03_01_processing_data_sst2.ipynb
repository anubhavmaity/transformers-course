{
 "cells": [
  {
   "cell_type": "markdown",
   "id": "9f750fd0-028c-42fc-b496-0c26a5ed6f86",
   "metadata": {},
   "source": [
    "# Processing Data - SST 2"
   ]
  },
  {
   "cell_type": "markdown",
   "id": "34b2b374-2562-41ef-98e1-b94d240784d4",
   "metadata": {},
   "source": [
    "> https://huggingface.co/datasets/sst2"
   ]
  },
  {
   "cell_type": "code",
   "execution_count": 16,
   "id": "dfb2f743-1282-448f-a505-1e4c394826b3",
   "metadata": {},
   "outputs": [],
   "source": [
    "from transformers import AutoTokenizer, AutoModelForSequenceClassification, DataCollatorWithPadding\n",
    "from datasets import load_dataset"
   ]
  },
  {
   "cell_type": "markdown",
   "id": "1184f5ec-9334-44bc-8f51-77fd2f909764",
   "metadata": {},
   "source": [
    "## Load the Glue SST 2 dataset"
   ]
  },
  {
   "cell_type": "code",
   "execution_count": 4,
   "id": "c9bd3788-6cfb-45df-9a18-99b1eb147b76",
   "metadata": {},
   "outputs": [
    {
     "name": "stderr",
     "output_type": "stream",
     "text": [
      "Downloading data: 100%|████████████████████████████████████████████████████████████████████████████████████████████████████████████████████████████████████████████████| 7.44M/7.44M [00:00<00:00, 17.0MB/s]\n",
      "Generating train split: 100%|███████████████████████████████████████████████████████████████████████████████████████████████████████████████████████████████| 67349/67349 [00:02<00:00, 23347.65 examples/s]\n",
      "Generating validation split: 100%|██████████████████████████████████████████████████████████████████████████████████████████████████████████████████████████████| 872/872 [00:00<00:00, 17169.76 examples/s]\n",
      "Generating test split: 100%|██████████████████████████████████████████████████████████████████████████████████████████████████████████████████████████████████| 1821/1821 [00:00<00:00, 22208.99 examples/s]\n"
     ]
    }
   ],
   "source": [
    "dataset = load_dataset('glue', 'sst2')"
   ]
  },
  {
   "cell_type": "code",
   "execution_count": 5,
   "id": "3380d943-66b5-4854-8b7f-713f216ca088",
   "metadata": {},
   "outputs": [
    {
     "data": {
      "text/plain": [
       "DatasetDict({\n",
       "    train: Dataset({\n",
       "        features: ['sentence', 'label', 'idx'],\n",
       "        num_rows: 67349\n",
       "    })\n",
       "    validation: Dataset({\n",
       "        features: ['sentence', 'label', 'idx'],\n",
       "        num_rows: 872\n",
       "    })\n",
       "    test: Dataset({\n",
       "        features: ['sentence', 'label', 'idx'],\n",
       "        num_rows: 1821\n",
       "    })\n",
       "})"
      ]
     },
     "execution_count": 5,
     "metadata": {},
     "output_type": "execute_result"
    }
   ],
   "source": [
    "dataset"
   ]
  },
  {
   "cell_type": "code",
   "execution_count": 8,
   "id": "da2b2452-7519-4f94-a497-57cfd4f2e01f",
   "metadata": {},
   "outputs": [
    {
     "data": {
      "text/plain": [
       "{'sentence': \"as they come , already having been recycled more times than i 'd care to count \",\n",
       " 'label': 0,\n",
       " 'idx': 42}"
      ]
     },
     "execution_count": 8,
     "metadata": {},
     "output_type": "execute_result"
    }
   ],
   "source": [
    "dataset['train'][42]"
   ]
  },
  {
   "cell_type": "code",
   "execution_count": 11,
   "id": "52ef1596-1e64-4bcb-8eca-6a5020aad480",
   "metadata": {},
   "outputs": [],
   "source": [
    "tokenizer = AutoTokenizer.from_pretrained('bert-base-uncased')"
   ]
  },
  {
   "cell_type": "code",
   "execution_count": 12,
   "id": "9bc629e1-b854-4a6d-831c-62dd3a66ad96",
   "metadata": {},
   "outputs": [],
   "source": [
    "def tokenize(data):\n",
    "    return tokenizer(data['sentence'], truncation=True)"
   ]
  },
  {
   "cell_type": "code",
   "execution_count": 15,
   "id": "2a5efba1-ca31-40f0-8fda-51d18ff90d9e",
   "metadata": {},
   "outputs": [
    {
     "name": "stderr",
     "output_type": "stream",
     "text": [
      "Map: 100%|██████████████████████████████████████████████████████████████████████████████████████████████████████████████████████████████████████████████████| 67349/67349 [00:05<00:00, 11419.53 examples/s]\n",
      "Map: 100%|███████████████████████████████████████████████████████████████████████████████████████████████████████████████████████████████████████████████████████| 872/872 [00:00<00:00, 6023.59 examples/s]\n",
      "Map: 100%|█████████████████████████████████████████████████████████████████████████████████████████████████████████████████████████████████████████████████████| 1821/1821 [00:00<00:00, 7699.69 examples/s]\n"
     ]
    },
    {
     "data": {
      "text/plain": [
       "DatasetDict({\n",
       "    train: Dataset({\n",
       "        features: ['sentence', 'label', 'idx', 'input_ids', 'token_type_ids', 'attention_mask'],\n",
       "        num_rows: 67349\n",
       "    })\n",
       "    validation: Dataset({\n",
       "        features: ['sentence', 'label', 'idx', 'input_ids', 'token_type_ids', 'attention_mask'],\n",
       "        num_rows: 872\n",
       "    })\n",
       "    test: Dataset({\n",
       "        features: ['sentence', 'label', 'idx', 'input_ids', 'token_type_ids', 'attention_mask'],\n",
       "        num_rows: 1821\n",
       "    })\n",
       "})"
      ]
     },
     "execution_count": 15,
     "metadata": {},
     "output_type": "execute_result"
    }
   ],
   "source": [
    "tokenized_datasets = dataset.map(tokenize, batched=True); tokenized_datasets"
   ]
  },
  {
   "cell_type": "code",
   "execution_count": 17,
   "id": "bab21eef-481f-475b-b09a-50d1ec11b46e",
   "metadata": {},
   "outputs": [],
   "source": [
    "collator = DataCollatorWithPadding(tokenizer=tokenizer)"
   ]
  },
  {
   "cell_type": "code",
   "execution_count": 41,
   "id": "d704c9df-ce64-4d3a-af1e-6219c5bc6619",
   "metadata": {},
   "outputs": [],
   "source": [
    "samples = tokenized_datasets['train'][:8]"
   ]
  },
  {
   "cell_type": "code",
   "execution_count": 45,
   "id": "bade07f8-51db-45c1-9a61-48f584e543d2",
   "metadata": {},
   "outputs": [
    {
     "data": {
      "text/plain": [
       "[7, 7, 12, 8, 10, 10, 25, 2]"
      ]
     },
     "execution_count": 45,
     "metadata": {},
     "output_type": "execute_result"
    }
   ],
   "source": [
    "list(map(lambda x: len(x.split()), samples['sentence']))"
   ]
  },
  {
   "cell_type": "code",
   "execution_count": 46,
   "id": "9a055fd4-2d85-474f-8a16-8260e6b82b8f",
   "metadata": {},
   "outputs": [
    {
     "data": {
      "text/plain": [
       "[10, 11, 15, 10, 22, 13, 29, 6]"
      ]
     },
     "execution_count": 46,
     "metadata": {},
     "output_type": "execute_result"
    }
   ],
   "source": [
    "list(map(lambda x: len(x), samples['input_ids']))"
   ]
  },
  {
   "cell_type": "code",
   "execution_count": 47,
   "id": "b5a0bb37-9709-4f05-afe0-abead1f57531",
   "metadata": {},
   "outputs": [],
   "source": [
    "samples  = {k: v for k , v in samples.items() if k not in ['sentence', 'label', 'idx']}"
   ]
  },
  {
   "cell_type": "code",
   "execution_count": 48,
   "id": "c4da91c7-a1fe-4ebd-bb0a-b8422f095720",
   "metadata": {},
   "outputs": [],
   "source": [
    "batch = collator(samples)"
   ]
  },
  {
   "cell_type": "code",
   "execution_count": 49,
   "id": "3cf5eb4c-cbad-4fa6-a03b-990f040e6fa9",
   "metadata": {},
   "outputs": [
    {
     "name": "stdout",
     "output_type": "stream",
     "text": [
      "input_ids torch.Size([8, 29])\n",
      "token_type_ids torch.Size([8, 29])\n",
      "attention_mask torch.Size([8, 29])\n"
     ]
    }
   ],
   "source": [
    "for k, v in batch.items():\n",
    "    print(k, v.shape)"
   ]
  },
  {
   "cell_type": "code",
   "execution_count": 51,
   "id": "5d14ef46-f77f-4a50-84f3-2a82706742b9",
   "metadata": {},
   "outputs": [],
   "source": [
    "def generate_batch(tokenized_datasets, type='train', bs=32):\n",
    "    ds = tokenized_datasets[type]\n",
    "    for i in range(0, len(ds), bs):\n",
    "        samples = ds[i: i + bs]\n",
    "        samples  = {k: v for k , v in samples.items() if k not in ['sentence', 'label', 'idx']}\n",
    "        yield collator(samples)"
   ]
  },
  {
   "cell_type": "code",
   "execution_count": 65,
   "id": "c78f061f-e700-41ff-8812-4e32a4109c8e",
   "metadata": {},
   "outputs": [],
   "source": [
    "it = iter(generate_batch(tokenized_datasets))"
   ]
  },
  {
   "cell_type": "code",
   "execution_count": 74,
   "id": "263155be-b6e9-435e-9316-01f836aa6f32",
   "metadata": {},
   "outputs": [],
   "source": [
    "batch = next(it)"
   ]
  },
  {
   "cell_type": "code",
   "execution_count": 75,
   "id": "4e87bf47-c6af-45f7-974a-85787b70216c",
   "metadata": {},
   "outputs": [
    {
     "data": {
      "text/plain": [
       "torch.Size([32, 49])"
      ]
     },
     "execution_count": 75,
     "metadata": {},
     "output_type": "execute_result"
    }
   ],
   "source": [
    "batch.input_ids.shape"
   ]
  },
  {
   "cell_type": "code",
   "execution_count": 76,
   "id": "4ac264c6-8d82-4663-9cfe-23b18daa036b",
   "metadata": {},
   "outputs": [],
   "source": [
    "batch = next(it)"
   ]
  },
  {
   "cell_type": "code",
   "execution_count": 77,
   "id": "eae0b2dd-a76f-4e16-9551-bb8a74ecff65",
   "metadata": {},
   "outputs": [
    {
     "data": {
      "text/plain": [
       "torch.Size([32, 42])"
      ]
     },
     "execution_count": 77,
     "metadata": {},
     "output_type": "execute_result"
    }
   ],
   "source": [
    "batch.input_ids.shape"
   ]
  },
  {
   "cell_type": "code",
   "execution_count": null,
   "id": "98509411-00e2-440a-ab55-14cd4b09c4a1",
   "metadata": {},
   "outputs": [],
   "source": []
  }
 ],
 "metadata": {
  "kernelspec": {
   "display_name": "transformers-course",
   "language": "python",
   "name": "transformers-course"
  },
  "language_info": {
   "codemirror_mode": {
    "name": "ipython",
    "version": 3
   },
   "file_extension": ".py",
   "mimetype": "text/x-python",
   "name": "python",
   "nbconvert_exporter": "python",
   "pygments_lexer": "ipython3",
   "version": "3.9.17"
  }
 },
 "nbformat": 4,
 "nbformat_minor": 5
}
