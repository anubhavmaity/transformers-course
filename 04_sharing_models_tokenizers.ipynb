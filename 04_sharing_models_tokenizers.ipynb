{
 "cells": [
  {
   "cell_type": "code",
   "execution_count": 1,
   "id": "42bcff23-3e24-4d1d-aa49-99ebad321750",
   "metadata": {},
   "outputs": [],
   "source": [
    "# !pip install ipywidgets\n",
    "# !pip install huggingface_hub"
   ]
  },
  {
   "cell_type": "code",
   "execution_count": 2,
   "id": "a6e7cc89-ef45-4acc-8e71-0e1a67b1cb13",
   "metadata": {},
   "outputs": [],
   "source": [
    "from huggingface_hub import interpreter_login"
   ]
  },
  {
   "cell_type": "code",
   "execution_count": 3,
   "id": "f180be4f-4d95-46b6-b84f-6a19f24004f9",
   "metadata": {},
   "outputs": [
    {
     "name": "stdout",
     "output_type": "stream",
     "text": [
      "\n",
      "    _|    _|  _|    _|    _|_|_|    _|_|_|  _|_|_|  _|      _|    _|_|_|      _|_|_|_|    _|_|      _|_|_|  _|_|_|_|\n",
      "    _|    _|  _|    _|  _|        _|          _|    _|_|    _|  _|            _|        _|    _|  _|        _|\n",
      "    _|_|_|_|  _|    _|  _|  _|_|  _|  _|_|    _|    _|  _|  _|  _|  _|_|      _|_|_|    _|_|_|_|  _|        _|_|_|\n",
      "    _|    _|  _|    _|  _|    _|  _|    _|    _|    _|    _|_|  _|    _|      _|        _|    _|  _|        _|\n",
      "    _|    _|    _|_|      _|_|_|    _|_|_|  _|_|_|  _|      _|    _|_|_|      _|        _|    _|    _|_|_|  _|_|_|_|\n",
      "    \n",
      "    A token is already saved on your machine. Run `huggingface-cli whoami` to get more information or `huggingface-cli logout` if you want to log out.\n",
      "    Setting a new token will erase the existing one.\n",
      "    To login, `huggingface_hub` requires a token generated from https://huggingface.co/settings/tokens .\n"
     ]
    },
    {
     "name": "stdin",
     "output_type": "stream",
     "text": [
      "Token:  ········\n",
      "Add token as git credential? (Y/n)  Y\n"
     ]
    },
    {
     "name": "stdout",
     "output_type": "stream",
     "text": [
      "Token is valid (permission: write).\n",
      "Your token has been saved in your configured git credential helpers (osxkeychain).\n",
      "Your token has been saved to /Users/anubhavmaity/.cache/huggingface/token\n",
      "Login successful\n"
     ]
    }
   ],
   "source": [
    "interpreter_login()"
   ]
  },
  {
   "cell_type": "code",
   "execution_count": 4,
   "id": "141b7997-dde2-482a-85aa-53f99ab15e6b",
   "metadata": {},
   "outputs": [],
   "source": [
    "from huggingface_hub import upload_file"
   ]
  },
  {
   "cell_type": "code",
   "execution_count": 5,
   "id": "e7e82c79-337b-4d1f-b421-7a632c686eab",
   "metadata": {},
   "outputs": [],
   "source": [
    "with open(\"/tmp/README.md\", \"w+\") as f: f.write(\"# My dummy model\")"
   ]
  },
  {
   "cell_type": "code",
   "execution_count": 6,
   "id": "f697258d-bf74-4ebf-b0e1-16e3ef71387f",
   "metadata": {},
   "outputs": [
    {
     "data": {
      "text/plain": [
       "'https://huggingface.co/anubhavmaity/dummy/blob/main/README.md'"
      ]
     },
     "execution_count": 6,
     "metadata": {},
     "output_type": "execute_result"
    }
   ],
   "source": [
    "upload_file(path_or_fileobj=\"/tmp/README.md\", path_in_repo=\"README.md\", repo_id=\"anubhavmaity/dummy\")"
   ]
  },
  {
   "cell_type": "code",
   "execution_count": 7,
   "id": "3c9bdc5e-bf58-4415-aedb-a24853aac510",
   "metadata": {},
   "outputs": [],
   "source": [
    "from huggingface_hub import delete_file"
   ]
  },
  {
   "cell_type": "code",
   "execution_count": 8,
   "id": "add2be3a-cc14-4ee1-bd29-d7a7ef3adf9b",
   "metadata": {},
   "outputs": [
    {
     "data": {
      "text/plain": [
       "CommitInfo(commit_url='https://huggingface.co/anubhavmaity/dummy/commit/bd29149516a9b5319c7f02a217e733a0da10b4cd', commit_message='Delete README.md with huggingface_hub', commit_description='', oid='bd29149516a9b5319c7f02a217e733a0da10b4cd', pr_url=None, pr_revision=None, pr_num=None)"
      ]
     },
     "execution_count": 8,
     "metadata": {},
     "output_type": "execute_result"
    }
   ],
   "source": [
    "delete_file(\"README.md\", repo_id=\"anubhavmaity/dummy\")"
   ]
  },
  {
   "cell_type": "code",
   "execution_count": 9,
   "id": "49bc4ada-8b34-426e-8c8e-db08b8992839",
   "metadata": {},
   "outputs": [],
   "source": [
    "from huggingface_hub import Repository"
   ]
  },
  {
   "cell_type": "code",
   "execution_count": 10,
   "id": "1eca776f-1544-44a8-ad8f-0a0618381499",
   "metadata": {},
   "outputs": [
    {
     "name": "stderr",
     "output_type": "stream",
     "text": [
      "Cloning https://huggingface.co/anubhavmaity/dummy into local empty directory.\n"
     ]
    }
   ],
   "source": [
    "repo = Repository(\"local-folder\", clone_from=\"anubhavmaity/dummy\")"
   ]
  },
  {
   "cell_type": "code",
   "execution_count": 11,
   "id": "47e7adf6-e0f3-4a33-9bdc-4e642210ae08",
   "metadata": {},
   "outputs": [
    {
     "data": {
      "text/plain": [
       "<huggingface_hub.repository.Repository at 0x10e59c640>"
      ]
     },
     "execution_count": 11,
     "metadata": {},
     "output_type": "execute_result"
    }
   ],
   "source": [
    "repo"
   ]
  },
  {
   "cell_type": "code",
   "execution_count": 12,
   "id": "ee22c85b-ce08-4ccf-9bf8-0473f8b964cc",
   "metadata": {},
   "outputs": [],
   "source": [
    "from transformers import AutoModelForSequenceClassification, AutoTokenizer"
   ]
  },
  {
   "cell_type": "code",
   "execution_count": 13,
   "id": "8853a24b-7bed-4370-a9cc-5677f9cd284d",
   "metadata": {},
   "outputs": [],
   "source": [
    "model = AutoModelForSequenceClassification.from_pretrained('ag_news_model')"
   ]
  },
  {
   "cell_type": "code",
   "execution_count": 14,
   "id": "de8da35a-70f0-48f2-9925-17058b1d58a9",
   "metadata": {},
   "outputs": [],
   "source": [
    "tokenizer = AutoTokenizer.from_pretrained('ag_news_model')"
   ]
  },
  {
   "cell_type": "code",
   "execution_count": 15,
   "id": "f7e0f2d1-6821-484a-8463-ebe2c8e1319b",
   "metadata": {},
   "outputs": [],
   "source": [
    "repo.git_pull()"
   ]
  },
  {
   "cell_type": "code",
   "execution_count": 16,
   "id": "862fd498-62e5-4c64-b8fb-bdd29623c7fc",
   "metadata": {},
   "outputs": [],
   "source": [
    "model.save_pretrained(repo.local_dir)"
   ]
  },
  {
   "cell_type": "code",
   "execution_count": 17,
   "id": "cd0d446e-6d80-45c2-9924-b5fa204049d7",
   "metadata": {},
   "outputs": [
    {
     "data": {
      "text/plain": [
       "('/Users/anubhavmaity/projects/transformers-course/local-folder/tokenizer_config.json',\n",
       " '/Users/anubhavmaity/projects/transformers-course/local-folder/special_tokens_map.json',\n",
       " '/Users/anubhavmaity/projects/transformers-course/local-folder/vocab.txt',\n",
       " '/Users/anubhavmaity/projects/transformers-course/local-folder/added_tokens.json',\n",
       " '/Users/anubhavmaity/projects/transformers-course/local-folder/tokenizer.json')"
      ]
     },
     "execution_count": 17,
     "metadata": {},
     "output_type": "execute_result"
    }
   ],
   "source": [
    "tokenizer.save_pretrained(repo.local_dir)"
   ]
  },
  {
   "cell_type": "code",
   "execution_count": 18,
   "id": "55ab6aaf-b22b-49cb-9f35-dd04a6d5cb39",
   "metadata": {},
   "outputs": [],
   "source": [
    "repo.git_add()"
   ]
  },
  {
   "cell_type": "code",
   "execution_count": 19,
   "id": "3babc3cc-f90c-4bec-91c1-7a715b89a0e3",
   "metadata": {},
   "outputs": [],
   "source": [
    "repo.git_commit(\"Added model and tokenizer\")"
   ]
  },
  {
   "cell_type": "code",
   "execution_count": 20,
   "id": "1d7a9b7b-68d0-4575-aa52-4c9c95a68a8f",
   "metadata": {},
   "outputs": [
    {
     "data": {
      "application/vnd.jupyter.widget-view+json": {
       "model_id": "ddf6ff78957b4f29916e778eea5e93d8",
       "version_major": 2,
       "version_minor": 0
      },
      "text/plain": [
       "Upload file pytorch_model.bin:   0%|          | 1.00/418M [00:00<?, ?B/s]"
      ]
     },
     "metadata": {},
     "output_type": "display_data"
    },
    {
     "name": "stderr",
     "output_type": "stream",
     "text": [
      "To https://huggingface.co/anubhavmaity/dummy\n",
      "   bd29149..adc0f17  main -> main\n",
      "\n"
     ]
    },
    {
     "data": {
      "text/plain": [
       "'https://huggingface.co/anubhavmaity/dummy/commit/adc0f17e0b65e8a027cfbc56d66e052a931163d0'"
      ]
     },
     "execution_count": 20,
     "metadata": {},
     "output_type": "execute_result"
    }
   ],
   "source": [
    "repo.git_push()"
   ]
  },
  {
   "cell_type": "code",
   "execution_count": null,
   "id": "688d4153-1f95-4951-9f64-48c3a48230c8",
   "metadata": {},
   "outputs": [],
   "source": []
  }
 ],
 "metadata": {
  "kernelspec": {
   "display_name": "transformers-course",
   "language": "python",
   "name": "transformers-course"
  },
  "language_info": {
   "codemirror_mode": {
    "name": "ipython",
    "version": 3
   },
   "file_extension": ".py",
   "mimetype": "text/x-python",
   "name": "python",
   "nbconvert_exporter": "python",
   "pygments_lexer": "ipython3",
   "version": "3.9.17"
  }
 },
 "nbformat": 4,
 "nbformat_minor": 5
}
